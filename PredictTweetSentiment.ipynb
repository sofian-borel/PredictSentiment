{
  "nbformat": 4,
  "nbformat_minor": 5,
  "metadata": {
    "colab": {
      "name": "PredictTweetSentiment.ipynb",
      "provenance": [],
      "collapsed_sections": [
        "9aHyGuTFgyPO",
        "waKjYxTDuaWt",
        "H63Y-TjyRC7S",
        "-z-Nqa3ET1Qg"
      ]
    },
    "kernelspec": {
      "display_name": "Python 3",
      "language": "python",
      "name": "python3"
    },
    "language_info": {
      "codemirror_mode": {
        "name": "ipython",
        "version": 3
      },
      "file_extension": ".py",
      "mimetype": "text/x-python",
      "name": "python",
      "nbconvert_exporter": "python",
      "pygments_lexer": "ipython3",
      "version": "3.8.5"
    },
    "widgets": {
      "application/vnd.jupyter.widget-state+json": {
        "5bb8d5503cdb49e98b719c33fb3d8da2": {
          "model_module": "@jupyter-widgets/controls",
          "model_name": "HBoxModel",
          "state": {
            "_view_name": "HBoxView",
            "_dom_classes": [],
            "_model_name": "HBoxModel",
            "_view_module": "@jupyter-widgets/controls",
            "_model_module_version": "1.5.0",
            "_view_count": null,
            "_view_module_version": "1.5.0",
            "box_style": "",
            "layout": "IPY_MODEL_a5d73eaa157144c3bc77231ae37a6bf3",
            "_model_module": "@jupyter-widgets/controls",
            "children": [
              "IPY_MODEL_ffcf409d44e04e26a55fd90f363a0145",
              "IPY_MODEL_c415f013afe74b358dd7eae596225e30"
            ]
          }
        },
        "a5d73eaa157144c3bc77231ae37a6bf3": {
          "model_module": "@jupyter-widgets/base",
          "model_name": "LayoutModel",
          "state": {
            "_view_name": "LayoutView",
            "grid_template_rows": null,
            "right": null,
            "justify_content": null,
            "_view_module": "@jupyter-widgets/base",
            "overflow": null,
            "_model_module_version": "1.2.0",
            "_view_count": null,
            "flex_flow": null,
            "width": null,
            "min_width": null,
            "border": null,
            "align_items": null,
            "bottom": null,
            "_model_module": "@jupyter-widgets/base",
            "top": null,
            "grid_column": null,
            "overflow_y": null,
            "overflow_x": null,
            "grid_auto_flow": null,
            "grid_area": null,
            "grid_template_columns": null,
            "flex": null,
            "_model_name": "LayoutModel",
            "justify_items": null,
            "grid_row": null,
            "max_height": null,
            "align_content": null,
            "visibility": null,
            "align_self": null,
            "height": null,
            "min_height": null,
            "padding": null,
            "grid_auto_rows": null,
            "grid_gap": null,
            "max_width": null,
            "order": null,
            "_view_module_version": "1.2.0",
            "grid_template_areas": null,
            "object_position": null,
            "object_fit": null,
            "grid_auto_columns": null,
            "margin": null,
            "display": null,
            "left": null
          }
        },
        "ffcf409d44e04e26a55fd90f363a0145": {
          "model_module": "@jupyter-widgets/controls",
          "model_name": "FloatProgressModel",
          "state": {
            "_view_name": "ProgressView",
            "style": "IPY_MODEL_f65ecdc822a643baab7a96a44ba2cf3b",
            "_dom_classes": [],
            "description": "Downloading: 100%",
            "_model_name": "FloatProgressModel",
            "bar_style": "success",
            "max": 213450,
            "_view_module": "@jupyter-widgets/controls",
            "_model_module_version": "1.5.0",
            "value": 213450,
            "_view_count": null,
            "_view_module_version": "1.5.0",
            "orientation": "horizontal",
            "min": 0,
            "description_tooltip": null,
            "_model_module": "@jupyter-widgets/controls",
            "layout": "IPY_MODEL_40c55a613c1940ec9651888fb4e16ff0"
          }
        },
        "c415f013afe74b358dd7eae596225e30": {
          "model_module": "@jupyter-widgets/controls",
          "model_name": "HTMLModel",
          "state": {
            "_view_name": "HTMLView",
            "style": "IPY_MODEL_78510f52f05148fcb72b3256b250cad7",
            "_dom_classes": [],
            "description": "",
            "_model_name": "HTMLModel",
            "placeholder": "​",
            "_view_module": "@jupyter-widgets/controls",
            "_model_module_version": "1.5.0",
            "value": " 213k/213k [00:00&lt;00:00, 407kB/s]",
            "_view_count": null,
            "_view_module_version": "1.5.0",
            "description_tooltip": null,
            "_model_module": "@jupyter-widgets/controls",
            "layout": "IPY_MODEL_c0b37666133643faa600fa9510366b7a"
          }
        },
        "f65ecdc822a643baab7a96a44ba2cf3b": {
          "model_module": "@jupyter-widgets/controls",
          "model_name": "ProgressStyleModel",
          "state": {
            "_view_name": "StyleView",
            "_model_name": "ProgressStyleModel",
            "description_width": "initial",
            "_view_module": "@jupyter-widgets/base",
            "_model_module_version": "1.5.0",
            "_view_count": null,
            "_view_module_version": "1.2.0",
            "bar_color": null,
            "_model_module": "@jupyter-widgets/controls"
          }
        },
        "40c55a613c1940ec9651888fb4e16ff0": {
          "model_module": "@jupyter-widgets/base",
          "model_name": "LayoutModel",
          "state": {
            "_view_name": "LayoutView",
            "grid_template_rows": null,
            "right": null,
            "justify_content": null,
            "_view_module": "@jupyter-widgets/base",
            "overflow": null,
            "_model_module_version": "1.2.0",
            "_view_count": null,
            "flex_flow": null,
            "width": null,
            "min_width": null,
            "border": null,
            "align_items": null,
            "bottom": null,
            "_model_module": "@jupyter-widgets/base",
            "top": null,
            "grid_column": null,
            "overflow_y": null,
            "overflow_x": null,
            "grid_auto_flow": null,
            "grid_area": null,
            "grid_template_columns": null,
            "flex": null,
            "_model_name": "LayoutModel",
            "justify_items": null,
            "grid_row": null,
            "max_height": null,
            "align_content": null,
            "visibility": null,
            "align_self": null,
            "height": null,
            "min_height": null,
            "padding": null,
            "grid_auto_rows": null,
            "grid_gap": null,
            "max_width": null,
            "order": null,
            "_view_module_version": "1.2.0",
            "grid_template_areas": null,
            "object_position": null,
            "object_fit": null,
            "grid_auto_columns": null,
            "margin": null,
            "display": null,
            "left": null
          }
        },
        "78510f52f05148fcb72b3256b250cad7": {
          "model_module": "@jupyter-widgets/controls",
          "model_name": "DescriptionStyleModel",
          "state": {
            "_view_name": "StyleView",
            "_model_name": "DescriptionStyleModel",
            "description_width": "",
            "_view_module": "@jupyter-widgets/base",
            "_model_module_version": "1.5.0",
            "_view_count": null,
            "_view_module_version": "1.2.0",
            "_model_module": "@jupyter-widgets/controls"
          }
        },
        "c0b37666133643faa600fa9510366b7a": {
          "model_module": "@jupyter-widgets/base",
          "model_name": "LayoutModel",
          "state": {
            "_view_name": "LayoutView",
            "grid_template_rows": null,
            "right": null,
            "justify_content": null,
            "_view_module": "@jupyter-widgets/base",
            "overflow": null,
            "_model_module_version": "1.2.0",
            "_view_count": null,
            "flex_flow": null,
            "width": null,
            "min_width": null,
            "border": null,
            "align_items": null,
            "bottom": null,
            "_model_module": "@jupyter-widgets/base",
            "top": null,
            "grid_column": null,
            "overflow_y": null,
            "overflow_x": null,
            "grid_auto_flow": null,
            "grid_area": null,
            "grid_template_columns": null,
            "flex": null,
            "_model_name": "LayoutModel",
            "justify_items": null,
            "grid_row": null,
            "max_height": null,
            "align_content": null,
            "visibility": null,
            "align_self": null,
            "height": null,
            "min_height": null,
            "padding": null,
            "grid_auto_rows": null,
            "grid_gap": null,
            "max_width": null,
            "order": null,
            "_view_module_version": "1.2.0",
            "grid_template_areas": null,
            "object_position": null,
            "object_fit": null,
            "grid_auto_columns": null,
            "margin": null,
            "display": null,
            "left": null
          }
        },
        "26e3d7ad52444edfb54e446196e34354": {
          "model_module": "@jupyter-widgets/controls",
          "model_name": "HBoxModel",
          "state": {
            "_view_name": "HBoxView",
            "_dom_classes": [],
            "_model_name": "HBoxModel",
            "_view_module": "@jupyter-widgets/controls",
            "_model_module_version": "1.5.0",
            "_view_count": null,
            "_view_module_version": "1.5.0",
            "box_style": "",
            "layout": "IPY_MODEL_dc1329bad5d74d7a868a90fc393635f1",
            "_model_module": "@jupyter-widgets/controls",
            "children": [
              "IPY_MODEL_4fc9bdc707fb4c46beb6abbbd1b4f4ce",
              "IPY_MODEL_525c09aba88c4aeb82616a24c8f0a2bc"
            ]
          }
        },
        "dc1329bad5d74d7a868a90fc393635f1": {
          "model_module": "@jupyter-widgets/base",
          "model_name": "LayoutModel",
          "state": {
            "_view_name": "LayoutView",
            "grid_template_rows": null,
            "right": null,
            "justify_content": null,
            "_view_module": "@jupyter-widgets/base",
            "overflow": null,
            "_model_module_version": "1.2.0",
            "_view_count": null,
            "flex_flow": null,
            "width": null,
            "min_width": null,
            "border": null,
            "align_items": null,
            "bottom": null,
            "_model_module": "@jupyter-widgets/base",
            "top": null,
            "grid_column": null,
            "overflow_y": null,
            "overflow_x": null,
            "grid_auto_flow": null,
            "grid_area": null,
            "grid_template_columns": null,
            "flex": null,
            "_model_name": "LayoutModel",
            "justify_items": null,
            "grid_row": null,
            "max_height": null,
            "align_content": null,
            "visibility": null,
            "align_self": null,
            "height": null,
            "min_height": null,
            "padding": null,
            "grid_auto_rows": null,
            "grid_gap": null,
            "max_width": null,
            "order": null,
            "_view_module_version": "1.2.0",
            "grid_template_areas": null,
            "object_position": null,
            "object_fit": null,
            "grid_auto_columns": null,
            "margin": null,
            "display": null,
            "left": null
          }
        },
        "4fc9bdc707fb4c46beb6abbbd1b4f4ce": {
          "model_module": "@jupyter-widgets/controls",
          "model_name": "FloatProgressModel",
          "state": {
            "_view_name": "ProgressView",
            "style": "IPY_MODEL_c976c818148c454ea85eca7720cf71d7",
            "_dom_classes": [],
            "description": "Downloading: 100%",
            "_model_name": "FloatProgressModel",
            "bar_style": "success",
            "max": 29,
            "_view_module": "@jupyter-widgets/controls",
            "_model_module_version": "1.5.0",
            "value": 29,
            "_view_count": null,
            "_view_module_version": "1.5.0",
            "orientation": "horizontal",
            "min": 0,
            "description_tooltip": null,
            "_model_module": "@jupyter-widgets/controls",
            "layout": "IPY_MODEL_0af49c667ab04c6981fdbc80ff8573fd"
          }
        },
        "525c09aba88c4aeb82616a24c8f0a2bc": {
          "model_module": "@jupyter-widgets/controls",
          "model_name": "HTMLModel",
          "state": {
            "_view_name": "HTMLView",
            "style": "IPY_MODEL_660980a8a630482196a9789ed5dc1952",
            "_dom_classes": [],
            "description": "",
            "_model_name": "HTMLModel",
            "placeholder": "​",
            "_view_module": "@jupyter-widgets/controls",
            "_model_module_version": "1.5.0",
            "value": " 29.0/29.0 [00:00&lt;00:00, 148B/s]",
            "_view_count": null,
            "_view_module_version": "1.5.0",
            "description_tooltip": null,
            "_model_module": "@jupyter-widgets/controls",
            "layout": "IPY_MODEL_6056396e5d224467a2fbd4f5397f27ed"
          }
        },
        "c976c818148c454ea85eca7720cf71d7": {
          "model_module": "@jupyter-widgets/controls",
          "model_name": "ProgressStyleModel",
          "state": {
            "_view_name": "StyleView",
            "_model_name": "ProgressStyleModel",
            "description_width": "initial",
            "_view_module": "@jupyter-widgets/base",
            "_model_module_version": "1.5.0",
            "_view_count": null,
            "_view_module_version": "1.2.0",
            "bar_color": null,
            "_model_module": "@jupyter-widgets/controls"
          }
        },
        "0af49c667ab04c6981fdbc80ff8573fd": {
          "model_module": "@jupyter-widgets/base",
          "model_name": "LayoutModel",
          "state": {
            "_view_name": "LayoutView",
            "grid_template_rows": null,
            "right": null,
            "justify_content": null,
            "_view_module": "@jupyter-widgets/base",
            "overflow": null,
            "_model_module_version": "1.2.0",
            "_view_count": null,
            "flex_flow": null,
            "width": null,
            "min_width": null,
            "border": null,
            "align_items": null,
            "bottom": null,
            "_model_module": "@jupyter-widgets/base",
            "top": null,
            "grid_column": null,
            "overflow_y": null,
            "overflow_x": null,
            "grid_auto_flow": null,
            "grid_area": null,
            "grid_template_columns": null,
            "flex": null,
            "_model_name": "LayoutModel",
            "justify_items": null,
            "grid_row": null,
            "max_height": null,
            "align_content": null,
            "visibility": null,
            "align_self": null,
            "height": null,
            "min_height": null,
            "padding": null,
            "grid_auto_rows": null,
            "grid_gap": null,
            "max_width": null,
            "order": null,
            "_view_module_version": "1.2.0",
            "grid_template_areas": null,
            "object_position": null,
            "object_fit": null,
            "grid_auto_columns": null,
            "margin": null,
            "display": null,
            "left": null
          }
        },
        "660980a8a630482196a9789ed5dc1952": {
          "model_module": "@jupyter-widgets/controls",
          "model_name": "DescriptionStyleModel",
          "state": {
            "_view_name": "StyleView",
            "_model_name": "DescriptionStyleModel",
            "description_width": "",
            "_view_module": "@jupyter-widgets/base",
            "_model_module_version": "1.5.0",
            "_view_count": null,
            "_view_module_version": "1.2.0",
            "_model_module": "@jupyter-widgets/controls"
          }
        },
        "6056396e5d224467a2fbd4f5397f27ed": {
          "model_module": "@jupyter-widgets/base",
          "model_name": "LayoutModel",
          "state": {
            "_view_name": "LayoutView",
            "grid_template_rows": null,
            "right": null,
            "justify_content": null,
            "_view_module": "@jupyter-widgets/base",
            "overflow": null,
            "_model_module_version": "1.2.0",
            "_view_count": null,
            "flex_flow": null,
            "width": null,
            "min_width": null,
            "border": null,
            "align_items": null,
            "bottom": null,
            "_model_module": "@jupyter-widgets/base",
            "top": null,
            "grid_column": null,
            "overflow_y": null,
            "overflow_x": null,
            "grid_auto_flow": null,
            "grid_area": null,
            "grid_template_columns": null,
            "flex": null,
            "_model_name": "LayoutModel",
            "justify_items": null,
            "grid_row": null,
            "max_height": null,
            "align_content": null,
            "visibility": null,
            "align_self": null,
            "height": null,
            "min_height": null,
            "padding": null,
            "grid_auto_rows": null,
            "grid_gap": null,
            "max_width": null,
            "order": null,
            "_view_module_version": "1.2.0",
            "grid_template_areas": null,
            "object_position": null,
            "object_fit": null,
            "grid_auto_columns": null,
            "margin": null,
            "display": null,
            "left": null
          }
        },
        "fbed301999b04cd393a37132a411de07": {
          "model_module": "@jupyter-widgets/controls",
          "model_name": "HBoxModel",
          "state": {
            "_view_name": "HBoxView",
            "_dom_classes": [],
            "_model_name": "HBoxModel",
            "_view_module": "@jupyter-widgets/controls",
            "_model_module_version": "1.5.0",
            "_view_count": null,
            "_view_module_version": "1.5.0",
            "box_style": "",
            "layout": "IPY_MODEL_c2c064802a8e4bc3a98be0d6e515d655",
            "_model_module": "@jupyter-widgets/controls",
            "children": [
              "IPY_MODEL_35f394b9dd204afbb148910f5c3640cf",
              "IPY_MODEL_657cd4a802f04edb82a019a865be6fa4"
            ]
          }
        },
        "c2c064802a8e4bc3a98be0d6e515d655": {
          "model_module": "@jupyter-widgets/base",
          "model_name": "LayoutModel",
          "state": {
            "_view_name": "LayoutView",
            "grid_template_rows": null,
            "right": null,
            "justify_content": null,
            "_view_module": "@jupyter-widgets/base",
            "overflow": null,
            "_model_module_version": "1.2.0",
            "_view_count": null,
            "flex_flow": null,
            "width": null,
            "min_width": null,
            "border": null,
            "align_items": null,
            "bottom": null,
            "_model_module": "@jupyter-widgets/base",
            "top": null,
            "grid_column": null,
            "overflow_y": null,
            "overflow_x": null,
            "grid_auto_flow": null,
            "grid_area": null,
            "grid_template_columns": null,
            "flex": null,
            "_model_name": "LayoutModel",
            "justify_items": null,
            "grid_row": null,
            "max_height": null,
            "align_content": null,
            "visibility": null,
            "align_self": null,
            "height": null,
            "min_height": null,
            "padding": null,
            "grid_auto_rows": null,
            "grid_gap": null,
            "max_width": null,
            "order": null,
            "_view_module_version": "1.2.0",
            "grid_template_areas": null,
            "object_position": null,
            "object_fit": null,
            "grid_auto_columns": null,
            "margin": null,
            "display": null,
            "left": null
          }
        },
        "35f394b9dd204afbb148910f5c3640cf": {
          "model_module": "@jupyter-widgets/controls",
          "model_name": "FloatProgressModel",
          "state": {
            "_view_name": "ProgressView",
            "style": "IPY_MODEL_0ac19461f3e74c69b9e579e49dcf112a",
            "_dom_classes": [],
            "description": "Downloading: 100%",
            "_model_name": "FloatProgressModel",
            "bar_style": "success",
            "max": 435797,
            "_view_module": "@jupyter-widgets/controls",
            "_model_module_version": "1.5.0",
            "value": 435797,
            "_view_count": null,
            "_view_module_version": "1.5.0",
            "orientation": "horizontal",
            "min": 0,
            "description_tooltip": null,
            "_model_module": "@jupyter-widgets/controls",
            "layout": "IPY_MODEL_88e8c7cdbe71432eb4fefde8435d63cb"
          }
        },
        "657cd4a802f04edb82a019a865be6fa4": {
          "model_module": "@jupyter-widgets/controls",
          "model_name": "HTMLModel",
          "state": {
            "_view_name": "HTMLView",
            "style": "IPY_MODEL_ce3dcb4293c940439ff3e968d7b650f6",
            "_dom_classes": [],
            "description": "",
            "_model_name": "HTMLModel",
            "placeholder": "​",
            "_view_module": "@jupyter-widgets/controls",
            "_model_module_version": "1.5.0",
            "value": " 436k/436k [00:00&lt;00:00, 3.63MB/s]",
            "_view_count": null,
            "_view_module_version": "1.5.0",
            "description_tooltip": null,
            "_model_module": "@jupyter-widgets/controls",
            "layout": "IPY_MODEL_bee62216f35b4543a0f88ca587c61197"
          }
        },
        "0ac19461f3e74c69b9e579e49dcf112a": {
          "model_module": "@jupyter-widgets/controls",
          "model_name": "ProgressStyleModel",
          "state": {
            "_view_name": "StyleView",
            "_model_name": "ProgressStyleModel",
            "description_width": "initial",
            "_view_module": "@jupyter-widgets/base",
            "_model_module_version": "1.5.0",
            "_view_count": null,
            "_view_module_version": "1.2.0",
            "bar_color": null,
            "_model_module": "@jupyter-widgets/controls"
          }
        },
        "88e8c7cdbe71432eb4fefde8435d63cb": {
          "model_module": "@jupyter-widgets/base",
          "model_name": "LayoutModel",
          "state": {
            "_view_name": "LayoutView",
            "grid_template_rows": null,
            "right": null,
            "justify_content": null,
            "_view_module": "@jupyter-widgets/base",
            "overflow": null,
            "_model_module_version": "1.2.0",
            "_view_count": null,
            "flex_flow": null,
            "width": null,
            "min_width": null,
            "border": null,
            "align_items": null,
            "bottom": null,
            "_model_module": "@jupyter-widgets/base",
            "top": null,
            "grid_column": null,
            "overflow_y": null,
            "overflow_x": null,
            "grid_auto_flow": null,
            "grid_area": null,
            "grid_template_columns": null,
            "flex": null,
            "_model_name": "LayoutModel",
            "justify_items": null,
            "grid_row": null,
            "max_height": null,
            "align_content": null,
            "visibility": null,
            "align_self": null,
            "height": null,
            "min_height": null,
            "padding": null,
            "grid_auto_rows": null,
            "grid_gap": null,
            "max_width": null,
            "order": null,
            "_view_module_version": "1.2.0",
            "grid_template_areas": null,
            "object_position": null,
            "object_fit": null,
            "grid_auto_columns": null,
            "margin": null,
            "display": null,
            "left": null
          }
        },
        "ce3dcb4293c940439ff3e968d7b650f6": {
          "model_module": "@jupyter-widgets/controls",
          "model_name": "DescriptionStyleModel",
          "state": {
            "_view_name": "StyleView",
            "_model_name": "DescriptionStyleModel",
            "description_width": "",
            "_view_module": "@jupyter-widgets/base",
            "_model_module_version": "1.5.0",
            "_view_count": null,
            "_view_module_version": "1.2.0",
            "_model_module": "@jupyter-widgets/controls"
          }
        },
        "bee62216f35b4543a0f88ca587c61197": {
          "model_module": "@jupyter-widgets/base",
          "model_name": "LayoutModel",
          "state": {
            "_view_name": "LayoutView",
            "grid_template_rows": null,
            "right": null,
            "justify_content": null,
            "_view_module": "@jupyter-widgets/base",
            "overflow": null,
            "_model_module_version": "1.2.0",
            "_view_count": null,
            "flex_flow": null,
            "width": null,
            "min_width": null,
            "border": null,
            "align_items": null,
            "bottom": null,
            "_model_module": "@jupyter-widgets/base",
            "top": null,
            "grid_column": null,
            "overflow_y": null,
            "overflow_x": null,
            "grid_auto_flow": null,
            "grid_area": null,
            "grid_template_columns": null,
            "flex": null,
            "_model_name": "LayoutModel",
            "justify_items": null,
            "grid_row": null,
            "max_height": null,
            "align_content": null,
            "visibility": null,
            "align_self": null,
            "height": null,
            "min_height": null,
            "padding": null,
            "grid_auto_rows": null,
            "grid_gap": null,
            "max_width": null,
            "order": null,
            "_view_module_version": "1.2.0",
            "grid_template_areas": null,
            "object_position": null,
            "object_fit": null,
            "grid_auto_columns": null,
            "margin": null,
            "display": null,
            "left": null
          }
        },
        "ee3aa702830541cfb8eb2f2a27aaebb2": {
          "model_module": "@jupyter-widgets/controls",
          "model_name": "HBoxModel",
          "state": {
            "_view_name": "HBoxView",
            "_dom_classes": [],
            "_model_name": "HBoxModel",
            "_view_module": "@jupyter-widgets/controls",
            "_model_module_version": "1.5.0",
            "_view_count": null,
            "_view_module_version": "1.5.0",
            "box_style": "",
            "layout": "IPY_MODEL_751664c5a58f4796ac016d4b15b6a84d",
            "_model_module": "@jupyter-widgets/controls",
            "children": [
              "IPY_MODEL_77352374efe14847ba2060912cb1dc03",
              "IPY_MODEL_fc1c8462f1854624b11bc5a9fb56f9a4"
            ]
          }
        },
        "751664c5a58f4796ac016d4b15b6a84d": {
          "model_module": "@jupyter-widgets/base",
          "model_name": "LayoutModel",
          "state": {
            "_view_name": "LayoutView",
            "grid_template_rows": null,
            "right": null,
            "justify_content": null,
            "_view_module": "@jupyter-widgets/base",
            "overflow": null,
            "_model_module_version": "1.2.0",
            "_view_count": null,
            "flex_flow": null,
            "width": null,
            "min_width": null,
            "border": null,
            "align_items": null,
            "bottom": null,
            "_model_module": "@jupyter-widgets/base",
            "top": null,
            "grid_column": null,
            "overflow_y": null,
            "overflow_x": null,
            "grid_auto_flow": null,
            "grid_area": null,
            "grid_template_columns": null,
            "flex": null,
            "_model_name": "LayoutModel",
            "justify_items": null,
            "grid_row": null,
            "max_height": null,
            "align_content": null,
            "visibility": null,
            "align_self": null,
            "height": null,
            "min_height": null,
            "padding": null,
            "grid_auto_rows": null,
            "grid_gap": null,
            "max_width": null,
            "order": null,
            "_view_module_version": "1.2.0",
            "grid_template_areas": null,
            "object_position": null,
            "object_fit": null,
            "grid_auto_columns": null,
            "margin": null,
            "display": null,
            "left": null
          }
        },
        "77352374efe14847ba2060912cb1dc03": {
          "model_module": "@jupyter-widgets/controls",
          "model_name": "FloatProgressModel",
          "state": {
            "_view_name": "ProgressView",
            "style": "IPY_MODEL_2e72e574fe4d4de8873d3cc6cd81278c",
            "_dom_classes": [],
            "description": "Downloading: 100%",
            "_model_name": "FloatProgressModel",
            "bar_style": "success",
            "max": 570,
            "_view_module": "@jupyter-widgets/controls",
            "_model_module_version": "1.5.0",
            "value": 570,
            "_view_count": null,
            "_view_module_version": "1.5.0",
            "orientation": "horizontal",
            "min": 0,
            "description_tooltip": null,
            "_model_module": "@jupyter-widgets/controls",
            "layout": "IPY_MODEL_7b91af28be0f4aa7a80205d43f80b5c0"
          }
        },
        "fc1c8462f1854624b11bc5a9fb56f9a4": {
          "model_module": "@jupyter-widgets/controls",
          "model_name": "HTMLModel",
          "state": {
            "_view_name": "HTMLView",
            "style": "IPY_MODEL_29d0f409613e439a8f4d4d176826dee4",
            "_dom_classes": [],
            "description": "",
            "_model_name": "HTMLModel",
            "placeholder": "​",
            "_view_module": "@jupyter-widgets/controls",
            "_model_module_version": "1.5.0",
            "value": " 570/570 [00:00&lt;00:00, 2.35kB/s]",
            "_view_count": null,
            "_view_module_version": "1.5.0",
            "description_tooltip": null,
            "_model_module": "@jupyter-widgets/controls",
            "layout": "IPY_MODEL_58e04d7f8d114039baae23502a712afb"
          }
        },
        "2e72e574fe4d4de8873d3cc6cd81278c": {
          "model_module": "@jupyter-widgets/controls",
          "model_name": "ProgressStyleModel",
          "state": {
            "_view_name": "StyleView",
            "_model_name": "ProgressStyleModel",
            "description_width": "initial",
            "_view_module": "@jupyter-widgets/base",
            "_model_module_version": "1.5.0",
            "_view_count": null,
            "_view_module_version": "1.2.0",
            "bar_color": null,
            "_model_module": "@jupyter-widgets/controls"
          }
        },
        "7b91af28be0f4aa7a80205d43f80b5c0": {
          "model_module": "@jupyter-widgets/base",
          "model_name": "LayoutModel",
          "state": {
            "_view_name": "LayoutView",
            "grid_template_rows": null,
            "right": null,
            "justify_content": null,
            "_view_module": "@jupyter-widgets/base",
            "overflow": null,
            "_model_module_version": "1.2.0",
            "_view_count": null,
            "flex_flow": null,
            "width": null,
            "min_width": null,
            "border": null,
            "align_items": null,
            "bottom": null,
            "_model_module": "@jupyter-widgets/base",
            "top": null,
            "grid_column": null,
            "overflow_y": null,
            "overflow_x": null,
            "grid_auto_flow": null,
            "grid_area": null,
            "grid_template_columns": null,
            "flex": null,
            "_model_name": "LayoutModel",
            "justify_items": null,
            "grid_row": null,
            "max_height": null,
            "align_content": null,
            "visibility": null,
            "align_self": null,
            "height": null,
            "min_height": null,
            "padding": null,
            "grid_auto_rows": null,
            "grid_gap": null,
            "max_width": null,
            "order": null,
            "_view_module_version": "1.2.0",
            "grid_template_areas": null,
            "object_position": null,
            "object_fit": null,
            "grid_auto_columns": null,
            "margin": null,
            "display": null,
            "left": null
          }
        },
        "29d0f409613e439a8f4d4d176826dee4": {
          "model_module": "@jupyter-widgets/controls",
          "model_name": "DescriptionStyleModel",
          "state": {
            "_view_name": "StyleView",
            "_model_name": "DescriptionStyleModel",
            "description_width": "",
            "_view_module": "@jupyter-widgets/base",
            "_model_module_version": "1.5.0",
            "_view_count": null,
            "_view_module_version": "1.2.0",
            "_model_module": "@jupyter-widgets/controls"
          }
        },
        "58e04d7f8d114039baae23502a712afb": {
          "model_module": "@jupyter-widgets/base",
          "model_name": "LayoutModel",
          "state": {
            "_view_name": "LayoutView",
            "grid_template_rows": null,
            "right": null,
            "justify_content": null,
            "_view_module": "@jupyter-widgets/base",
            "overflow": null,
            "_model_module_version": "1.2.0",
            "_view_count": null,
            "flex_flow": null,
            "width": null,
            "min_width": null,
            "border": null,
            "align_items": null,
            "bottom": null,
            "_model_module": "@jupyter-widgets/base",
            "top": null,
            "grid_column": null,
            "overflow_y": null,
            "overflow_x": null,
            "grid_auto_flow": null,
            "grid_area": null,
            "grid_template_columns": null,
            "flex": null,
            "_model_name": "LayoutModel",
            "justify_items": null,
            "grid_row": null,
            "max_height": null,
            "align_content": null,
            "visibility": null,
            "align_self": null,
            "height": null,
            "min_height": null,
            "padding": null,
            "grid_auto_rows": null,
            "grid_gap": null,
            "max_width": null,
            "order": null,
            "_view_module_version": "1.2.0",
            "grid_template_areas": null,
            "object_position": null,
            "object_fit": null,
            "grid_auto_columns": null,
            "margin": null,
            "display": null,
            "left": null
          }
        },
        "08f16ab4e45241aca9b8d38a9ddd6b11": {
          "model_module": "@jupyter-widgets/controls",
          "model_name": "HBoxModel",
          "state": {
            "_view_name": "HBoxView",
            "_dom_classes": [],
            "_model_name": "HBoxModel",
            "_view_module": "@jupyter-widgets/controls",
            "_model_module_version": "1.5.0",
            "_view_count": null,
            "_view_module_version": "1.5.0",
            "box_style": "",
            "layout": "IPY_MODEL_cc446639b17443de9bfe5bf6b0e1e0c5",
            "_model_module": "@jupyter-widgets/controls",
            "children": [
              "IPY_MODEL_45955966d06942fd970b1fc845ca3ab4",
              "IPY_MODEL_b5b9dacded5f47b5b9806f51f5ebf9d6"
            ]
          }
        },
        "cc446639b17443de9bfe5bf6b0e1e0c5": {
          "model_module": "@jupyter-widgets/base",
          "model_name": "LayoutModel",
          "state": {
            "_view_name": "LayoutView",
            "grid_template_rows": null,
            "right": null,
            "justify_content": null,
            "_view_module": "@jupyter-widgets/base",
            "overflow": null,
            "_model_module_version": "1.2.0",
            "_view_count": null,
            "flex_flow": null,
            "width": null,
            "min_width": null,
            "border": null,
            "align_items": null,
            "bottom": null,
            "_model_module": "@jupyter-widgets/base",
            "top": null,
            "grid_column": null,
            "overflow_y": null,
            "overflow_x": null,
            "grid_auto_flow": null,
            "grid_area": null,
            "grid_template_columns": null,
            "flex": null,
            "_model_name": "LayoutModel",
            "justify_items": null,
            "grid_row": null,
            "max_height": null,
            "align_content": null,
            "visibility": null,
            "align_self": null,
            "height": null,
            "min_height": null,
            "padding": null,
            "grid_auto_rows": null,
            "grid_gap": null,
            "max_width": null,
            "order": null,
            "_view_module_version": "1.2.0",
            "grid_template_areas": null,
            "object_position": null,
            "object_fit": null,
            "grid_auto_columns": null,
            "margin": null,
            "display": null,
            "left": null
          }
        },
        "45955966d06942fd970b1fc845ca3ab4": {
          "model_module": "@jupyter-widgets/controls",
          "model_name": "FloatProgressModel",
          "state": {
            "_view_name": "ProgressView",
            "style": "IPY_MODEL_92c172cc44054f359a50704307d86ba2",
            "_dom_classes": [],
            "description": "Downloading: 100%",
            "_model_name": "FloatProgressModel",
            "bar_style": "success",
            "max": 435779157,
            "_view_module": "@jupyter-widgets/controls",
            "_model_module_version": "1.5.0",
            "value": 435779157,
            "_view_count": null,
            "_view_module_version": "1.5.0",
            "orientation": "horizontal",
            "min": 0,
            "description_tooltip": null,
            "_model_module": "@jupyter-widgets/controls",
            "layout": "IPY_MODEL_86e57ff86e6e4189a9136cd04f664877"
          }
        },
        "b5b9dacded5f47b5b9806f51f5ebf9d6": {
          "model_module": "@jupyter-widgets/controls",
          "model_name": "HTMLModel",
          "state": {
            "_view_name": "HTMLView",
            "style": "IPY_MODEL_40497781de8245619768d39fe2b164ff",
            "_dom_classes": [],
            "description": "",
            "_model_name": "HTMLModel",
            "placeholder": "​",
            "_view_module": "@jupyter-widgets/controls",
            "_model_module_version": "1.5.0",
            "value": " 436M/436M [01:55&lt;00:00, 3.76MB/s]",
            "_view_count": null,
            "_view_module_version": "1.5.0",
            "description_tooltip": null,
            "_model_module": "@jupyter-widgets/controls",
            "layout": "IPY_MODEL_506e90ae854740a19c26c0739c1c9581"
          }
        },
        "92c172cc44054f359a50704307d86ba2": {
          "model_module": "@jupyter-widgets/controls",
          "model_name": "ProgressStyleModel",
          "state": {
            "_view_name": "StyleView",
            "_model_name": "ProgressStyleModel",
            "description_width": "initial",
            "_view_module": "@jupyter-widgets/base",
            "_model_module_version": "1.5.0",
            "_view_count": null,
            "_view_module_version": "1.2.0",
            "bar_color": null,
            "_model_module": "@jupyter-widgets/controls"
          }
        },
        "86e57ff86e6e4189a9136cd04f664877": {
          "model_module": "@jupyter-widgets/base",
          "model_name": "LayoutModel",
          "state": {
            "_view_name": "LayoutView",
            "grid_template_rows": null,
            "right": null,
            "justify_content": null,
            "_view_module": "@jupyter-widgets/base",
            "overflow": null,
            "_model_module_version": "1.2.0",
            "_view_count": null,
            "flex_flow": null,
            "width": null,
            "min_width": null,
            "border": null,
            "align_items": null,
            "bottom": null,
            "_model_module": "@jupyter-widgets/base",
            "top": null,
            "grid_column": null,
            "overflow_y": null,
            "overflow_x": null,
            "grid_auto_flow": null,
            "grid_area": null,
            "grid_template_columns": null,
            "flex": null,
            "_model_name": "LayoutModel",
            "justify_items": null,
            "grid_row": null,
            "max_height": null,
            "align_content": null,
            "visibility": null,
            "align_self": null,
            "height": null,
            "min_height": null,
            "padding": null,
            "grid_auto_rows": null,
            "grid_gap": null,
            "max_width": null,
            "order": null,
            "_view_module_version": "1.2.0",
            "grid_template_areas": null,
            "object_position": null,
            "object_fit": null,
            "grid_auto_columns": null,
            "margin": null,
            "display": null,
            "left": null
          }
        },
        "40497781de8245619768d39fe2b164ff": {
          "model_module": "@jupyter-widgets/controls",
          "model_name": "DescriptionStyleModel",
          "state": {
            "_view_name": "StyleView",
            "_model_name": "DescriptionStyleModel",
            "description_width": "",
            "_view_module": "@jupyter-widgets/base",
            "_model_module_version": "1.5.0",
            "_view_count": null,
            "_view_module_version": "1.2.0",
            "_model_module": "@jupyter-widgets/controls"
          }
        },
        "506e90ae854740a19c26c0739c1c9581": {
          "model_module": "@jupyter-widgets/base",
          "model_name": "LayoutModel",
          "state": {
            "_view_name": "LayoutView",
            "grid_template_rows": null,
            "right": null,
            "justify_content": null,
            "_view_module": "@jupyter-widgets/base",
            "overflow": null,
            "_model_module_version": "1.2.0",
            "_view_count": null,
            "flex_flow": null,
            "width": null,
            "min_width": null,
            "border": null,
            "align_items": null,
            "bottom": null,
            "_model_module": "@jupyter-widgets/base",
            "top": null,
            "grid_column": null,
            "overflow_y": null,
            "overflow_x": null,
            "grid_auto_flow": null,
            "grid_area": null,
            "grid_template_columns": null,
            "flex": null,
            "_model_name": "LayoutModel",
            "justify_items": null,
            "grid_row": null,
            "max_height": null,
            "align_content": null,
            "visibility": null,
            "align_self": null,
            "height": null,
            "min_height": null,
            "padding": null,
            "grid_auto_rows": null,
            "grid_gap": null,
            "max_width": null,
            "order": null,
            "_view_module_version": "1.2.0",
            "grid_template_areas": null,
            "object_position": null,
            "object_fit": null,
            "grid_auto_columns": null,
            "margin": null,
            "display": null,
            "left": null
          }
        }
      }
    }
  },
  "cells": [
    {
      "cell_type": "markdown",
      "metadata": {
        "id": "7h3mNVsr10Kj"
      },
      "source": [
        "# Predict the sentiment of a tweet and the words supporting the sentiment\n",
        "\n",
        "EL ATIFI Sofian and MIGNON Hadrien"
      ],
      "id": "7h3mNVsr10Kj"
    },
    {
      "cell_type": "markdown",
      "metadata": {
        "id": "zLfvGvcdjPsL"
      },
      "source": [
        "# Data and packages"
      ],
      "id": "zLfvGvcdjPsL"
    },
    {
      "cell_type": "code",
      "metadata": {
        "colab": {
          "base_uri": "https://localhost:8080/"
        },
        "id": "DQtmcNVes28A",
        "outputId": "52f38cd0-234c-4cfe-c1ab-0752126bd122"
      },
      "source": [
        "from google.colab import drive\n",
        "drive.mount('/content/drive')"
      ],
      "id": "DQtmcNVes28A",
      "execution_count": 2,
      "outputs": [
        {
          "output_type": "stream",
          "text": [
            "Mounted at /content/drive\n"
          ],
          "name": "stdout"
        }
      ]
    },
    {
      "cell_type": "code",
      "metadata": {
        "id": "rental-belly"
      },
      "source": [
        "import spacy\n",
        "from spacy import displacy\n",
        "import pandas as pd\n",
        "import numpy as np\n",
        "import torch\n",
        "from sklearn.model_selection import train_test_split\n",
        "from sklearn.pipeline import Pipeline\n",
        "from sklearn.metrics import confusion_matrix, classification_report, accuracy_score\n",
        "import string\n",
        "import re"
      ],
      "id": "rental-belly",
      "execution_count": 3,
      "outputs": []
    },
    {
      "cell_type": "code",
      "metadata": {
        "id": "NJ6MhJYYBCwu",
        "colab": {
          "base_uri": "https://localhost:8080/"
        },
        "outputId": "b855a08b-e62f-47ed-ffff-85961e40fdc1"
      },
      "source": [
        "!nvidia-smi\n",
        "!pip install -q -U watermark\n",
        "!pip install -qq transformers\n",
        "%reload_ext watermark\n",
        "%watermark -v -p numpy,pandas,torch,transformers"
      ],
      "id": "NJ6MhJYYBCwu",
      "execution_count": 4,
      "outputs": [
        {
          "output_type": "stream",
          "text": [
            "NVIDIA-SMI has failed because it couldn't communicate with the NVIDIA driver. Make sure that the latest NVIDIA driver is installed and running.\n",
            "\n",
            "\u001b[K     |████████████████████████████████| 2.1MB 5.6MB/s \n",
            "\u001b[K     |████████████████████████████████| 901kB 18.7MB/s \n",
            "\u001b[K     |████████████████████████████████| 3.3MB 29.1MB/s \n",
            "\u001b[?25hPython implementation: CPython\n",
            "Python version       : 3.7.10\n",
            "IPython version      : 5.5.0\n",
            "\n",
            "numpy       : 1.19.5\n",
            "pandas      : 1.1.5\n",
            "torch       : 1.8.1+cu101\n",
            "transformers: 4.5.1\n",
            "\n"
          ],
          "name": "stdout"
        }
      ]
    },
    {
      "cell_type": "code",
      "metadata": {
        "colab": {
          "base_uri": "https://localhost:8080/"
        },
        "id": "DbTH3WF_hp8h",
        "outputId": "2ecf771f-0da7-4dca-cf0f-b8934fdf59ca"
      },
      "source": [
        "import transformers\n",
        "from transformers import BertModel, BertTokenizer, AdamW, get_linear_schedule_with_warmup\n",
        "import torch\n",
        "\n",
        "import numpy as np\n",
        "import pandas as pd\n",
        "import seaborn as sns\n",
        "from pylab import rcParams\n",
        "import matplotlib.pyplot as plt\n",
        "from matplotlib import rc\n",
        "from sklearn.model_selection import train_test_split\n",
        "from sklearn.metrics import confusion_matrix, classification_report\n",
        "from collections import defaultdict\n",
        "from textwrap import wrap\n",
        "\n",
        "from torch import nn, optim\n",
        "from torch.utils.data import Dataset, DataLoader\n",
        "import torch.nn.functional as F\n",
        "\n",
        "%matplotlib inline\n",
        "%config InlineBackend.figure_format='retina'\n",
        "\n",
        "sns.set(style='whitegrid', palette='muted', font_scale=1.2)\n",
        "\n",
        "HAPPY_COLORS_PALETTE = [\"#01BEFE\", \"#FFDD00\", \"#FF7D00\", \"#FF006D\", \"#ADFF02\", \"#8F00FF\"]\n",
        "\n",
        "sns.set_palette(sns.color_palette(HAPPY_COLORS_PALETTE))\n",
        "\n",
        "rcParams['figure.figsize'] = 12, 8\n",
        "\n",
        "RANDOM_SEED = 43\n",
        "np.random.seed(RANDOM_SEED)\n",
        "torch.manual_seed(RANDOM_SEED)\n",
        "\n",
        "device = torch.device(\"cuda:0\" if torch.cuda.is_available() else \"cpu\")\n",
        "device"
      ],
      "id": "DbTH3WF_hp8h",
      "execution_count": 5,
      "outputs": [
        {
          "output_type": "execute_result",
          "data": {
            "text/plain": [
              "device(type='cpu')"
            ]
          },
          "metadata": {
            "tags": []
          },
          "execution_count": 5
        }
      ]
    },
    {
      "cell_type": "code",
      "metadata": {
        "id": "corresponding-exception"
      },
      "source": [
        "!python -m spacy download en_core_web_sm"
      ],
      "id": "corresponding-exception",
      "execution_count": null,
      "outputs": []
    },
    {
      "cell_type": "code",
      "metadata": {
        "id": "departmental-pearl"
      },
      "source": [
        "df = pd.read_csv(\"/content/drive/MyDrive/3A/ML for NLP/projet/train.csv\")\n",
        "# convert target strings to integers\n",
        "df[\"sentiment_int\"], uniques = pd.factorize(df[\"sentiment\"])"
      ],
      "id": "departmental-pearl",
      "execution_count": 7,
      "outputs": []
    },
    {
      "cell_type": "markdown",
      "metadata": {
        "id": "diqjS-jp2-Ej"
      },
      "source": [
        "# TASK1: Predict sentiment"
      ],
      "id": "diqjS-jp2-Ej"
    },
    {
      "cell_type": "code",
      "metadata": {
        "id": "acquired-potter"
      },
      "source": [
        "# Loading Spacy small model as nlp for tokenization tools\n",
        "nlp = spacy.load(\"en_core_web_sm\")"
      ],
      "id": "acquired-potter",
      "execution_count": null,
      "outputs": []
    },
    {
      "cell_type": "code",
      "metadata": {
        "colab": {
          "base_uri": "https://localhost:8080/"
        },
        "id": "LufgGi6F3Rpr",
        "outputId": "4655b787-9f68-41ce-d4d6-2ff9098fd791"
      },
      "source": [
        "# Spillting the train and test data\n",
        "RANDOM_SEED = 42\n",
        "np.random.seed(RANDOM_SEED)\n",
        "torch.manual_seed(RANDOM_SEED)\n",
        "\n",
        "df_sample = df.sample(frac=0.1)\n",
        "X = df_sample['text']\n",
        "y = df_sample['sentiment_int']\n",
        "X_train_pp, X_test_pp, y_train, y_test = train_test_split(X, y, test_size = 0.1,random_state=RANDOM_SEED)\n",
        "df_train = pd.concat([X_train_pp, y_train], axis=1)\n",
        "df_test = pd.concat([X_test_pp, y_test], axis=1)\n",
        "df_val = df_test \n",
        "print(X_train_pp.shape, y_train.shape,X_test_pp.shape,y_test.shape)"
      ],
      "id": "LufgGi6F3Rpr",
      "execution_count": null,
      "outputs": [
        {
          "output_type": "stream",
          "text": [
            "(2473,) (2473,) (275,) (275,)\n"
          ],
          "name": "stdout"
        }
      ]
    },
    {
      "cell_type": "markdown",
      "metadata": {
        "id": "b7upjb0L_81Y"
      },
      "source": [
        "## Data exploration"
      ],
      "id": "b7upjb0L_81Y"
    },
    {
      "cell_type": "markdown",
      "metadata": {
        "id": "hNnUug-zBGvS"
      },
      "source": [
        "L'étiquetage des sentiments semble un peu arbitraire, faut pas s'étonner si on fait pas des performances de folie..."
      ],
      "id": "hNnUug-zBGvS"
    },
    {
      "cell_type": "code",
      "metadata": {
        "colab": {
          "base_uri": "https://localhost:8080/",
          "height": 706
        },
        "id": "FNOdKRVP_J4V",
        "outputId": "dd873cb7-8675-4a2d-af4b-7926d79ee252"
      },
      "source": [
        "pd.set_option('display.max_colwidth', None)\n",
        "df[[\"text\",\"sentiment\"]][20:40]"
      ],
      "id": "FNOdKRVP_J4V",
      "execution_count": null,
      "outputs": [
        {
          "output_type": "execute_result",
          "data": {
            "text/html": [
              "<div>\n",
              "<style scoped>\n",
              "    .dataframe tbody tr th:only-of-type {\n",
              "        vertical-align: middle;\n",
              "    }\n",
              "\n",
              "    .dataframe tbody tr th {\n",
              "        vertical-align: top;\n",
              "    }\n",
              "\n",
              "    .dataframe thead th {\n",
              "        text-align: right;\n",
              "    }\n",
              "</style>\n",
              "<table border=\"1\" class=\"dataframe\">\n",
              "  <thead>\n",
              "    <tr style=\"text-align: right;\">\n",
              "      <th></th>\n",
              "      <th>text</th>\n",
              "      <th>sentiment</th>\n",
              "    </tr>\n",
              "  </thead>\n",
              "  <tbody>\n",
              "    <tr>\n",
              "      <th>20</th>\n",
              "      <td>oh Marly, I`m so sorry!!  I hope you find her soon!! &lt;3 &lt;3</td>\n",
              "      <td>neutral</td>\n",
              "    </tr>\n",
              "    <tr>\n",
              "      <th>21</th>\n",
              "      <td>Playing Ghost Online is really interesting. The new updates are Kirin pet and Metamorph for third job.  Can`t wait to have a dragon pet</td>\n",
              "      <td>positive</td>\n",
              "    </tr>\n",
              "    <tr>\n",
              "      <th>22</th>\n",
              "      <td>is cleaning the house for her family who is comming later today..</td>\n",
              "      <td>neutral</td>\n",
              "    </tr>\n",
              "    <tr>\n",
              "      <th>23</th>\n",
              "      <td>gotta restart my computer .. I thought Win7 was supposed to put an end to the constant rebootiness</td>\n",
              "      <td>neutral</td>\n",
              "    </tr>\n",
              "    <tr>\n",
              "      <th>24</th>\n",
              "      <td>SEe waT I Mean bOuT FoLL0w fRiiDaYs... It`S cALLed LoSe f0LloWeRs FridAy... smH</td>\n",
              "      <td>neutral</td>\n",
              "    </tr>\n",
              "    <tr>\n",
              "      <th>25</th>\n",
              "      <td>the free fillin` app on my ipod is fun, im addicted</td>\n",
              "      <td>positive</td>\n",
              "    </tr>\n",
              "    <tr>\n",
              "      <th>26</th>\n",
              "      <td>I`m sorry.</td>\n",
              "      <td>negative</td>\n",
              "    </tr>\n",
              "    <tr>\n",
              "      <th>27</th>\n",
              "      <td>On the way to Malaysia...no internet access to Twit</td>\n",
              "      <td>negative</td>\n",
              "    </tr>\n",
              "    <tr>\n",
              "      <th>28</th>\n",
              "      <td>juss came backk from Berkeleyy ; omg its madd fun out there  havent been out there in a minute . whassqoodd ?</td>\n",
              "      <td>positive</td>\n",
              "    </tr>\n",
              "    <tr>\n",
              "      <th>29</th>\n",
              "      <td>Went to sleep and there is a power cut in Noida  Power back up not working too</td>\n",
              "      <td>negative</td>\n",
              "    </tr>\n",
              "    <tr>\n",
              "      <th>30</th>\n",
              "      <td>I`m going home now. Have you seen my new twitter design? Quite....heavenly isn`****?</td>\n",
              "      <td>positive</td>\n",
              "    </tr>\n",
              "    <tr>\n",
              "      <th>31</th>\n",
              "      <td>i hope unni will make the audition . fighting dahye unni !</td>\n",
              "      <td>positive</td>\n",
              "    </tr>\n",
              "    <tr>\n",
              "      <th>32</th>\n",
              "      <td>If it is any consolation I got my BMI tested hahaha it says I am obesed  well so much for being unhappy for about 10 minutes.</td>\n",
              "      <td>negative</td>\n",
              "    </tr>\n",
              "    <tr>\n",
              "      <th>33</th>\n",
              "      <td>That`s very funny.  Cute kids.</td>\n",
              "      <td>positive</td>\n",
              "    </tr>\n",
              "    <tr>\n",
              "      <th>34</th>\n",
              "      <td>Ahhh, I slept through the game.  I`m gonna try my best to watch tomorrow though. I hope we play Army.</td>\n",
              "      <td>neutral</td>\n",
              "    </tr>\n",
              "    <tr>\n",
              "      <th>35</th>\n",
              "      <td>Thats it, its the end. Tears for Fears vs Eric Prydz, DJ Hero   http://bit.ly/2Hpbg4</td>\n",
              "      <td>neutral</td>\n",
              "    </tr>\n",
              "    <tr>\n",
              "      <th>36</th>\n",
              "      <td>Born and raised in NYC and living in Texas for the past 10 years!  I still miss NY</td>\n",
              "      <td>negative</td>\n",
              "    </tr>\n",
              "    <tr>\n",
              "      <th>37</th>\n",
              "      <td>just in case you wonder, we are really busy today and this coming with with adding tons of new blogs and updates stay tuned</td>\n",
              "      <td>neutral</td>\n",
              "    </tr>\n",
              "    <tr>\n",
              "      <th>38</th>\n",
              "      <td>i`m soooooo sleeeeepy!!! the last day o` school was today....sniffle....</td>\n",
              "      <td>negative</td>\n",
              "    </tr>\n",
              "    <tr>\n",
              "      <th>39</th>\n",
              "      <td>A little happy for the wine jeje ok it`sm my free time so who cares, jaja i love this day</td>\n",
              "      <td>positive</td>\n",
              "    </tr>\n",
              "  </tbody>\n",
              "</table>\n",
              "</div>"
            ],
            "text/plain": [
              "                                                                                                                                       text sentiment\n",
              "20                                                                               oh Marly, I`m so sorry!!  I hope you find her soon!! <3 <3   neutral\n",
              "21  Playing Ghost Online is really interesting. The new updates are Kirin pet and Metamorph for third job.  Can`t wait to have a dragon pet  positive\n",
              "22                                                                        is cleaning the house for her family who is comming later today..   neutral\n",
              "23                                       gotta restart my computer .. I thought Win7 was supposed to put an end to the constant rebootiness   neutral\n",
              "24                                                          SEe waT I Mean bOuT FoLL0w fRiiDaYs... It`S cALLed LoSe f0LloWeRs FridAy... smH   neutral\n",
              "25                                                                                      the free fillin` app on my ipod is fun, im addicted  positive\n",
              "26                                                                                                                               I`m sorry.  negative\n",
              "27                                                                                      On the way to Malaysia...no internet access to Twit  negative\n",
              "28                            juss came backk from Berkeleyy ; omg its madd fun out there  havent been out there in a minute . whassqoodd ?  positive\n",
              "29                                                           Went to sleep and there is a power cut in Noida  Power back up not working too  negative\n",
              "30                                                     I`m going home now. Have you seen my new twitter design? Quite....heavenly isn`****?  positive\n",
              "31                                                                               i hope unni will make the audition . fighting dahye unni !  positive\n",
              "32            If it is any consolation I got my BMI tested hahaha it says I am obesed  well so much for being unhappy for about 10 minutes.  negative\n",
              "33                                                                                                           That`s very funny.  Cute kids.  positive\n",
              "34                                    Ahhh, I slept through the game.  I`m gonna try my best to watch tomorrow though. I hope we play Army.   neutral\n",
              "35                                                     Thats it, its the end. Tears for Fears vs Eric Prydz, DJ Hero   http://bit.ly/2Hpbg4   neutral\n",
              "36                                                       Born and raised in NYC and living in Texas for the past 10 years!  I still miss NY  negative\n",
              "37              just in case you wonder, we are really busy today and this coming with with adding tons of new blogs and updates stay tuned   neutral\n",
              "38                                                                 i`m soooooo sleeeeepy!!! the last day o` school was today....sniffle....  negative\n",
              "39                                                A little happy for the wine jeje ok it`sm my free time so who cares, jaja i love this day  positive"
            ]
          },
          "metadata": {
            "tags": []
          },
          "execution_count": 8
        }
      ]
    },
    {
      "cell_type": "code",
      "metadata": {
        "colab": {
          "base_uri": "https://localhost:8080/"
        },
        "id": "narrow-acrylic",
        "outputId": "cdb419de-59fb-4238-d986-aea23ed3efd5"
      },
      "source": [
        "df.sentiment.value_counts()"
      ],
      "id": "narrow-acrylic",
      "execution_count": null,
      "outputs": [
        {
          "output_type": "execute_result",
          "data": {
            "text/plain": [
              "neutral     11117\n",
              "positive     8582\n",
              "negative     7781\n",
              "Name: sentiment, dtype: int64"
            ]
          },
          "metadata": {
            "tags": []
          },
          "execution_count": 9
        }
      ]
    },
    {
      "cell_type": "markdown",
      "metadata": {
        "id": "i3Fn6LDCllY0"
      },
      "source": [
        "Sci kit learn a besoin de labels de type \"integer\" pour faire de la classification."
      ],
      "id": "i3Fn6LDCllY0"
    },
    {
      "cell_type": "markdown",
      "metadata": {
        "id": "No3BxZJ9oQl1"
      },
      "source": [
        "## Preprocessing of bags of word embeddings\n"
      ],
      "id": "No3BxZJ9oQl1"
    },
    {
      "cell_type": "code",
      "metadata": {
        "id": "E-ObX8Kto-h1",
        "colab": {
          "base_uri": "https://localhost:8080/"
        },
        "outputId": "97742a81-dd0d-4382-f348-10cda5610c4a"
      },
      "source": [
        "punctuation  = \"!#$%&'()*+,-./:;<=>?@[\\]^_`{|}~\"\n",
        "!pip install emot\n",
        "import re\n",
        "from emot.emo_unicode import UNICODE_EMO, EMOTICONS\n",
        "EMOTICONS[\"<3\"]= \"Heartemo\"\n",
        "\n",
        "# Converting emojis to words\n",
        "def convert_emojis(text):\n",
        "    for emot in UNICODE_EMO:\n",
        "        text = text.replace(emot, \"_\".join(UNICODE_EMO[emot].replace(\",\",\"\").replace(\":\",\"\").split()))\n",
        "        return text\n",
        "\n",
        "#Converting emoticons to words    \n",
        "def convert_emoticons(text):\n",
        "    for emot in EMOTICONS:\n",
        "        text = re.sub(u'('+emot+')', \"_\".join(EMOTICONS[emot].replace(\",\",\"\").split()), text)\n",
        "    return text\n",
        "\n",
        "to_replace=[re.escape(i) for i in punctuation]\n",
        "replace_with=[' '+i+' ' for i in punctuation]\n",
        "\n",
        "def put_space_before_after_punctuation(x):\n",
        "    x=x.lower()\n",
        "    x=pd.DataFrame([x])[0].replace(to_replace,replace_with,regex=True)[0]\n",
        "    return x\n",
        "\n",
        "def preprocess_keep_emoticons_punctuation(s):\n",
        "    s = convert_emojis(s)\n",
        "    s = convert_emoticons(s)\n",
        "    s = s.replace(\"_\", \"\") \n",
        "    s = put_space_before_after_punctuation(s)\n",
        "\n",
        "    doc = nlp(s) #creates a list of tokens (token = word)\n",
        "    tokens = []\n",
        "    for token in doc:\n",
        "        if token.lemma_ != '-PRON-':\n",
        "            temp = token.lemma_.lower().strip()\n",
        "        else:\n",
        "            temp = token.lower_\n",
        "        tokens.append(temp)\n",
        "    \n",
        "    return tokens\n",
        "\n",
        "#preprocess_keep_emoticons_punctuation(\":) :(  !?toto! safer safest run runner running quick quicker cook\") #en"
      ],
      "id": "E-ObX8Kto-h1",
      "execution_count": null,
      "outputs": [
        {
          "output_type": "stream",
          "text": [
            "Collecting emot\n",
            "  Downloading https://files.pythonhosted.org/packages/49/07/20001ade19873de611b7b66a4d5e5aabbf190d65abea337d5deeaa2bc3de/emot-2.1-py3-none-any.whl\n",
            "Installing collected packages: emot\n",
            "Successfully installed emot-2.1\n"
          ],
          "name": "stdout"
        }
      ]
    },
    {
      "cell_type": "code",
      "metadata": {
        "colab": {
          "base_uri": "https://localhost:8080/",
          "height": 114,
          "referenced_widgets": [
            "5ba821e52e1643d8ba204c915c6fa28c",
            "ffe906b67cfb41e7be39d6f65ab7f97d",
            "c0f2847b21d44daf8749dbf0877faefc",
            "606afd424556409a98638b7ede5fc372",
            "61cc175a02754f5a80f8f668b74ce3bd",
            "6a9b3884b1d448c9883c36202dba9606",
            "a8e454d88d2d4c8c883a477bce4852d0",
            "67e7edd155814fdabd258b6a75e16cb5",
            "a283d618955e430f8e8297b32004608b",
            "d87b93bf95a143719889fd5edc4800ae",
            "bbad20b0ab0142f29b81f5416abcbe25",
            "a7b18472ec6d4c2fa188e854a0cafb4a",
            "0aa8fe2af95c47138b3fef3d1949f8b4",
            "3c578e29f1f74847b9c705e611290207",
            "b3404a3633b449c19c7d0557a918958b",
            "f829c9e891b24d42b38d5449a6c93deb"
          ]
        },
        "id": "relative-silly",
        "outputId": "185121eb-4505-4573-fd2e-19a1ca692436"
      },
      "source": [
        "from tqdm.notebook import tqdm\n",
        "import numpy as np\n",
        "\n",
        "X_train = np.array([preprocess_keep_emoticons_punctuation(s) for s in tqdm(X_train_pp)], dtype=object)\n",
        "X_test = np.array([preprocess_keep_emoticons_punctuation(s) for s in tqdm(X_test_pp)], dtype=object)\n"
      ],
      "id": "relative-silly",
      "execution_count": null,
      "outputs": [
        {
          "output_type": "display_data",
          "data": {
            "application/vnd.jupyter.widget-view+json": {
              "model_id": "5ba821e52e1643d8ba204c915c6fa28c",
              "version_minor": 0,
              "version_major": 2
            },
            "text/plain": [
              "HBox(children=(FloatProgress(value=0.0, max=2473.0), HTML(value='')))"
            ]
          },
          "metadata": {
            "tags": []
          }
        },
        {
          "output_type": "stream",
          "text": [
            "\n"
          ],
          "name": "stdout"
        },
        {
          "output_type": "display_data",
          "data": {
            "application/vnd.jupyter.widget-view+json": {
              "model_id": "a283d618955e430f8e8297b32004608b",
              "version_minor": 0,
              "version_major": 2
            },
            "text/plain": [
              "HBox(children=(FloatProgress(value=0.0, max=275.0), HTML(value='')))"
            ]
          },
          "metadata": {
            "tags": []
          }
        },
        {
          "output_type": "stream",
          "text": [
            "\n"
          ],
          "name": "stdout"
        }
      ]
    },
    {
      "cell_type": "code",
      "metadata": {
        "colab": {
          "base_uri": "https://localhost:8080/"
        },
        "id": "fIxXDjbXeoIK",
        "outputId": "74e5a274-a410-4b7e-881a-d8a30d66137d"
      },
      "source": [
        "print(X_train.shape, y_train.shape,X_test.shape,y_test.shape)"
      ],
      "id": "fIxXDjbXeoIK",
      "execution_count": null,
      "outputs": [
        {
          "output_type": "stream",
          "text": [
            "(2473,) (2473,) (275,) (275,)\n"
          ],
          "name": "stdout"
        }
      ]
    },
    {
      "cell_type": "markdown",
      "metadata": {
        "id": "jurBdUXvLcBA"
      },
      "source": [
        "#### Analyse du preprocessing"
      ],
      "id": "jurBdUXvLcBA"
    },
    {
      "cell_type": "markdown",
      "metadata": {
        "id": "JhbJqhJm_Iqj"
      },
      "source": [
        "\n",
        "Nombre de mots uniques"
      ],
      "id": "JhbJqhJm_Iqj"
    },
    {
      "cell_type": "code",
      "metadata": {
        "colab": {
          "base_uri": "https://localhost:8080/"
        },
        "id": "C1tBuep6_H5D",
        "outputId": "83853f8c-fdfa-46d0-b45f-f181fd5e4432"
      },
      "source": [
        "S = set()\n",
        "for words in X:\n",
        "  S.update(words)\n",
        "print(\"Nombre de tweets=\",len(X))\n",
        "print(\"Nombre de mots=\", len(S))"
      ],
      "id": "C1tBuep6_H5D",
      "execution_count": null,
      "outputs": [
        {
          "output_type": "stream",
          "text": [
            "Nombre de tweets= 2748\n",
            "Nombre de mots= 95\n"
          ],
          "name": "stdout"
        }
      ]
    },
    {
      "cell_type": "markdown",
      "metadata": {
        "id": "eu85yyadAIq2"
      },
      "source": [
        "Nombre de tokens maximum dans une séquence ?\n",
        "\n",
        "Si token = mots ?\n",
        "si token = caractères ? meilleur approche si trop de fautes d'orthographes dans les tweets."
      ],
      "id": "eu85yyadAIq2"
    },
    {
      "cell_type": "code",
      "metadata": {
        "colab": {
          "base_uri": "https://localhost:8080/"
        },
        "id": "yK4vftESAhij",
        "outputId": "01e7e22d-d762-45a4-a7f4-7357568aac18"
      },
      "source": [
        "S = set()\n",
        "for words in X:\n",
        "  for word in words:\n",
        "    S.update(word)\n",
        "print(\"Nombre de strings=\", len(S))"
      ],
      "id": "yK4vftESAhij",
      "execution_count": null,
      "outputs": [
        {
          "output_type": "stream",
          "text": [
            "Nombre de strings= 95\n"
          ],
          "name": "stdout"
        }
      ]
    },
    {
      "cell_type": "markdown",
      "metadata": {
        "id": "eUG8iuNiC5pu"
      },
      "source": [
        "## Bags of word and SVM"
      ],
      "id": "eUG8iuNiC5pu"
    },
    {
      "cell_type": "markdown",
      "metadata": {
        "id": "PFvH6CaZDJjw"
      },
      "source": [
        "## Modèle naïf\n",
        "\n",
        "Classifieur majoritaire"
      ],
      "id": "PFvH6CaZDJjw"
    },
    {
      "cell_type": "code",
      "metadata": {
        "colab": {
          "base_uri": "https://localhost:8080/"
        },
        "id": "individual-taiwan",
        "outputId": "3f429b05-42be-44ce-97c6-567d7e71a971"
      },
      "source": [
        "# If I always predict the class \"neutral\", I am successful in 40% of the 100 cases.\n",
        "counts = df[\"sentiment_int\"].value_counts()\n",
        "print(counts)\n",
        "print(\"accuracy of majority dummy classifier :\", counts.max()/counts.sum())"
      ],
      "id": "individual-taiwan",
      "execution_count": null,
      "outputs": [
        {
          "output_type": "stream",
          "text": [
            "0    11117\n",
            "2     8582\n",
            "1     7781\n",
            "Name: sentiment_int, dtype: int64\n",
            "accuracy of majority dummy classifier : 0.40454876273653567\n"
          ],
          "name": "stdout"
        }
      ]
    },
    {
      "cell_type": "code",
      "metadata": {
        "colab": {
          "base_uri": "https://localhost:8080/"
        },
        "id": "0oaZLnEGNfxw",
        "outputId": "389859e1-4a09-41b1-cc43-756cbc9f0dd6"
      },
      "source": [
        "# Balancy accuracy is defined as the average of recall obtained on each class.\n",
        "from sklearn.metrics import balanced_accuracy_score\n",
        "y_pred_maj = pd.Series([0]*len(y_test))\n",
        "print(\"Majority classifier \\n\")\n",
        "print(\"Balanced accuracy:\",round(balanced_accuracy_score(y_true=y_test, y_pred= y_pred_maj,  sample_weight=None, adjusted=False),4))\n",
        "print(\"Confusion matrix:\\n\",\n",
        "pd.DataFrame(confusion_matrix(y_test,y_pred_maj, normalize='true'), columns=uniques, index=uniques))"
      ],
      "id": "0oaZLnEGNfxw",
      "execution_count": null,
      "outputs": [
        {
          "output_type": "stream",
          "text": [
            "Majority classifier \n",
            "\n",
            "Balanced accuracy: 0.3333\n",
            "Confusion matrix:\n",
            "           neutral  negative  positive\n",
            "neutral       1.0       0.0       0.0\n",
            "negative      1.0       0.0       0.0\n",
            "positive      1.0       0.0       0.0\n"
          ],
          "name": "stdout"
        }
      ]
    },
    {
      "cell_type": "markdown",
      "metadata": {
        "id": "4J4N3ItpC8LO"
      },
      "source": [
        "## CountVectorizer (token occurrence matrix) + SVM\n",
        "\n",
        "CountVectorize fait mieux que le tfidf pour la catégorie neutral mais il fait moins bien pour les catégories positifs et négatifs..."
      ],
      "id": "4J4N3ItpC8LO"
    },
    {
      "cell_type": "code",
      "metadata": {
        "id": "DS2DYzTSHFQs"
      },
      "source": [
        "# Creating the model and pipeline\n",
        "from sklearn.feature_extraction.text import CountVectorizer\n",
        "countVect = CountVectorizer(max_features=300, analyzer=lambda x:x)  # tokenisation is already done in preprocess_keep_emoticons_punctuation by nlp()\n",
        "# max_feature builds a vocabulary that only consider the top max_features ordered by term frequency across the corpus.\n",
        "svm = LinearSVC()\n",
        "steps1 = [('countVect',countVect),('svm',svm)]\n",
        "pipe = Pipeline(steps1)"
      ],
      "id": "DS2DYzTSHFQs",
      "execution_count": null,
      "outputs": []
    },
    {
      "cell_type": "code",
      "metadata": {
        "id": "CxmehJ1oHFQu",
        "colab": {
          "base_uri": "https://localhost:8080/"
        },
        "outputId": "b98f7220-1c85-4df1-fa4b-8607f0139550"
      },
      "source": [
        "# Training the model\n",
        "pipe.fit(X_train,y_train)\n",
        "# Testing on the test dataset\n",
        "y_pred_count = pipe.predict(X_test)"
      ],
      "id": "CxmehJ1oHFQu",
      "execution_count": null,
      "outputs": [
        {
          "output_type": "stream",
          "text": [
            "/usr/local/lib/python3.7/dist-packages/sklearn/svm/_base.py:947: ConvergenceWarning: Liblinear failed to converge, increase the number of iterations.\n",
            "  \"the number of iterations.\", ConvergenceWarning)\n"
          ],
          "name": "stderr"
        }
      ]
    },
    {
      "cell_type": "code",
      "metadata": {
        "colab": {
          "base_uri": "https://localhost:8080/"
        },
        "id": "mJlxEgyQYDJX",
        "outputId": "085078b2-0378-4415-b85e-111330abc992"
      },
      "source": [
        "print(\"Simple counts vectorizer \\n\")\n",
        "print(\"Balanced accuracy:\",round(balanced_accuracy_score(y_true=y_test, y_pred= y_pred_count,  sample_weight=None, adjusted=False),6))\n",
        "print(\"Confusion matrix:\\n\",\n",
        "pd.DataFrame(confusion_matrix(y_test,y_pred_count, normalize='true'), columns=uniques, index=uniques))"
      ],
      "id": "mJlxEgyQYDJX",
      "execution_count": null,
      "outputs": [
        {
          "output_type": "stream",
          "text": [
            "Simple counts vectorizer \n",
            "\n",
            "Balanced accuracy: 0.58955\n",
            "Confusion matrix:\n",
            "            neutral  negative  positive\n",
            "neutral   0.728814  0.127119  0.144068\n",
            "negative  0.466667  0.466667  0.066667\n",
            "positive  0.353659  0.073171  0.573171\n"
          ],
          "name": "stdout"
        }
      ]
    },
    {
      "cell_type": "markdown",
      "metadata": {
        "id": "LgXnOi4BYnk_"
      },
      "source": [
        "## 1 gram Term Frequency-Inverse Document Frequency (TF-IDF)"
      ],
      "id": "LgXnOi4BYnk_"
    },
    {
      "cell_type": "code",
      "metadata": {
        "id": "biQtQJdUYtnq"
      },
      "source": [
        "# Creating the model and pipeline\n",
        "from sklearn.feature_extraction.text import CountVectorizer\n",
        "cv_norm = TfidfVectorizer(max_features=300, analyzer=lambda x:x) \n",
        "svm = LinearSVC()\n",
        "steps2 = [('cv',cv_norm),('svm',svm)]\n",
        "pipe = Pipeline(steps2)"
      ],
      "id": "biQtQJdUYtnq",
      "execution_count": null,
      "outputs": []
    },
    {
      "cell_type": "code",
      "metadata": {
        "id": "LhG4j28jYzBg"
      },
      "source": [
        "# Training the model\n",
        "pipe.fit(X_train,y_train)\n",
        "# Testing on the test dataset\n",
        "y_pred_count_normed = pipe.predict(X_test)"
      ],
      "id": "LhG4j28jYzBg",
      "execution_count": null,
      "outputs": []
    },
    {
      "cell_type": "code",
      "metadata": {
        "colab": {
          "base_uri": "https://localhost:8080/"
        },
        "id": "mIQ-7lu6Ytnr",
        "outputId": "95bc6302-d93f-4c9d-9116-2bc077262349"
      },
      "source": [
        "print(\"Normalized counts vectorizer \\n\")\n",
        "print(\"Balanced accuracy:\",round(balanced_accuracy_score(y_true=y_test, y_pred= y_pred_count_normed,  sample_weight=None, adjusted=False),6))\n",
        "print(\"Confusion matrix:\\n\",\n",
        "pd.DataFrame(confusion_matrix(y_test,y_pred_count_normed, normalize='true'), columns=uniques, index=uniques))"
      ],
      "id": "mIQ-7lu6Ytnr",
      "execution_count": null,
      "outputs": [
        {
          "output_type": "stream",
          "text": [
            "Normalized counts vectorizer \n",
            "\n",
            "Balanced accuracy: 0.613392\n",
            "Confusion matrix:\n",
            "            neutral  negative  positive\n",
            "neutral   0.720339  0.161017  0.118644\n",
            "negative  0.386667  0.546667  0.066667\n",
            "positive  0.329268  0.097561  0.573171\n"
          ],
          "name": "stdout"
        }
      ]
    },
    {
      "cell_type": "markdown",
      "metadata": {
        "id": "XPIixLhMmEFa"
      },
      "source": [
        "## 2 gram Term Frequency-Inverse Document Frequency (TF-IDF)"
      ],
      "id": "XPIixLhMmEFa"
    },
    {
      "cell_type": "code",
      "metadata": {
        "id": "EJFo1R0GmeP_"
      },
      "source": [
        "# Creating the model and pipeline\n",
        "from sklearn.feature_extraction.text import CountVectorizer\n",
        "cv_norm2 = TfidfVectorizer(max_features=300, analyzer=lambda x:x, ngram_range=(1,2)) \n",
        "svm = LinearSVC()\n",
        "steps3 = [('cv_norm2',cv_norm2),('svm',svm)]\n",
        "pipe = Pipeline(steps3)"
      ],
      "id": "EJFo1R0GmeP_",
      "execution_count": null,
      "outputs": []
    },
    {
      "cell_type": "code",
      "metadata": {
        "id": "S28grgV0meQK"
      },
      "source": [
        "# Training the model\n",
        "pipe.fit(X_train,y_train)\n",
        "# Testing on the test dataset\n",
        "y_pred_count_normed2 = pipe.predict(X_test)"
      ],
      "id": "S28grgV0meQK",
      "execution_count": null,
      "outputs": []
    },
    {
      "cell_type": "code",
      "metadata": {
        "colab": {
          "base_uri": "https://localhost:8080/"
        },
        "id": "nh2VARvbmeQL",
        "outputId": "06c30104-24c8-4cca-a96e-9bd7afcfc540"
      },
      "source": [
        "print(\"Normalized counts vectorizer \\n\")\n",
        "print(\"Balanced accuracy:\",round(balanced_accuracy_score(y_true=y_test, y_pred= y_pred_count_normed2,  sample_weight=None, adjusted=False),6))\n",
        "print(\"Confusion matrix:\\n\",\n",
        "pd.DataFrame(confusion_matrix(y_test,y_pred_count_normed2, normalize='true'), columns=uniques, index=uniques))"
      ],
      "id": "nh2VARvbmeQL",
      "execution_count": null,
      "outputs": [
        {
          "output_type": "stream",
          "text": [
            "Normalized counts vectorizer \n",
            "\n",
            "Balanced accuracy: 0.613392\n",
            "Confusion matrix:\n",
            "            neutral  negative  positive\n",
            "neutral   0.720339  0.161017  0.118644\n",
            "negative  0.386667  0.546667  0.066667\n",
            "positive  0.329268  0.097561  0.573171\n"
          ],
          "name": "stdout"
        }
      ]
    },
    {
      "cell_type": "markdown",
      "metadata": {
        "id": "QZpgJ-ZV3Rpx"
      },
      "source": [
        "## BERT"
      ],
      "id": "QZpgJ-ZV3Rpx"
    },
    {
      "cell_type": "code",
      "metadata": {
        "colab": {
          "base_uri": "https://localhost:8080/"
        },
        "id": "2HR-i8Fh3Rpx",
        "outputId": "45d84fbf-8322-44c9-956b-1b7cd1fee850"
      },
      "source": [
        "!nvidia-smi\n",
        "!pip install -q -U watermark\n",
        "!pip install -qq transformers\n",
        "%reload_ext watermark\n",
        "%watermark -v -p numpy,pandas,torch,transformers"
      ],
      "id": "2HR-i8Fh3Rpx",
      "execution_count": null,
      "outputs": [
        {
          "output_type": "stream",
          "text": [
            "NVIDIA-SMI has failed because it couldn't communicate with the NVIDIA driver. Make sure that the latest NVIDIA driver is installed and running.\n",
            "\n",
            "\u001b[K     |████████████████████████████████| 2.1MB 4.2MB/s \n",
            "\u001b[K     |████████████████████████████████| 901kB 38.9MB/s \n",
            "\u001b[K     |████████████████████████████████| 3.3MB 40.4MB/s \n",
            "\u001b[?25hPython implementation: CPython\n",
            "Python version       : 3.7.10\n",
            "IPython version      : 5.5.0\n",
            "\n",
            "numpy       : 1.19.5\n",
            "pandas      : 1.1.5\n",
            "torch       : 1.8.1+cu101\n",
            "transformers: 4.5.1\n",
            "\n"
          ],
          "name": "stdout"
        }
      ]
    },
    {
      "cell_type": "code",
      "metadata": {
        "colab": {
          "base_uri": "https://localhost:8080/"
        },
        "id": "hCEsBNwa3Rpx",
        "outputId": "c79f90cd-d74b-4f83-e288-66b4fee91f20"
      },
      "source": [
        "#@title Setup & Config\n",
        "import transformers\n",
        "from transformers import BertModel, BertTokenizer, AdamW, get_linear_schedule_with_warmup\n",
        "import torch\n",
        "\n",
        "import numpy as np\n",
        "import pandas as pd\n",
        "import seaborn as sns\n",
        "from pylab import rcParams\n",
        "import matplotlib.pyplot as plt\n",
        "from matplotlib import rc\n",
        "from sklearn.model_selection import train_test_split\n",
        "from sklearn.metrics import confusion_matrix, classification_report\n",
        "from collections import defaultdict\n",
        "from textwrap import wrap\n",
        "\n",
        "from torch import nn, optim\n",
        "from torch.utils.data import Dataset, DataLoader\n",
        "import torch.nn.functional as F\n",
        "\n",
        "%matplotlib inline\n",
        "%config InlineBackend.figure_format='retina'\n",
        "\n",
        "sns.set(style='whitegrid', palette='muted', font_scale=1.2)\n",
        "\n",
        "HAPPY_COLORS_PALETTE = [\"#01BEFE\", \"#FFDD00\", \"#FF7D00\", \"#FF006D\", \"#ADFF02\", \"#8F00FF\"]\n",
        "\n",
        "sns.set_palette(sns.color_palette(HAPPY_COLORS_PALETTE))\n",
        "\n",
        "rcParams['figure.figsize'] = 12, 8\n",
        "\n",
        "RANDOM_SEED = 42\n",
        "np.random.seed(RANDOM_SEED)\n",
        "torch.manual_seed(RANDOM_SEED)\n",
        "\n",
        "device = torch.device(\"cuda:0\" if torch.cuda.is_available() else \"cpu\")\n",
        "device"
      ],
      "id": "hCEsBNwa3Rpx",
      "execution_count": null,
      "outputs": [
        {
          "output_type": "execute_result",
          "data": {
            "text/plain": [
              "device(type='cpu')"
            ]
          },
          "metadata": {
            "tags": []
          },
          "execution_count": 27
        }
      ]
    },
    {
      "cell_type": "markdown",
      "metadata": {
        "id": "5Sl4IdV-3Rpz"
      },
      "source": [
        "## Data Preprocessing\n",
        "\n",
        " Here are the specific preprocessings requirements for BERT: \n",
        "\n",
        "- Add special tokens to separate sentences and do classification\n",
        "- Pass sequences of constant length (introduce padding)\n",
        "- Create array of 0s (pad token) and 1s (real token) called *attention mask*\n",
        "\n"
      ],
      "id": "5Sl4IdV-3Rpz"
    },
    {
      "cell_type": "markdown",
      "metadata": {
        "id": "VCedVLX-3Rpz"
      },
      "source": [
        "We use a cased version of BERT and tokenizer since \"BAD\" might convey more sentiment than \"bad\" for exemple. "
      ],
      "id": "VCedVLX-3Rpz"
    },
    {
      "cell_type": "code",
      "metadata": {
        "id": "Zi-BE8-b3Rpz"
      },
      "source": [
        "PRE_TRAINED_MODEL_NAME = 'bert-base-cased'"
      ],
      "id": "Zi-BE8-b3Rpz",
      "execution_count": null,
      "outputs": []
    },
    {
      "cell_type": "markdown",
      "metadata": {
        "id": "YoIlQO9J3Rpz"
      },
      "source": [
        "Let's load a pre-trained [BertTokenizer](https://huggingface.co/transformers/model_doc/bert.html#berttokenizer):"
      ],
      "id": "YoIlQO9J3Rpz"
    },
    {
      "cell_type": "code",
      "metadata": {
        "colab": {
          "base_uri": "https://localhost:8080/",
          "height": 163,
          "referenced_widgets": [
            "ff0d828247374d88b1bff61c90f2e6f9",
            "4c4f9768828343ec96f76bcf1de8044e",
            "bb1827fbe48443a1a9ad6e9a88186a4d",
            "f8db541ec3ca4dc7b2c58ff92e3784b3",
            "23a35ad3f05c4b27ba003cb7e7a71754",
            "e83e9d2832c94b6da6072ee2073b71ea",
            "21f68e1c04cc4c03858e8e7643d81da4",
            "7b7be64d351a45b6a1021942c29f8b5e",
            "beb0c13e6c7b4d6d8fe95ed56b1fd048",
            "b931e4d69cca40a3ab19e048c58ec492",
            "091c81f262fe45dd8386eaa4c638aaaa",
            "c100bfc260574523ade09965c9618967",
            "693c37684e3c4253bad66d1488e4aa7d",
            "ec3941c859f347f7bfef1a1da7015a3c",
            "1cdfc5e932bd48edb2f65b85901f4c0a",
            "2938330d56294af389a75742215cd4e3",
            "255986d90835426aa7a27235a90b384f",
            "cc87713a695046bba518a2c15a7e9d17",
            "6cea1f86c211499fbd8464fdfdb9457c",
            "2f23c21ec03543a5b8e03b32cd48336f",
            "877477b135854fb7ba9e29f9f912efaf",
            "28997051bdfb4a348abb15fe8d33e8a0",
            "516f3be7399542ed9599d915d9a5e7da",
            "d92a9f280a0f44ecb79eadb349a92842"
          ]
        },
        "id": "32pzg-_k3Rp0",
        "outputId": "5eaacb8f-6972-4aff-e7e0-f2a5598bc1fc"
      },
      "source": [
        "tokenizer = BertTokenizer.from_pretrained(PRE_TRAINED_MODEL_NAME)"
      ],
      "id": "32pzg-_k3Rp0",
      "execution_count": null,
      "outputs": [
        {
          "output_type": "display_data",
          "data": {
            "application/vnd.jupyter.widget-view+json": {
              "model_id": "ff0d828247374d88b1bff61c90f2e6f9",
              "version_minor": 0,
              "version_major": 2
            },
            "text/plain": [
              "HBox(children=(FloatProgress(value=0.0, description='Downloading', max=213450.0, style=ProgressStyle(descripti…"
            ]
          },
          "metadata": {
            "tags": []
          }
        },
        {
          "output_type": "stream",
          "text": [
            "\n"
          ],
          "name": "stdout"
        },
        {
          "output_type": "display_data",
          "data": {
            "application/vnd.jupyter.widget-view+json": {
              "model_id": "beb0c13e6c7b4d6d8fe95ed56b1fd048",
              "version_minor": 0,
              "version_major": 2
            },
            "text/plain": [
              "HBox(children=(FloatProgress(value=0.0, description='Downloading', max=29.0, style=ProgressStyle(description_w…"
            ]
          },
          "metadata": {
            "tags": []
          }
        },
        {
          "output_type": "stream",
          "text": [
            "\n"
          ],
          "name": "stdout"
        },
        {
          "output_type": "display_data",
          "data": {
            "application/vnd.jupyter.widget-view+json": {
              "model_id": "255986d90835426aa7a27235a90b384f",
              "version_minor": 0,
              "version_major": 2
            },
            "text/plain": [
              "HBox(children=(FloatProgress(value=0.0, description='Downloading', max=435797.0, style=ProgressStyle(descripti…"
            ]
          },
          "metadata": {
            "tags": []
          }
        },
        {
          "output_type": "stream",
          "text": [
            "\n"
          ],
          "name": "stdout"
        }
      ]
    },
    {
      "cell_type": "markdown",
      "metadata": {
        "id": "82w-7Hw13Rp0"
      },
      "source": [
        "### Choosing Sequence Length\n",
        "\n",
        "BERT works with fixed-length sequences. We'll use a simple strategy to choose the max length. Let's store the token length of each review:"
      ],
      "id": "82w-7Hw13Rp0"
    },
    {
      "cell_type": "code",
      "metadata": {
        "colab": {
          "base_uri": "https://localhost:8080/"
        },
        "id": "5d9sw9Iq3Rp0",
        "outputId": "66938652-6f7c-426c-8be6-552f0d1dac41"
      },
      "source": [
        "token_lens = []\n",
        "\n",
        "for txt in df.text:\n",
        "  tokens = tokenizer.encode(txt, max_length=512)\n",
        "  token_lens.append(len(tokens))"
      ],
      "id": "5d9sw9Iq3Rp0",
      "execution_count": null,
      "outputs": [
        {
          "output_type": "stream",
          "text": [
            "Truncation was not explicitly activated but `max_length` is provided a specific value, please use `truncation=True` to explicitly truncate examples to max length. Defaulting to 'longest_first' truncation strategy. If you encode pairs of sequences (GLUE-style) with the tokenizer you can select this strategy more precisely by providing a specific strategy to `truncation`.\n"
          ],
          "name": "stderr"
        }
      ]
    },
    {
      "cell_type": "markdown",
      "metadata": {
        "id": "ePfD_QGA3Rp0"
      },
      "source": [
        "and plot the distribution:"
      ],
      "id": "ePfD_QGA3Rp0"
    },
    {
      "cell_type": "code",
      "metadata": {
        "colab": {
          "base_uri": "https://localhost:8080/",
          "height": 560
        },
        "id": "nx7IHFdU3Rp0",
        "outputId": "a7cb5478-4553-4dab-d6fd-a256d702ee8e"
      },
      "source": [
        "sns.distplot(token_lens)\n",
        "plt.xlim([0, 256]);\n",
        "plt.xlabel('Token count');"
      ],
      "id": "nx7IHFdU3Rp0",
      "execution_count": null,
      "outputs": [
        {
          "output_type": "stream",
          "text": [
            "/usr/local/lib/python3.7/dist-packages/seaborn/distributions.py:2557: FutureWarning: `distplot` is a deprecated function and will be removed in a future version. Please adapt your code to use either `displot` (a figure-level function with similar flexibility) or `histplot` (an axes-level function for histograms).\n",
            "  warnings.warn(msg, FutureWarning)\n"
          ],
          "name": "stderr"
        },
        {
          "output_type": "display_data",
          "data": {
            "image/png": "[encoded data removed]",
            "text/plain": [
              "<Figure size 864x576 with 1 Axes>"
            ]
          },
          "metadata": {
            "tags": [],
            "image/png": {
              "width": 740,
              "height": 489
            }
          }
        }
      ]
    },
    {
      "cell_type": "markdown",
      "metadata": {
        "id": "5AVRPDn33Rp0"
      },
      "source": [
        "Most of the tweets contain less than 50 tokens, but we'll be on the safe side and choose a maximum length of 70."
      ],
      "id": "5AVRPDn33Rp0"
    },
    {
      "cell_type": "code",
      "metadata": {
        "id": "g8BDWGX-3Rp0"
      },
      "source": [
        "MAX_LEN = 70"
      ],
      "id": "g8BDWGX-3Rp0",
      "execution_count": null,
      "outputs": []
    },
    {
      "cell_type": "markdown",
      "metadata": {
        "id": "sSU2HZ973Rp1"
      },
      "source": [
        "We have all building blocks required to create a PyTorch dataset. Let's do it:"
      ],
      "id": "sSU2HZ973Rp1"
    },
    {
      "cell_type": "code",
      "metadata": {
        "id": "E2BPgRJ7YBK0"
      },
      "source": [
        "class GPReviewDataset(Dataset):\n",
        "\n",
        "  def __init__(self, reviews, targets, tokenizer, max_len):\n",
        "    self.reviews = reviews\n",
        "    self.targets = targets\n",
        "    self.tokenizer = tokenizer\n",
        "    self.max_len = max_len\n",
        "  \n",
        "  def __len__(self):\n",
        "    return len(self.reviews)\n",
        "  \n",
        "  def __getitem__(self, item):\n",
        "    review = str(self.reviews[item])\n",
        "    target = self.targets[item]\n",
        "\n",
        "    encoding = self.tokenizer.encode_plus(\n",
        "      review,\n",
        "      add_special_tokens=True,\n",
        "      max_length=self.max_len,\n",
        "      return_token_type_ids=False,\n",
        "      pad_to_max_length=True,\n",
        "      return_attention_mask=True,\n",
        "      return_tensors='pt',\n",
        "    )\n",
        "\n",
        "    return {\n",
        "      'review_text': review,\n",
        "      'input_ids': encoding['input_ids'].flatten(),\n",
        "      'attention_mask': encoding['attention_mask'].flatten(),\n",
        "      'targets': torch.tensor(target, dtype=torch.long)\n",
        "    }"
      ],
      "id": "E2BPgRJ7YBK0",
      "execution_count": null,
      "outputs": []
    },
    {
      "cell_type": "markdown",
      "metadata": {
        "id": "x2uwsvCYqDJK"
      },
      "source": [
        "The tokenizer is doing most of the heavy lifting for us. We also return the review texts, so it'll be easier to evaluate the predictions from our model. "
      ],
      "id": "x2uwsvCYqDJK"
    },
    {
      "cell_type": "markdown",
      "metadata": {
        "id": "J4tQ1x-vqNab"
      },
      "source": [
        "We also need to create a couple of data loaders. Here's a helper function to do it:"
      ],
      "id": "J4tQ1x-vqNab"
    },
    {
      "cell_type": "code",
      "metadata": {
        "id": "KEGqcvkuOuTX"
      },
      "source": [
        "def create_data_loader(df, tokenizer, max_len, batch_size):\n",
        "  ds = GPReviewDataset(\n",
        "    reviews=df.text.to_numpy(),\n",
        "    targets=df.sentiment_int.to_numpy(),\n",
        "    tokenizer=tokenizer,\n",
        "    max_len=max_len\n",
        "  )\n",
        "\n",
        "  return DataLoader(\n",
        "    ds,\n",
        "    batch_size=batch_size,\n",
        "    num_workers=4\n",
        "  )"
      ],
      "id": "KEGqcvkuOuTX",
      "execution_count": null,
      "outputs": []
    },
    {
      "cell_type": "code",
      "metadata": {
        "colab": {
          "base_uri": "https://localhost:8080/"
        },
        "id": "BQWPDL1T3Rp1",
        "outputId": "b462bfae-487c-4450-fc50-a2cf6ba51a4c"
      },
      "source": [
        "BATCH_SIZE = 32\n",
        "\n",
        "train_data_loader = create_data_loader(df_train, tokenizer, MAX_LEN, BATCH_SIZE)\n",
        "val_data_loader = create_data_loader(df_val, tokenizer, MAX_LEN, BATCH_SIZE)\n",
        "test_data_loader = create_data_loader(df_test, tokenizer, MAX_LEN, BATCH_SIZE)"
      ],
      "id": "BQWPDL1T3Rp1",
      "execution_count": null,
      "outputs": [
        {
          "output_type": "stream",
          "text": [
            "/usr/local/lib/python3.7/dist-packages/torch/utils/data/dataloader.py:477: UserWarning: This DataLoader will create 4 worker processes in total. Our suggested max number of worker in current system is 2, which is smaller than what this DataLoader is going to create. Please be aware that excessive worker creation might get DataLoader running slow or even freeze, lower the worker number to avoid potential slowness/freeze if necessary.\n",
            "  cpuset_checked))\n"
          ],
          "name": "stderr"
        }
      ]
    },
    {
      "cell_type": "code",
      "metadata": {
        "colab": {
          "base_uri": "https://localhost:8080/"
        },
        "id": "45Vum0mLj4Ym",
        "outputId": "164de153-c935-4980-fb57-28c505d33103"
      },
      "source": [
        "data = next(iter(train_data_loader))\n",
        "data.keys()"
      ],
      "id": "45Vum0mLj4Ym",
      "execution_count": null,
      "outputs": [
        {
          "output_type": "stream",
          "text": [
            "/usr/local/lib/python3.7/dist-packages/torch/utils/data/dataloader.py:477: UserWarning: This DataLoader will create 4 worker processes in total. Our suggested max number of worker in current system is 2, which is smaller than what this DataLoader is going to create. Please be aware that excessive worker creation might get DataLoader running slow or even freeze, lower the worker number to avoid potential slowness/freeze if necessary.\n",
            "  cpuset_checked))\n",
            "/usr/local/lib/python3.7/dist-packages/transformers/tokenization_utils_base.py:2079: FutureWarning: The `pad_to_max_length` argument is deprecated and will be removed in a future version, use `padding=True` or `padding='longest'` to pad to the longest sequence in the batch, or use `padding='max_length'` to pad to a max length. In this case, you can give a specific length with `max_length` (e.g. `max_length=45`) or leave max_length to None to pad to the maximal input size of the model (e.g. 512 for Bert).\n",
            "  FutureWarning,\n",
            "/usr/local/lib/python3.7/dist-packages/transformers/tokenization_utils_base.py:2079: FutureWarning: The `pad_to_max_length` argument is deprecated and will be removed in a future version, use `padding=True` or `padding='longest'` to pad to the longest sequence in the batch, or use `padding='max_length'` to pad to a max length. In this case, you can give a specific length with `max_length` (e.g. `max_length=45`) or leave max_length to None to pad to the maximal input size of the model (e.g. 512 for Bert).\n",
            "  FutureWarning,\n",
            "/usr/local/lib/python3.7/dist-packages/transformers/tokenization_utils_base.py:2079: FutureWarning: The `pad_to_max_length` argument is deprecated and will be removed in a future version, use `padding=True` or `padding='longest'` to pad to the longest sequence in the batch, or use `padding='max_length'` to pad to a max length. In this case, you can give a specific length with `max_length` (e.g. `max_length=45`) or leave max_length to None to pad to the maximal input size of the model (e.g. 512 for Bert).\n",
            "  FutureWarning,\n",
            "/usr/local/lib/python3.7/dist-packages/transformers/tokenization_utils_base.py:2079: FutureWarning: The `pad_to_max_length` argument is deprecated and will be removed in a future version, use `padding=True` or `padding='longest'` to pad to the longest sequence in the batch, or use `padding='max_length'` to pad to a max length. In this case, you can give a specific length with `max_length` (e.g. `max_length=45`) or leave max_length to None to pad to the maximal input size of the model (e.g. 512 for Bert).\n",
            "  FutureWarning,\n"
          ],
          "name": "stderr"
        },
        {
          "output_type": "execute_result",
          "data": {
            "text/plain": [
              "dict_keys(['review_text', 'input_ids', 'attention_mask', 'targets'])"
            ]
          },
          "metadata": {
            "tags": []
          },
          "execution_count": 36
        }
      ]
    },
    {
      "cell_type": "markdown",
      "metadata": {
        "id": "nWUiKsVo3Rp2"
      },
      "source": [
        "## Sentiment Classification with BERT and Hugging Face"
      ],
      "id": "nWUiKsVo3Rp2"
    },
    {
      "cell_type": "markdown",
      "metadata": {
        "id": "440Nd31VTHER"
      },
      "source": [
        "There are a lot of helpers that make using BERT easy with the Transformers library. Depending on the task you might want to use [BertForSequenceClassification](https://huggingface.co/transformers/model_doc/bert.html#bertforsequenceclassification), [BertForQuestionAnswering](https://huggingface.co/transformers/model_doc/bert.html#bertforquestionanswering) or something else. \n",
        "\n",
        "But who cares, right? We're *hardcore*! We'll use the basic [BertModel](https://huggingface.co/transformers/model_doc/bert.html#bertmodel) and build our sentiment classifier on top of it. Let's load the model:"
      ],
      "id": "440Nd31VTHER"
    },
    {
      "cell_type": "code",
      "metadata": {
        "id": "0P41FayISNRI",
        "colab": {
          "base_uri": "https://localhost:8080/",
          "height": 114,
          "referenced_widgets": [
            "ff0f6d4865d3450c890435d58e012163",
            "a0e9a367e2a64dd488bdaab0c0ba5478",
            "23f3fe3ba4104aceb0e2e8a59469e181",
            "57a04241ea434c7b825a78a2684b5b24",
            "1c60252def764cd683bcb983cdce38f0",
            "2c5a04da8e914211a75c6dc75f0d5568",
            "ddc58bc9ffc54fec88a36a290914191c",
            "60917d7e8f674e75a390dbb110187f35",
            "0b85c1968238438f84ae9bc1bb172fc6",
            "49de87b483844032ab9f610e32b22a23",
            "8d47e9ce1ed04e90a322a45ac4cbea93",
            "3bcbee9a55d94bddb6ea0bcf36528bd6",
            "69be838cde364501b8db6f24fad0fffe",
            "8b52ba0a15504a51bceceb2d826b92b5",
            "ca3d1dbeb3634723b1e7b9ff7a06a77e",
            "7c3bce7141ba4bc8b2dc56fbfc52904a"
          ]
        },
        "outputId": "a7c0db14-40ca-4969-9cd7-5faf4ad72b78"
      },
      "source": [
        "bert_model = BertModel.from_pretrained(PRE_TRAINED_MODEL_NAME,return_dict=False)"
      ],
      "id": "0P41FayISNRI",
      "execution_count": null,
      "outputs": [
        {
          "output_type": "display_data",
          "data": {
            "application/vnd.jupyter.widget-view+json": {
              "model_id": "ff0f6d4865d3450c890435d58e012163",
              "version_minor": 0,
              "version_major": 2
            },
            "text/plain": [
              "HBox(children=(FloatProgress(value=0.0, description='Downloading', max=433.0, style=ProgressStyle(description_…"
            ]
          },
          "metadata": {
            "tags": []
          }
        },
        {
          "output_type": "stream",
          "text": [
            "\n"
          ],
          "name": "stdout"
        },
        {
          "output_type": "display_data",
          "data": {
            "application/vnd.jupyter.widget-view+json": {
              "model_id": "0b85c1968238438f84ae9bc1bb172fc6",
              "version_minor": 0,
              "version_major": 2
            },
            "text/plain": [
              "HBox(children=(FloatProgress(value=0.0, description='Downloading', max=435779157.0, style=ProgressStyle(descri…"
            ]
          },
          "metadata": {
            "tags": []
          }
        },
        {
          "output_type": "stream",
          "text": [
            "\n"
          ],
          "name": "stdout"
        }
      ]
    },
    {
      "cell_type": "markdown",
      "metadata": {
        "id": "aFE7YSbFdY4t"
      },
      "source": [
        "And try to use it on the encoding of our sample text:"
      ],
      "id": "aFE7YSbFdY4t"
    },
    {
      "cell_type": "code",
      "metadata": {
        "id": "FvoqbViA3Rp2"
      },
      "source": [
        "class SentimentClassifier(nn.Module):\n",
        "\n",
        "  def __init__(self, n_classes):\n",
        "    super(SentimentClassifier, self).__init__()\n",
        "    self.bert = BertModel.from_pretrained(PRE_TRAINED_MODEL_NAME, return_dict=False)\n",
        "    self.drop = nn.Dropout(p=0.3)\n",
        "    self.out = nn.Linear(self.bert.config.hidden_size, n_classes) #hidden_size = d = taille d'un word embedding en sortie du transformeur\n",
        "  \n",
        "  def forward(self, input_ids, attention_mask):\n",
        "    _, pooled_output = self.bert(\n",
        "      input_ids=input_ids,\n",
        "      attention_mask=attention_mask\n",
        "      \n",
        "    )\n",
        "    output = self.drop(pooled_output)\n",
        "    \n",
        "    return self.out(output)"
      ],
      "id": "FvoqbViA3Rp2",
      "execution_count": null,
      "outputs": []
    },
    {
      "cell_type": "markdown",
      "metadata": {
        "id": "UJg8m3NQJahc"
      },
      "source": [
        "Our classifier delegates most of the heavy lifting to the BertModel. We use a dropout layer for some regularization and a fully-connected layer for our output. Note that we're returning the raw output of the last layer since that is required for the cross-entropy loss function in PyTorch to work.\n",
        "\n",
        "This should work like any other PyTorch model. Let's create an instance and move it to the GPU:"
      ],
      "id": "UJg8m3NQJahc"
    },
    {
      "cell_type": "code",
      "metadata": {
        "id": "EE-2er8I3Rp3"
      },
      "source": [
        "model = SentimentClassifier(n_classes=3)\n",
        "model = model.to(device)"
      ],
      "id": "EE-2er8I3Rp3",
      "execution_count": null,
      "outputs": []
    },
    {
      "cell_type": "markdown",
      "metadata": {
        "id": "-aSCYRCc3Rp3"
      },
      "source": [
        "We'll move the example batch of our training data to the GPU:"
      ],
      "id": "-aSCYRCc3Rp3"
    },
    {
      "cell_type": "code",
      "metadata": {
        "id": "mz7p__CqdaMO",
        "colab": {
          "base_uri": "https://localhost:8080/"
        },
        "outputId": "d0dcae04-868d-4518-a4fd-8fc4f87977be"
      },
      "source": [
        "input_ids = data['input_ids'].to(device)\n",
        "print(input_ids)\n",
        "attention_mask = data['attention_mask'].to(device)\n",
        "\n",
        "print(input_ids.shape) # batch size x seq length\n",
        "print(attention_mask.shape) # batch size x seq length"
      ],
      "id": "mz7p__CqdaMO",
      "execution_count": null,
      "outputs": [
        {
          "output_type": "stream",
          "text": [
            "tensor([[  101,  3046, 22232,  ...,     0,     0,     0],\n",
            "        [  101, 15276,  6262,  ...,     0,     0,     0],\n",
            "        [  101,  6243,  1128,  ...,     0,     0,     0],\n",
            "        ...,\n",
            "        [  101,   178,   169,  ...,     0,     0,     0],\n",
            "        [  101,  1192,   169,  ...,     0,     0,     0],\n",
            "        [  101,  8413,   131,  ...,     0,     0,     0]])\n",
            "torch.Size([32, 70])\n",
            "torch.Size([32, 70])\n"
          ],
          "name": "stdout"
        }
      ]
    },
    {
      "cell_type": "markdown",
      "metadata": {
        "id": "Hr1EgkEtKOIB"
      },
      "source": [
        "To get the predicted probabilities from our trained model, we'll apply the softmax function to the outputs:"
      ],
      "id": "Hr1EgkEtKOIB"
    },
    {
      "cell_type": "code",
      "metadata": {
        "id": "2rTCj46Zamry",
        "colab": {
          "base_uri": "https://localhost:8080/"
        },
        "outputId": "6841406b-0ecb-49df-c7d8-c57b3c97fd09"
      },
      "source": [
        "F.softmax(model(input_ids, attention_mask), dim=1)"
      ],
      "id": "2rTCj46Zamry",
      "execution_count": null,
      "outputs": [
        {
          "output_type": "execute_result",
          "data": {
            "text/plain": [
              "tensor([[0.5263, 0.1911, 0.2826],\n",
              "        [0.4109, 0.1274, 0.4616],\n",
              "        [0.4837, 0.1235, 0.3927],\n",
              "        [0.4982, 0.0770, 0.4248],\n",
              "        [0.4655, 0.1559, 0.3786],\n",
              "        [0.3695, 0.1659, 0.4646],\n",
              "        [0.4193, 0.1595, 0.4212],\n",
              "        [0.4136, 0.1722, 0.4142],\n",
              "        [0.4338, 0.0906, 0.4756],\n",
              "        [0.4476, 0.1203, 0.4321],\n",
              "        [0.4460, 0.1588, 0.3953],\n",
              "        [0.3482, 0.1477, 0.5041],\n",
              "        [0.5575, 0.1097, 0.3328],\n",
              "        [0.2929, 0.2213, 0.4857],\n",
              "        [0.3971, 0.0852, 0.5177],\n",
              "        [0.6269, 0.1048, 0.2683],\n",
              "        [0.3848, 0.2081, 0.4072],\n",
              "        [0.5470, 0.0842, 0.3688],\n",
              "        [0.4078, 0.1500, 0.4422],\n",
              "        [0.5088, 0.1405, 0.3507],\n",
              "        [0.4033, 0.1671, 0.4296],\n",
              "        [0.4273, 0.1949, 0.3778],\n",
              "        [0.4252, 0.1878, 0.3870],\n",
              "        [0.5867, 0.1200, 0.2933],\n",
              "        [0.4424, 0.2081, 0.3494],\n",
              "        [0.4196, 0.1342, 0.4462],\n",
              "        [0.4332, 0.0782, 0.4887],\n",
              "        [0.5444, 0.1029, 0.3527],\n",
              "        [0.4136, 0.1470, 0.4394],\n",
              "        [0.4137, 0.2489, 0.3373],\n",
              "        [0.4523, 0.1065, 0.4412],\n",
              "        [0.5337, 0.1045, 0.3618]], grad_fn=<SoftmaxBackward>)"
            ]
          },
          "metadata": {
            "tags": []
          },
          "execution_count": 41
        }
      ]
    },
    {
      "cell_type": "markdown",
      "metadata": {
        "id": "3vKB3C1W3Rp3"
      },
      "source": [
        "### Training"
      ],
      "id": "3vKB3C1W3Rp3"
    },
    {
      "cell_type": "markdown",
      "metadata": {
        "id": "76g7FV85H-T8"
      },
      "source": [
        "To reproduce the training procedure from the BERT paper, we'll use the [AdamW](https://huggingface.co/transformers/main_classes/optimizer_schedules.html#adamw) optimizer provided by Hugging Face. It corrects weight decay, so it's similar to the original paper. We'll also use a linear scheduler with no warmup steps:"
      ],
      "id": "76g7FV85H-T8"
    },
    {
      "cell_type": "code",
      "metadata": {
        "id": "WIzFAWJp3Rp4"
      },
      "source": [
        "EPOCHS = 3\n",
        "\n",
        "optimizer = AdamW(model.parameters(), lr=2e-5, correct_bias=False)\n",
        "total_steps = len(train_data_loader) * EPOCHS\n",
        "\n",
        "scheduler = get_linear_schedule_with_warmup(\n",
        "  optimizer,\n",
        "  num_warmup_steps=0,\n",
        "  num_training_steps=total_steps\n",
        ")\n",
        "\n",
        "loss_fn = nn.CrossEntropyLoss().to(device)"
      ],
      "id": "WIzFAWJp3Rp4",
      "execution_count": null,
      "outputs": []
    },
    {
      "cell_type": "markdown",
      "metadata": {
        "id": "A8522g7JIu5J"
      },
      "source": [
        "How do we come up with all hyperparameters? The BERT authors have some recommendations for fine-tuning:\n",
        "\n",
        "- Batch size: 16, 32\n",
        "- Learning rate (Adam): 5e-5, 3e-5, 2e-5\n",
        "- Number of epochs: 2, 3, 4\n",
        "\n",
        "We're going to ignore the number of epochs recommendation but stick with the rest. Note that increasing the batch size reduces the training time significantly, but gives you lower accuracy.\n",
        "\n",
        "Let's continue with writing a helper function for training our model for one epoch:"
      ],
      "id": "A8522g7JIu5J"
    },
    {
      "cell_type": "code",
      "metadata": {
        "id": "bzl9UhuNx1_Q"
      },
      "source": [
        "def train_epoch(\n",
        "  model, \n",
        "  data_loader, \n",
        "  loss_fn, \n",
        "  optimizer, \n",
        "  device, \n",
        "  scheduler, \n",
        "  n_examples\n",
        "):\n",
        "  model = model.train()\n",
        "\n",
        "  losses = []\n",
        "  correct_predictions = 0\n",
        "  \n",
        "  for d in data_loader:\n",
        "    input_ids = d[\"input_ids\"].to(device)\n",
        "    attention_mask = d[\"attention_mask\"].to(device)\n",
        "    targets = d[\"targets\"].to(device)\n",
        "\n",
        "    outputs = model(\n",
        "      input_ids=input_ids,\n",
        "      attention_mask=attention_mask\n",
        "    )\n",
        "\n",
        "    _, preds = torch.max(outputs, dim=1)\n",
        "    loss = loss_fn(outputs, targets)\n",
        "\n",
        "    correct_predictions += torch.sum(preds == targets)\n",
        "    losses.append(loss.item())\n",
        "\n",
        "    loss.backward()\n",
        "    nn.utils.clip_grad_norm_(model.parameters(), max_norm=1.0)\n",
        "    optimizer.step()\n",
        "    scheduler.step()\n",
        "    optimizer.zero_grad()\n",
        "\n",
        "  return correct_predictions.double() / n_examples, np.mean(losses)"
      ],
      "id": "bzl9UhuNx1_Q",
      "execution_count": null,
      "outputs": []
    },
    {
      "cell_type": "markdown",
      "metadata": {
        "id": "E4PniYIte0fr"
      },
      "source": [
        "Training the model should look familiar, except for two things. The scheduler gets called every time a batch is fed to the model. We're avoiding exploding gradients by clipping the gradients of the model using [clip_grad_norm_](https://pytorch.org/docs/stable/nn.html#clip-grad-norm).\n",
        "\n",
        "Let's write another one that helps us evaluate the model on a given data loader:"
      ],
      "id": "E4PniYIte0fr"
    },
    {
      "cell_type": "code",
      "metadata": {
        "id": "EN8qYWZ23Rp4"
      },
      "source": [
        "def eval_model(model, data_loader, loss_fn, device, n_examples):\n",
        "  model = model.eval()\n",
        "\n",
        "  losses = []\n",
        "  correct_predictions = 0\n",
        "\n",
        "  with torch.no_grad():\n",
        "    for d in data_loader:\n",
        "      input_ids = d[\"input_ids\"].to(device)\n",
        "      attention_mask = d[\"attention_mask\"].to(device)\n",
        "      targets = d[\"targets\"].to(device)\n",
        "\n",
        "      outputs = model(\n",
        "        input_ids=input_ids,\n",
        "        attention_mask=attention_mask\n",
        "      )\n",
        "      _, preds = torch.max(outputs, dim=1)\n",
        "\n",
        "      loss = loss_fn(outputs, targets)\n",
        "\n",
        "      correct_predictions += torch.sum(preds == targets)\n",
        "      losses.append(loss.item())\n",
        "\n",
        "  return correct_predictions.double() / n_examples, np.mean(losses)"
      ],
      "id": "EN8qYWZ23Rp4",
      "execution_count": null,
      "outputs": []
    },
    {
      "cell_type": "markdown",
      "metadata": {
        "id": "7dw3OV3L3Rp4"
      },
      "source": [
        "Using those two, we can write our training loop. We'll also store the training history:"
      ],
      "id": "7dw3OV3L3Rp4"
    },
    {
      "cell_type": "code",
      "metadata": {
        "colab": {
          "base_uri": "https://localhost:8080/"
        },
        "id": "0-JuRsCp3Rp4",
        "outputId": "20cdc832-ef39-4bd1-bc51-34c104ce5dfa"
      },
      "source": [
        "%%time\n",
        "\n",
        "history = defaultdict(list)\n",
        "best_accuracy = 0\n",
        "\n",
        "for epoch in range(EPOCHS):\n",
        "\n",
        "  print(f'Epoch {epoch + 1}/{EPOCHS}')\n",
        "  print('-' * 10)\n",
        "\n",
        "  train_acc, train_loss = train_epoch(\n",
        "    model,\n",
        "    train_data_loader,    \n",
        "    loss_fn, \n",
        "    optimizer, \n",
        "    device, \n",
        "    scheduler, \n",
        "    len(df_train)\n",
        "  )\n",
        "\n",
        "  print(f'Train loss {train_loss} accuracy {train_acc}')\n",
        "\n",
        "  val_acc, val_loss = eval_model(\n",
        "    model,\n",
        "    val_data_loader,\n",
        "    loss_fn, \n",
        "    device, \n",
        "    len(df_val)\n",
        "  )\n",
        "\n",
        "  print(f'Val   loss {val_loss} accuracy {val_acc}')\n",
        "  print()\n",
        "\n",
        "  history['train_acc'].append(train_acc)\n",
        "  history['train_loss'].append(train_loss)\n",
        "  history['val_acc'].append(val_acc)\n",
        "  history['val_loss'].append(val_loss)\n",
        "\n",
        "  if val_acc > best_accuracy:\n",
        "    torch.save(model.state_dict(), 'best_model_state.bin')\n",
        "    best_accuracy = val_acc"
      ],
      "id": "0-JuRsCp3Rp4",
      "execution_count": null,
      "outputs": [
        {
          "output_type": "stream",
          "text": [
            "Epoch 1/3\n",
            "----------\n"
          ],
          "name": "stdout"
        },
        {
          "output_type": "stream",
          "text": [
            "/usr/local/lib/python3.7/dist-packages/torch/utils/data/dataloader.py:477: UserWarning: This DataLoader will create 4 worker processes in total. Our suggested max number of worker in current system is 2, which is smaller than what this DataLoader is going to create. Please be aware that excessive worker creation might get DataLoader running slow or even freeze, lower the worker number to avoid potential slowness/freeze if necessary.\n",
            "  cpuset_checked))\n",
            "/usr/local/lib/python3.7/dist-packages/transformers/tokenization_utils_base.py:2079: FutureWarning: The `pad_to_max_length` argument is deprecated and will be removed in a future version, use `padding=True` or `padding='longest'` to pad to the longest sequence in the batch, or use `padding='max_length'` to pad to a max length. In this case, you can give a specific length with `max_length` (e.g. `max_length=45`) or leave max_length to None to pad to the maximal input size of the model (e.g. 512 for Bert).\n",
            "  FutureWarning,\n",
            "/usr/local/lib/python3.7/dist-packages/transformers/tokenization_utils_base.py:2079: FutureWarning: The `pad_to_max_length` argument is deprecated and will be removed in a future version, use `padding=True` or `padding='longest'` to pad to the longest sequence in the batch, or use `padding='max_length'` to pad to a max length. In this case, you can give a specific length with `max_length` (e.g. `max_length=45`) or leave max_length to None to pad to the maximal input size of the model (e.g. 512 for Bert).\n",
            "  FutureWarning,\n",
            "/usr/local/lib/python3.7/dist-packages/transformers/tokenization_utils_base.py:2079: FutureWarning: The `pad_to_max_length` argument is deprecated and will be removed in a future version, use `padding=True` or `padding='longest'` to pad to the longest sequence in the batch, or use `padding='max_length'` to pad to a max length. In this case, you can give a specific length with `max_length` (e.g. `max_length=45`) or leave max_length to None to pad to the maximal input size of the model (e.g. 512 for Bert).\n",
            "  FutureWarning,\n",
            "/usr/local/lib/python3.7/dist-packages/transformers/tokenization_utils_base.py:2079: FutureWarning: The `pad_to_max_length` argument is deprecated and will be removed in a future version, use `padding=True` or `padding='longest'` to pad to the longest sequence in the batch, or use `padding='max_length'` to pad to a max length. In this case, you can give a specific length with `max_length` (e.g. `max_length=45`) or leave max_length to None to pad to the maximal input size of the model (e.g. 512 for Bert).\n",
            "  FutureWarning,\n"
          ],
          "name": "stderr"
        },
        {
          "output_type": "stream",
          "text": [
            "Train loss 0.8251218864550958 accuracy 0.6215123331985443\n"
          ],
          "name": "stdout"
        },
        {
          "output_type": "stream",
          "text": [
            "/usr/local/lib/python3.7/dist-packages/transformers/tokenization_utils_base.py:2079: FutureWarning: The `pad_to_max_length` argument is deprecated and will be removed in a future version, use `padding=True` or `padding='longest'` to pad to the longest sequence in the batch, or use `padding='max_length'` to pad to a max length. In this case, you can give a specific length with `max_length` (e.g. `max_length=45`) or leave max_length to None to pad to the maximal input size of the model (e.g. 512 for Bert).\n",
            "  FutureWarning,\n",
            "/usr/local/lib/python3.7/dist-packages/transformers/tokenization_utils_base.py:2079: FutureWarning: The `pad_to_max_length` argument is deprecated and will be removed in a future version, use `padding=True` or `padding='longest'` to pad to the longest sequence in the batch, or use `padding='max_length'` to pad to a max length. In this case, you can give a specific length with `max_length` (e.g. `max_length=45`) or leave max_length to None to pad to the maximal input size of the model (e.g. 512 for Bert).\n",
            "  FutureWarning,\n",
            "/usr/local/lib/python3.7/dist-packages/transformers/tokenization_utils_base.py:2079: FutureWarning: The `pad_to_max_length` argument is deprecated and will be removed in a future version, use `padding=True` or `padding='longest'` to pad to the longest sequence in the batch, or use `padding='max_length'` to pad to a max length. In this case, you can give a specific length with `max_length` (e.g. `max_length=45`) or leave max_length to None to pad to the maximal input size of the model (e.g. 512 for Bert).\n",
            "  FutureWarning,\n",
            "/usr/local/lib/python3.7/dist-packages/transformers/tokenization_utils_base.py:2079: FutureWarning: The `pad_to_max_length` argument is deprecated and will be removed in a future version, use `padding=True` or `padding='longest'` to pad to the longest sequence in the batch, or use `padding='max_length'` to pad to a max length. In this case, you can give a specific length with `max_length` (e.g. `max_length=45`) or leave max_length to None to pad to the maximal input size of the model (e.g. 512 for Bert).\n",
            "  FutureWarning,\n"
          ],
          "name": "stderr"
        },
        {
          "output_type": "stream",
          "text": [
            "Val   loss 0.6532224482960172 accuracy 0.7272727272727273\n",
            "\n",
            "Epoch 2/3\n",
            "----------\n"
          ],
          "name": "stdout"
        },
        {
          "output_type": "stream",
          "text": [
            "/usr/local/lib/python3.7/dist-packages/transformers/tokenization_utils_base.py:2079: FutureWarning: The `pad_to_max_length` argument is deprecated and will be removed in a future version, use `padding=True` or `padding='longest'` to pad to the longest sequence in the batch, or use `padding='max_length'` to pad to a max length. In this case, you can give a specific length with `max_length` (e.g. `max_length=45`) or leave max_length to None to pad to the maximal input size of the model (e.g. 512 for Bert).\n",
            "  FutureWarning,\n",
            "/usr/local/lib/python3.7/dist-packages/transformers/tokenization_utils_base.py:2079: FutureWarning: The `pad_to_max_length` argument is deprecated and will be removed in a future version, use `padding=True` or `padding='longest'` to pad to the longest sequence in the batch, or use `padding='max_length'` to pad to a max length. In this case, you can give a specific length with `max_length` (e.g. `max_length=45`) or leave max_length to None to pad to the maximal input size of the model (e.g. 512 for Bert).\n",
            "  FutureWarning,\n",
            "/usr/local/lib/python3.7/dist-packages/transformers/tokenization_utils_base.py:2079: FutureWarning: The `pad_to_max_length` argument is deprecated and will be removed in a future version, use `padding=True` or `padding='longest'` to pad to the longest sequence in the batch, or use `padding='max_length'` to pad to a max length. In this case, you can give a specific length with `max_length` (e.g. `max_length=45`) or leave max_length to None to pad to the maximal input size of the model (e.g. 512 for Bert).\n",
            "  FutureWarning,\n",
            "/usr/local/lib/python3.7/dist-packages/transformers/tokenization_utils_base.py:2079: FutureWarning: The `pad_to_max_length` argument is deprecated and will be removed in a future version, use `padding=True` or `padding='longest'` to pad to the longest sequence in the batch, or use `padding='max_length'` to pad to a max length. In this case, you can give a specific length with `max_length` (e.g. `max_length=45`) or leave max_length to None to pad to the maximal input size of the model (e.g. 512 for Bert).\n",
            "  FutureWarning,\n"
          ],
          "name": "stderr"
        },
        {
          "output_type": "stream",
          "text": [
            "Train loss 0.44009998870583683 accuracy 0.8362312980186009\n"
          ],
          "name": "stdout"
        },
        {
          "output_type": "stream",
          "text": [
            "/usr/local/lib/python3.7/dist-packages/transformers/tokenization_utils_base.py:2079: FutureWarning: The `pad_to_max_length` argument is deprecated and will be removed in a future version, use `padding=True` or `padding='longest'` to pad to the longest sequence in the batch, or use `padding='max_length'` to pad to a max length. In this case, you can give a specific length with `max_length` (e.g. `max_length=45`) or leave max_length to None to pad to the maximal input size of the model (e.g. 512 for Bert).\n",
            "  FutureWarning,\n",
            "/usr/local/lib/python3.7/dist-packages/transformers/tokenization_utils_base.py:2079: FutureWarning: The `pad_to_max_length` argument is deprecated and will be removed in a future version, use `padding=True` or `padding='longest'` to pad to the longest sequence in the batch, or use `padding='max_length'` to pad to a max length. In this case, you can give a specific length with `max_length` (e.g. `max_length=45`) or leave max_length to None to pad to the maximal input size of the model (e.g. 512 for Bert).\n",
            "  FutureWarning,\n",
            "/usr/local/lib/python3.7/dist-packages/transformers/tokenization_utils_base.py:2079: FutureWarning: The `pad_to_max_length` argument is deprecated and will be removed in a future version, use `padding=True` or `padding='longest'` to pad to the longest sequence in the batch, or use `padding='max_length'` to pad to a max length. In this case, you can give a specific length with `max_length` (e.g. `max_length=45`) or leave max_length to None to pad to the maximal input size of the model (e.g. 512 for Bert).\n",
            "  FutureWarning,\n",
            "/usr/local/lib/python3.7/dist-packages/transformers/tokenization_utils_base.py:2079: FutureWarning: The `pad_to_max_length` argument is deprecated and will be removed in a future version, use `padding=True` or `padding='longest'` to pad to the longest sequence in the batch, or use `padding='max_length'` to pad to a max length. In this case, you can give a specific length with `max_length` (e.g. `max_length=45`) or leave max_length to None to pad to the maximal input size of the model (e.g. 512 for Bert).\n",
            "  FutureWarning,\n"
          ],
          "name": "stderr"
        },
        {
          "output_type": "stream",
          "text": [
            "Val   loss 0.6645243598355187 accuracy 0.7527272727272727\n",
            "\n",
            "Epoch 3/3\n",
            "----------\n"
          ],
          "name": "stdout"
        },
        {
          "output_type": "stream",
          "text": [
            "/usr/local/lib/python3.7/dist-packages/transformers/tokenization_utils_base.py:2079: FutureWarning: The `pad_to_max_length` argument is deprecated and will be removed in a future version, use `padding=True` or `padding='longest'` to pad to the longest sequence in the batch, or use `padding='max_length'` to pad to a max length. In this case, you can give a specific length with `max_length` (e.g. `max_length=45`) or leave max_length to None to pad to the maximal input size of the model (e.g. 512 for Bert).\n",
            "  FutureWarning,\n",
            "/usr/local/lib/python3.7/dist-packages/transformers/tokenization_utils_base.py:2079: FutureWarning: The `pad_to_max_length` argument is deprecated and will be removed in a future version, use `padding=True` or `padding='longest'` to pad to the longest sequence in the batch, or use `padding='max_length'` to pad to a max length. In this case, you can give a specific length with `max_length` (e.g. `max_length=45`) or leave max_length to None to pad to the maximal input size of the model (e.g. 512 for Bert).\n",
            "  FutureWarning,\n",
            "/usr/local/lib/python3.7/dist-packages/transformers/tokenization_utils_base.py:2079: FutureWarning: The `pad_to_max_length` argument is deprecated and will be removed in a future version, use `padding=True` or `padding='longest'` to pad to the longest sequence in the batch, or use `padding='max_length'` to pad to a max length. In this case, you can give a specific length with `max_length` (e.g. `max_length=45`) or leave max_length to None to pad to the maximal input size of the model (e.g. 512 for Bert).\n",
            "  FutureWarning,\n",
            "/usr/local/lib/python3.7/dist-packages/transformers/tokenization_utils_base.py:2079: FutureWarning: The `pad_to_max_length` argument is deprecated and will be removed in a future version, use `padding=True` or `padding='longest'` to pad to the longest sequence in the batch, or use `padding='max_length'` to pad to a max length. In this case, you can give a specific length with `max_length` (e.g. `max_length=45`) or leave max_length to None to pad to the maximal input size of the model (e.g. 512 for Bert).\n",
            "  FutureWarning,\n"
          ],
          "name": "stderr"
        },
        {
          "output_type": "stream",
          "text": [
            "Train loss 0.2501697385062774 accuracy 0.9203396684189243\n"
          ],
          "name": "stdout"
        },
        {
          "output_type": "stream",
          "text": [
            "/usr/local/lib/python3.7/dist-packages/transformers/tokenization_utils_base.py:2079: FutureWarning: The `pad_to_max_length` argument is deprecated and will be removed in a future version, use `padding=True` or `padding='longest'` to pad to the longest sequence in the batch, or use `padding='max_length'` to pad to a max length. In this case, you can give a specific length with `max_length` (e.g. `max_length=45`) or leave max_length to None to pad to the maximal input size of the model (e.g. 512 for Bert).\n",
            "  FutureWarning,\n",
            "/usr/local/lib/python3.7/dist-packages/transformers/tokenization_utils_base.py:2079: FutureWarning: The `pad_to_max_length` argument is deprecated and will be removed in a future version, use `padding=True` or `padding='longest'` to pad to the longest sequence in the batch, or use `padding='max_length'` to pad to a max length. In this case, you can give a specific length with `max_length` (e.g. `max_length=45`) or leave max_length to None to pad to the maximal input size of the model (e.g. 512 for Bert).\n",
            "  FutureWarning,\n",
            "/usr/local/lib/python3.7/dist-packages/transformers/tokenization_utils_base.py:2079: FutureWarning: The `pad_to_max_length` argument is deprecated and will be removed in a future version, use `padding=True` or `padding='longest'` to pad to the longest sequence in the batch, or use `padding='max_length'` to pad to a max length. In this case, you can give a specific length with `max_length` (e.g. `max_length=45`) or leave max_length to None to pad to the maximal input size of the model (e.g. 512 for Bert).\n",
            "  FutureWarning,\n",
            "/usr/local/lib/python3.7/dist-packages/transformers/tokenization_utils_base.py:2079: FutureWarning: The `pad_to_max_length` argument is deprecated and will be removed in a future version, use `padding=True` or `padding='longest'` to pad to the longest sequence in the batch, or use `padding='max_length'` to pad to a max length. In this case, you can give a specific length with `max_length` (e.g. `max_length=45`) or leave max_length to None to pad to the maximal input size of the model (e.g. 512 for Bert).\n",
            "  FutureWarning,\n"
          ],
          "name": "stderr"
        },
        {
          "output_type": "stream",
          "text": [
            "Val   loss 0.7460728784402212 accuracy 0.76\n",
            "\n",
            "CPU times: user 1h 22min 54s, sys: 2min 26s, total: 1h 25min 21s\n",
            "Wall time: 1h 25min 8s\n"
          ],
          "name": "stdout"
        }
      ]
    },
    {
      "cell_type": "markdown",
      "metadata": {
        "id": "4r8-5zWsiVur"
      },
      "source": [
        "Note that we're storing the state of the best model, indicated by the highest validation accuracy."
      ],
      "id": "4r8-5zWsiVur"
    },
    {
      "cell_type": "markdown",
      "metadata": {
        "id": "wLQf52c7fbzr"
      },
      "source": [
        "Whoo, this took some time! We can look at the training vs validation accuracy:"
      ],
      "id": "wLQf52c7fbzr"
    },
    {
      "cell_type": "code",
      "metadata": {
        "colab": {
          "base_uri": "https://localhost:8080/",
          "height": 540
        },
        "id": "VSbyCZyJ3Rp5",
        "outputId": "75e2ea7a-f2ad-4591-f856-ede773a87005"
      },
      "source": [
        "plt.plot(history['train_acc'], label='train accuracy')\n",
        "plt.plot(history['val_acc'], label='validation accuracy')\n",
        "\n",
        "plt.title('Training history')\n",
        "plt.ylabel('Accuracy')\n",
        "plt.xlabel('Epoch')\n",
        "plt.legend()\n",
        "plt.ylim([0, 1])\n",
        "plt.xlim([-1, 3])"
      ],
      "id": "VSbyCZyJ3Rp5",
      "execution_count": null,
      "outputs": [
        {
          "output_type": "execute_result",
          "data": {
            "text/plain": [
              "(-1.0, 3.0)"
            ]
          },
          "metadata": {
            "tags": []
          },
          "execution_count": 46
        },
        {
          "output_type": "display_data",
          "data": {
            "image/png": "[encoded data removed]",
            "text/plain": [
              "<Figure size 864x576 with 1 Axes>"
            ]
          },
          "metadata": {
            "tags": [],
            "image/png": {
              "width": 742,
              "height": 506
            }
          }
        }
      ]
    },
    {
      "cell_type": "markdown",
      "metadata": {
        "id": "ZsHqkLAuf8pv"
      },
      "source": [
        "The training accuracy starts to approach 100% after 10 epochs or so. You might try to fine-tune the parameters a bit more, but this will be good enough for us.\n",
        "\n",
        "Don't want to wait? Uncomment the next cell to download my pre-trained model:"
      ],
      "id": "ZsHqkLAuf8pv"
    },
    {
      "cell_type": "code",
      "metadata": {
        "id": "zoGUH8VZ-pPQ"
      },
      "source": [
        "# !gdown --id 1V8itWtowCYnb2Bc9KlK9SxGff9WwmogA\n",
        "\n",
        "# model = SentimentClassifier(len(class_names))\n",
        "# model.load_state_dict(torch.load('best_model_state.bin'))\n",
        "# model = model.to(device)"
      ],
      "id": "zoGUH8VZ-pPQ",
      "execution_count": null,
      "outputs": []
    },
    {
      "cell_type": "markdown",
      "metadata": {
        "id": "YCo-6o1z3Rp5"
      },
      "source": [
        "## Evaluation\n",
        "\n",
        "So how good is our model on predicting sentiment? Let's start by calculating the accuracy on the test data:"
      ],
      "id": "YCo-6o1z3Rp5"
    },
    {
      "cell_type": "markdown",
      "metadata": {
        "id": "mdQ7-ylCj8Gd"
      },
      "source": [
        "The accuracy is about 1% lower on the test set. Our model seems to generalize well.\n",
        "\n",
        "We'll define a helper function to get the predictions from our model:"
      ],
      "id": "mdQ7-ylCj8Gd"
    },
    {
      "cell_type": "code",
      "metadata": {
        "id": "EgR6MuNS8jr_"
      },
      "source": [
        "def get_predictions(model, data_loader):\n",
        "  model = model.eval()\n",
        "  \n",
        "  review_texts = []\n",
        "  predictions = []\n",
        "  prediction_probs = []\n",
        "  real_values = []\n",
        "\n",
        "  with torch.no_grad():\n",
        "    for d in data_loader:\n",
        "\n",
        "      texts = d[\"review_text\"]\n",
        "      input_ids = d[\"input_ids\"].to(device)\n",
        "      attention_mask = d[\"attention_mask\"].to(device)\n",
        "      targets = d[\"targets\"].to(device)\n",
        "\n",
        "      outputs = model(\n",
        "        input_ids=input_ids,\n",
        "        attention_mask=attention_mask\n",
        "      )\n",
        "      _, preds = torch.max(outputs, dim=1)\n",
        "\n",
        "      probs = F.softmax(outputs, dim=1)\n",
        "\n",
        "      review_texts.extend(texts)\n",
        "      predictions.extend(preds)\n",
        "      prediction_probs.extend(probs)\n",
        "      real_values.extend(targets)\n",
        "\n",
        "  predictions = torch.stack(predictions).cpu()\n",
        "  prediction_probs = torch.stack(prediction_probs).cpu()\n",
        "  real_values = torch.stack(real_values).cpu()\n",
        "  return review_texts, predictions, prediction_probs, real_values"
      ],
      "id": "EgR6MuNS8jr_",
      "execution_count": null,
      "outputs": []
    },
    {
      "cell_type": "markdown",
      "metadata": {
        "id": "dkbnBTI7kd_y"
      },
      "source": [
        "This is similar to the evaluation function, except that we're storing the text of the reviews and the predicted probabilities (by applying the softmax on the model outputs):"
      ],
      "id": "dkbnBTI7kd_y"
    },
    {
      "cell_type": "code",
      "metadata": {
        "id": "zHdPZr60-0c_",
        "colab": {
          "base_uri": "https://localhost:8080/"
        },
        "outputId": "ea68e393-fbf3-4868-cb70-9622a5e8727d"
      },
      "source": [
        "y_review_texts, y_pred_bert, y_pred_probs, y_test = get_predictions(\n",
        "  model,\n",
        "  test_data_loader\n",
        ")"
      ],
      "id": "zHdPZr60-0c_",
      "execution_count": null,
      "outputs": [
        {
          "output_type": "stream",
          "text": [
            "/usr/local/lib/python3.7/dist-packages/torch/utils/data/dataloader.py:477: UserWarning: This DataLoader will create 4 worker processes in total. Our suggested max number of worker in current system is 2, which is smaller than what this DataLoader is going to create. Please be aware that excessive worker creation might get DataLoader running slow or even freeze, lower the worker number to avoid potential slowness/freeze if necessary.\n",
            "  cpuset_checked))\n",
            "/usr/local/lib/python3.7/dist-packages/transformers/tokenization_utils_base.py:2079: FutureWarning: The `pad_to_max_length` argument is deprecated and will be removed in a future version, use `padding=True` or `padding='longest'` to pad to the longest sequence in the batch, or use `padding='max_length'` to pad to a max length. In this case, you can give a specific length with `max_length` (e.g. `max_length=45`) or leave max_length to None to pad to the maximal input size of the model (e.g. 512 for Bert).\n",
            "  FutureWarning,\n",
            "/usr/local/lib/python3.7/dist-packages/transformers/tokenization_utils_base.py:2079: FutureWarning: The `pad_to_max_length` argument is deprecated and will be removed in a future version, use `padding=True` or `padding='longest'` to pad to the longest sequence in the batch, or use `padding='max_length'` to pad to a max length. In this case, you can give a specific length with `max_length` (e.g. `max_length=45`) or leave max_length to None to pad to the maximal input size of the model (e.g. 512 for Bert).\n",
            "  FutureWarning,\n",
            "/usr/local/lib/python3.7/dist-packages/transformers/tokenization_utils_base.py:2079: FutureWarning: The `pad_to_max_length` argument is deprecated and will be removed in a future version, use `padding=True` or `padding='longest'` to pad to the longest sequence in the batch, or use `padding='max_length'` to pad to a max length. In this case, you can give a specific length with `max_length` (e.g. `max_length=45`) or leave max_length to None to pad to the maximal input size of the model (e.g. 512 for Bert).\n",
            "  FutureWarning,\n",
            "/usr/local/lib/python3.7/dist-packages/transformers/tokenization_utils_base.py:2079: FutureWarning: The `pad_to_max_length` argument is deprecated and will be removed in a future version, use `padding=True` or `padding='longest'` to pad to the longest sequence in the batch, or use `padding='max_length'` to pad to a max length. In this case, you can give a specific length with `max_length` (e.g. `max_length=45`) or leave max_length to None to pad to the maximal input size of the model (e.g. 512 for Bert).\n",
            "  FutureWarning,\n"
          ],
          "name": "stderr"
        }
      ]
    },
    {
      "cell_type": "code",
      "metadata": {
        "id": "PBDDTuPIldup",
        "colab": {
          "base_uri": "https://localhost:8080/"
        },
        "outputId": "8ee67b87-6d3e-4f7d-cd10-537757ffb96e"
      },
      "source": [
        "print(y_test.shape, y_pred_bert.shape)"
      ],
      "id": "PBDDTuPIldup",
      "execution_count": null,
      "outputs": [
        {
          "output_type": "stream",
          "text": [
            "torch.Size([275]) torch.Size([275])\n"
          ],
          "name": "stdout"
        }
      ]
    },
    {
      "cell_type": "code",
      "metadata": {
        "id": "krekD9sxHY1L",
        "colab": {
          "base_uri": "https://localhost:8080/"
        },
        "outputId": "bd578279-ddfd-4437-8071-dee2ecd9f3df"
      },
      "source": [
        "# Balance accuracy is defined as the average of recall obtained on each class.\n",
        "from sklearn.metrics import balanced_accuracy_score\n",
        "print(\"BERT \\n\")\n",
        "print(\"Balanced accuracy:\", balanced_accuracy_score(y_true=y_test, y_pred= y_pred_bert,  sample_weight=None, adjusted=False)\n",
        "      )\n",
        "print(\"Confusion matrix:\\n\",\n",
        "pd.DataFrame(confusion_matrix(y_test,y_pred_bert, normalize='true'), columns=uniques, index=uniques))"
      ],
      "id": "krekD9sxHY1L",
      "execution_count": null,
      "outputs": [
        {
          "output_type": "stream",
          "text": [
            "BERT \n",
            "\n",
            "Balanced accuracy: 0.7486454457764916\n",
            "Confusion matrix:\n",
            "            neutral  negative  positive\n",
            "neutral   0.822034  0.067797  0.110169\n",
            "negative  0.266667  0.680000  0.053333\n",
            "positive  0.207317  0.048780  0.743902\n"
          ],
          "name": "stdout"
        }
      ]
    },
    {
      "cell_type": "markdown",
      "metadata": {
        "id": "gVwoVij2lC7F"
      },
      "source": [
        "Let's have a look at the classification report"
      ],
      "id": "gVwoVij2lC7F"
    },
    {
      "cell_type": "markdown",
      "metadata": {
        "id": "I90y3DmjpKLz"
      },
      "source": [
        "## Performance evaluation"
      ],
      "id": "I90y3DmjpKLz"
    },
    {
      "cell_type": "markdown",
      "metadata": {
        "id": "nawxnCuPr094"
      },
      "source": [
        "### Quantitative evaluation"
      ],
      "id": "nawxnCuPr094"
    },
    {
      "cell_type": "code",
      "metadata": {
        "id": "omw-k-ANqFuI",
        "colab": {
          "base_uri": "https://localhost:8080/",
          "height": 505
        },
        "outputId": "2c43a3de-7e78-4c33-9355-f04556f25b12"
      },
      "source": [
        "import matplotlib.pyplot as plt\n",
        "x = [\"Maj clf\",\"Count\",\"TF-IDF\",\"TF-IDF (2 gram)\" , \"BERT\"]\n",
        "height = [balanced_accuracy_score(y_true=y_test, y_pred= y_pred_maj,            sample_weight=None, adjusted=False),\n",
        "          balanced_accuracy_score(y_true=y_test, y_pred= y_pred_count,          sample_weight=None, adjusted=False),\n",
        "          balanced_accuracy_score(y_true=y_test, y_pred= y_pred_count_normed,   sample_weight=None, adjusted=False),\n",
        "          balanced_accuracy_score(y_true=y_test, y_pred= y_pred_count_normed2,  sample_weight=None, adjusted=False),\n",
        "          balanced_accuracy_score(y_true=y_test, y_pred= y_pred_bert,           sample_weight=None, adjusted=False)]\n",
        "\n",
        "plt.bar(x,height)\n",
        "plt.ylabel('balanced accuracy')\n",
        "plt.title('Balanced accuracy for each embedding')\n",
        "plt.ylim(bottom = 0.3, top = 0.9)\n",
        "from google.colab import files\n",
        "plt.savefig(\"/content/drive/MyDrive/3A/ML for NLP/projet/balAcc.png\")\n",
        "files.download(\"/content/drive/MyDrive/3A/ML for NLP/projet/balAcc.png\") \n",
        "plt.show()"
      ],
      "id": "omw-k-ANqFuI",
      "execution_count": null,
      "outputs": [
        {
          "output_type": "display_data",
          "data": {
            "application/javascript": [
              "\n",
              "    async function download(id, filename, size) {\n",
              "      if (!google.colab.kernel.accessAllowed) {\n",
              "        return;\n",
              "      }\n",
              "      const div = document.createElement('div');\n",
              "      const label = document.createElement('label');\n",
              "      label.textContent = `Downloading \"${filename}\": `;\n",
              "      div.appendChild(label);\n",
              "      const progress = document.createElement('progress');\n",
              "      progress.max = size;\n",
              "      div.appendChild(progress);\n",
              "      document.body.appendChild(div);\n",
              "\n",
              "      const buffers = [];\n",
              "      let downloaded = 0;\n",
              "\n",
              "      const channel = await google.colab.kernel.comms.open(id);\n",
              "      // Send a message to notify the kernel that we're ready.\n",
              "      channel.send({})\n",
              "\n",
              "      for await (const message of channel.messages) {\n",
              "        // Send a message to notify the kernel that we're ready.\n",
              "        channel.send({})\n",
              "        if (message.buffers) {\n",
              "          for (const buffer of message.buffers) {\n",
              "            buffers.push(buffer);\n",
              "            downloaded += buffer.byteLength;\n",
              "            progress.value = downloaded;\n",
              "          }\n",
              "        }\n",
              "      }\n",
              "      const blob = new Blob(buffers, {type: 'application/binary'});\n",
              "      const a = document.createElement('a');\n",
              "      a.href = window.URL.createObjectURL(blob);\n",
              "      a.download = filename;\n",
              "      div.appendChild(a);\n",
              "      a.click();\n",
              "      div.remove();\n",
              "    }\n",
              "  "
            ],
            "text/plain": [
              "<IPython.core.display.Javascript object>"
            ]
          },
          "metadata": {
            "tags": []
          }
        },
        {
          "output_type": "display_data",
          "data": {
            "application/javascript": [
              "download(\"download_f7901757-981f-4d14-b178-74bb5b911b6b\", \"balAcc.png\", 19294)"
            ],
            "text/plain": [
              "<IPython.core.display.Javascript object>"
            ]
          },
          "metadata": {
            "tags": []
          }
        },
        {
          "output_type": "display_data",
          "data": {
            "image/png": "[encoded data removed]",
            "text/plain": [
              "<Figure size 864x576 with 1 Axes>"
            ]
          },
          "metadata": {
            "tags": [],
            "image/png": {
              "width": 732,
              "height": 488
            }
          }
        }
      ]
    },
    {
      "cell_type": "markdown",
      "metadata": {
        "id": "HuyG0ajZLX_1"
      },
      "source": [
        "We compare the recall for each sentiment between Bert and Count"
      ],
      "id": "HuyG0ajZLX_1"
    },
    {
      "cell_type": "code",
      "metadata": {
        "id": "PkTL39rYPG0q"
      },
      "source": [
        "from sklearn.metrics import classification_report\n",
        "\n",
        "dictCount = classification_report(y_test, y_pred_count, target_names=uniques, output_dict = True)\n",
        "dictBert = classification_report(y_test, y_pred_bert, target_names=uniques, output_dict = True)"
      ],
      "id": "PkTL39rYPG0q",
      "execution_count": null,
      "outputs": []
    },
    {
      "cell_type": "code",
      "metadata": {
        "id": "AwR3K1nYMtBV",
        "colab": {
          "base_uri": "https://localhost:8080/",
          "height": 511
        },
        "outputId": "d26105f9-50d7-4529-a140-24caeb3d1d04"
      },
      "source": [
        "import matplotlib.pyplot as plt\n",
        "import numpy as np\n",
        "  \n",
        "# create data\n",
        "x = np.arange(3)\n",
        "RecallCount = [dictCount['negative']['recall'],dictCount['positive']['recall'],dictCount['neutral']['recall']]\n",
        "RecallBert = [dictBert['negative']['recall'],dictBert['positive']['recall'],dictBert['neutral']['recall']]\n",
        "width = 0.2\n",
        "  \n",
        "# plot data in grouped manner of bar type\n",
        "plt.bar(x-0.2, RecallCount, width, color='cyan')\n",
        "plt.bar(x, RecallBert, width, color='orange')\n",
        "plt.xticks(x, [\"Negative\", \"Positive\", \"Neutral\"])\n",
        "plt.xlabel(\"Sentiment\")\n",
        "plt.ylabel(\"Recall\")\n",
        "plt.legend([\"Count\", \"Bert\"])\n",
        "plt.ylim(bottom = 0.4, top = 0.9)\n",
        "from google.colab import files\n",
        "plt.savefig(\"/content/drive/MyDrive/3A/ML for NLP/projet/RecallBertCount.png\")\n",
        "files.download(\"/content/drive/MyDrive/3A/ML for NLP/projet/RecallBertCount.png\") \n",
        "plt.show()"
      ],
      "id": "AwR3K1nYMtBV",
      "execution_count": null,
      "outputs": [
        {
          "output_type": "display_data",
          "data": {
            "application/javascript": [
              "\n",
              "    async function download(id, filename, size) {\n",
              "      if (!google.colab.kernel.accessAllowed) {\n",
              "        return;\n",
              "      }\n",
              "      const div = document.createElement('div');\n",
              "      const label = document.createElement('label');\n",
              "      label.textContent = `Downloading \"${filename}\": `;\n",
              "      div.appendChild(label);\n",
              "      const progress = document.createElement('progress');\n",
              "      progress.max = size;\n",
              "      div.appendChild(progress);\n",
              "      document.body.appendChild(div);\n",
              "\n",
              "      const buffers = [];\n",
              "      let downloaded = 0;\n",
              "\n",
              "      const channel = await google.colab.kernel.comms.open(id);\n",
              "      // Send a message to notify the kernel that we're ready.\n",
              "      channel.send({})\n",
              "\n",
              "      for await (const message of channel.messages) {\n",
              "        // Send a message to notify the kernel that we're ready.\n",
              "        channel.send({})\n",
              "        if (message.buffers) {\n",
              "          for (const buffer of message.buffers) {\n",
              "            buffers.push(buffer);\n",
              "            downloaded += buffer.byteLength;\n",
              "            progress.value = downloaded;\n",
              "          }\n",
              "        }\n",
              "      }\n",
              "      const blob = new Blob(buffers, {type: 'application/binary'});\n",
              "      const a = document.createElement('a');\n",
              "      a.href = window.URL.createObjectURL(blob);\n",
              "      a.download = filename;\n",
              "      div.appendChild(a);\n",
              "      a.click();\n",
              "      div.remove();\n",
              "    }\n",
              "  "
            ],
            "text/plain": [
              "<IPython.core.display.Javascript object>"
            ]
          },
          "metadata": {
            "tags": []
          }
        },
        {
          "output_type": "display_data",
          "data": {
            "application/javascript": [
              "download(\"download_ca65497b-64aa-4bbe-b058-e2c013130ae9\", \"RecallBertCount.png\", 14210)"
            ],
            "text/plain": [
              "<IPython.core.display.Javascript object>"
            ]
          },
          "metadata": {
            "tags": []
          }
        },
        {
          "output_type": "display_data",
          "data": {
            "image/png": "[encoded data removed]",
            "text/plain": [
              "<Figure size 864x576 with 1 Axes>"
            ]
          },
          "metadata": {
            "tags": [],
            "image/png": {
              "width": 732,
              "height": 494
            }
          }
        }
      ]
    },
    {
      "cell_type": "code",
      "metadata": {
        "colab": {
          "base_uri": "https://localhost:8080/",
          "height": 511
        },
        "id": "8u7005UVEq3t",
        "outputId": "b436da88-d54b-4739-aec1-157834f4b326"
      },
      "source": [
        "import matplotlib.pyplot as plt\n",
        "import numpy as np\n",
        "  \n",
        "# create data\n",
        "x = np.arange(3)\n",
        "RecallCount = [dictCount['negative']['precision'],dictCount['positive']['precision'],dictCount['neutral']['precision']]\n",
        "RecallBert = [dictBert['negative']['precision'],dictBert['positive']['precision'],dictBert['neutral']['precision']]\n",
        "width = 0.2\n",
        "  \n",
        "# plot data in grouped manner of bar type\n",
        "plt.bar(x-0.2, RecallCount, width, color='cyan')\n",
        "plt.bar(x, RecallBert, width, color='orange')\n",
        "plt.xticks(x, [\"Negative\", \"Positive\", \"Neutral\"])\n",
        "plt.xlabel(\"Sentiment\")\n",
        "plt.ylabel(\"Precision\")\n",
        "plt.legend([\"Count\", \"Bert\"])\n",
        "plt.ylim(bottom = 0.4, top = 0.9)\n",
        "from google.colab import files\n",
        "plt.savefig(\"/content/drive/MyDrive/3A/ML for NLP/projet/RecallBertCount.png\")\n",
        "files.download(\"/content/drive/MyDrive/3A/ML for NLP/projet/RecallBertCount.png\") \n",
        "plt.show()"
      ],
      "id": "8u7005UVEq3t",
      "execution_count": null,
      "outputs": [
        {
          "output_type": "display_data",
          "data": {
            "application/javascript": [
              "\n",
              "    async function download(id, filename, size) {\n",
              "      if (!google.colab.kernel.accessAllowed) {\n",
              "        return;\n",
              "      }\n",
              "      const div = document.createElement('div');\n",
              "      const label = document.createElement('label');\n",
              "      label.textContent = `Downloading \"${filename}\": `;\n",
              "      div.appendChild(label);\n",
              "      const progress = document.createElement('progress');\n",
              "      progress.max = size;\n",
              "      div.appendChild(progress);\n",
              "      document.body.appendChild(div);\n",
              "\n",
              "      const buffers = [];\n",
              "      let downloaded = 0;\n",
              "\n",
              "      const channel = await google.colab.kernel.comms.open(id);\n",
              "      // Send a message to notify the kernel that we're ready.\n",
              "      channel.send({})\n",
              "\n",
              "      for await (const message of channel.messages) {\n",
              "        // Send a message to notify the kernel that we're ready.\n",
              "        channel.send({})\n",
              "        if (message.buffers) {\n",
              "          for (const buffer of message.buffers) {\n",
              "            buffers.push(buffer);\n",
              "            downloaded += buffer.byteLength;\n",
              "            progress.value = downloaded;\n",
              "          }\n",
              "        }\n",
              "      }\n",
              "      const blob = new Blob(buffers, {type: 'application/binary'});\n",
              "      const a = document.createElement('a');\n",
              "      a.href = window.URL.createObjectURL(blob);\n",
              "      a.download = filename;\n",
              "      div.appendChild(a);\n",
              "      a.click();\n",
              "      div.remove();\n",
              "    }\n",
              "  "
            ],
            "text/plain": [
              "<IPython.core.display.Javascript object>"
            ]
          },
          "metadata": {
            "tags": []
          }
        },
        {
          "output_type": "display_data",
          "data": {
            "application/javascript": [
              "download(\"download_fdc883a4-009d-4195-aa80-f1836e9446c2\", \"RecallBertCount.png\", 14734)"
            ],
            "text/plain": [
              "<IPython.core.display.Javascript object>"
            ]
          },
          "metadata": {
            "tags": []
          }
        },
        {
          "output_type": "display_data",
          "data": {
            "image/png": "[encoded data removed]",
            "text/plain": [
              "<Figure size 864x576 with 1 Axes>"
            ]
          },
          "metadata": {
            "tags": [],
            "image/png": {
              "width": 732,
              "height": 494
            }
          }
        }
      ]
    },
    {
      "cell_type": "markdown",
      "metadata": {
        "id": "CCqm7nuV3Rp9"
      },
      "source": [
        "### Qualitative evaluation"
      ],
      "id": "CCqm7nuV3Rp9"
    },
    {
      "cell_type": "code",
      "metadata": {
        "id": "rzNmMPgBsBoT",
        "colab": {
          "base_uri": "https://localhost:8080/"
        },
        "outputId": "9ef11201-919b-4d05-cfee-f55c555a98ef"
      },
      "source": [
        "print(type(pd.Series(y_test)),type(y_pred_count), type(y_pred_bert))\n",
        "df_eval = pd.concat([X_test_pp.reset_index(drop = True), pd.Series(y_test), pd.Series(y_pred_bert), pd.Series(y_pred_count)], axis = 1)\n",
        "df_eval.columns = [\"tweet\", \"y_test\",\"y_pred_bert\",\"y_pred_count\"]\n",
        "type(df_eval)"
      ],
      "id": "rzNmMPgBsBoT",
      "execution_count": null,
      "outputs": [
        {
          "output_type": "stream",
          "text": [
            "<class 'pandas.core.series.Series'> <class 'numpy.ndarray'> <class 'torch.Tensor'>\n"
          ],
          "name": "stdout"
        },
        {
          "output_type": "execute_result",
          "data": {
            "text/plain": [
              "pandas.core.frame.DataFrame"
            ]
          },
          "metadata": {
            "tags": []
          },
          "execution_count": 59
        }
      ]
    },
    {
      "cell_type": "code",
      "metadata": {
        "id": "Z_BFVa6QuyEc",
        "colab": {
          "base_uri": "https://localhost:8080/",
          "height": 829
        },
        "outputId": "b3e00f45-8448-4736-8da3-3abce6e74a82"
      },
      "source": [
        "pd.set_option('display.max_colwidth', None)\n",
        "df_eval[df_eval.y_test == 1][df_eval.y_pred_bert == 1][df_eval.y_pred_count != 1]"
      ],
      "id": "Z_BFVa6QuyEc",
      "execution_count": null,
      "outputs": [
        {
          "output_type": "stream",
          "text": [
            "/usr/local/lib/python3.7/dist-packages/ipykernel_launcher.py:2: UserWarning: Boolean Series key will be reindexed to match DataFrame index.\n",
            "  \n",
            "/usr/local/lib/python3.7/dist-packages/ipykernel_launcher.py:2: UserWarning: Boolean Series key will be reindexed to match DataFrame index.\n",
            "  \n"
          ],
          "name": "stderr"
        },
        {
          "output_type": "execute_result",
          "data": {
            "text/html": [
              "<div>\n",
              "<style scoped>\n",
              "    .dataframe tbody tr th:only-of-type {\n",
              "        vertical-align: middle;\n",
              "    }\n",
              "\n",
              "    .dataframe tbody tr th {\n",
              "        vertical-align: top;\n",
              "    }\n",
              "\n",
              "    .dataframe thead th {\n",
              "        text-align: right;\n",
              "    }\n",
              "</style>\n",
              "<table border=\"1\" class=\"dataframe\">\n",
              "  <thead>\n",
              "    <tr style=\"text-align: right;\">\n",
              "      <th></th>\n",
              "      <th>tweet</th>\n",
              "      <th>y_test</th>\n",
              "      <th>y_pred_bert</th>\n",
              "      <th>y_pred_count</th>\n",
              "    </tr>\n",
              "  </thead>\n",
              "  <tbody>\n",
              "    <tr>\n",
              "      <th>3</th>\n",
              "      <td>On the bus goin 2 work but omg seriously im sooooo tired dont know if i`ll survive the 8 hour shift</td>\n",
              "      <td>1</td>\n",
              "      <td>1</td>\n",
              "      <td>0</td>\n",
              "    </tr>\n",
              "    <tr>\n",
              "      <th>6</th>\n",
              "      <td>It`s tough being a thick chik</td>\n",
              "      <td>1</td>\n",
              "      <td>1</td>\n",
              "      <td>0</td>\n",
              "    </tr>\n",
              "    <tr>\n",
              "      <th>16</th>\n",
              "      <td>no, def rubbish tonight</td>\n",
              "      <td>1</td>\n",
              "      <td>1</td>\n",
              "      <td>0</td>\n",
              "    </tr>\n",
              "    <tr>\n",
              "      <th>25</th>\n",
              "      <td>At work... supposed to be a day off but too much work to get done for PLM World... sigh</td>\n",
              "      <td>1</td>\n",
              "      <td>1</td>\n",
              "      <td>0</td>\n",
              "    </tr>\n",
              "    <tr>\n",
              "      <th>35</th>\n",
              "      <td>@__SANDY i dont know! they sent out emails using my account about random stuff i didnt even understand i changed all my passwords</td>\n",
              "      <td>1</td>\n",
              "      <td>1</td>\n",
              "      <td>0</td>\n",
              "    </tr>\n",
              "    <tr>\n",
              "      <th>44</th>\n",
              "      <td>Plans were taking flight to go out tonight but they`re now sinking in the Hudson since I have to work in he morning. Stupid bird strike.</td>\n",
              "      <td>1</td>\n",
              "      <td>1</td>\n",
              "      <td>0</td>\n",
              "    </tr>\n",
              "    <tr>\n",
              "      <th>47</th>\n",
              "      <td>my deep fry drumsticks were not as good as i thought they would be</td>\n",
              "      <td>1</td>\n",
              "      <td>1</td>\n",
              "      <td>2</td>\n",
              "    </tr>\n",
              "    <tr>\n",
              "      <th>51</th>\n",
              "      <td>I`ve experienced apathy over empathy in customer service situations too many times recently.</td>\n",
              "      <td>1</td>\n",
              "      <td>1</td>\n",
              "      <td>0</td>\n",
              "    </tr>\n",
              "    <tr>\n",
              "      <th>87</th>\n",
              "      <td>My throat is killing me</td>\n",
              "      <td>1</td>\n",
              "      <td>1</td>\n",
              "      <td>0</td>\n",
              "    </tr>\n",
              "    <tr>\n",
              "      <th>154</th>\n",
              "      <td>lol i wos gona send mine in bt i was too late  ****</td>\n",
              "      <td>1</td>\n",
              "      <td>1</td>\n",
              "      <td>0</td>\n",
              "    </tr>\n",
              "    <tr>\n",
              "      <th>159</th>\n",
              "      <td>I haven`t talked to you since the last day of school!  that`s no right.</td>\n",
              "      <td>1</td>\n",
              "      <td>1</td>\n",
              "      <td>0</td>\n",
              "    </tr>\n",
              "    <tr>\n",
              "      <th>175</th>\n",
              "      <td>New picture isn`t working</td>\n",
              "      <td>1</td>\n",
              "      <td>1</td>\n",
              "      <td>0</td>\n",
              "    </tr>\n",
              "    <tr>\n",
              "      <th>177</th>\n",
              "      <td>the second i hit reply to that tweet i was asked to stop playing music.  i am now sad. someone sing to me. on or off key works!</td>\n",
              "      <td>1</td>\n",
              "      <td>1</td>\n",
              "      <td>0</td>\n",
              "    </tr>\n",
              "    <tr>\n",
              "      <th>188</th>\n",
              "      <td>wow, i broke my toe today on a stupid piece of concrete!  LAME! job searching then sight seeing with Brittany.</td>\n",
              "      <td>1</td>\n",
              "      <td>1</td>\n",
              "      <td>0</td>\n",
              "    </tr>\n",
              "    <tr>\n",
              "      <th>195</th>\n",
              "      <td>had to give my 5 year old golden retriever away to another family today  #sad http://bit.ly/s48D0</td>\n",
              "      <td>1</td>\n",
              "      <td>1</td>\n",
              "      <td>0</td>\n",
              "    </tr>\n",
              "    <tr>\n",
              "      <th>196</th>\n",
              "      <td>ahhh.. what about the others? like #hoppusday and etc? I`m such a spazz</td>\n",
              "      <td>1</td>\n",
              "      <td>1</td>\n",
              "      <td>0</td>\n",
              "    </tr>\n",
              "    <tr>\n",
              "      <th>205</th>\n",
              "      <td>BAH, you`be made me all hungry now</td>\n",
              "      <td>1</td>\n",
              "      <td>1</td>\n",
              "      <td>0</td>\n",
              "    </tr>\n",
              "    <tr>\n",
              "      <th>213</th>\n",
              "      <td>Ugh. Waiting for a visitors pass to get on post.  taking FOREVER!</td>\n",
              "      <td>1</td>\n",
              "      <td>1</td>\n",
              "      <td>2</td>\n",
              "    </tr>\n",
              "    <tr>\n",
              "      <th>224</th>\n",
              "      <td>without ur tweets i feel lost hit me with something</td>\n",
              "      <td>1</td>\n",
              "      <td>1</td>\n",
              "      <td>0</td>\n",
              "    </tr>\n",
              "    <tr>\n",
              "      <th>225</th>\n",
              "      <td>it was just true  and you do cause me to having dirty thoughts lol well also some other dude, huh? ;) xoxo</td>\n",
              "      <td>1</td>\n",
              "      <td>1</td>\n",
              "      <td>0</td>\n",
              "    </tr>\n",
              "    <tr>\n",
              "      <th>234</th>\n",
              "      <td>Euh, got LDAP Schema Error  Why oh Why</td>\n",
              "      <td>1</td>\n",
              "      <td>1</td>\n",
              "      <td>0</td>\n",
              "    </tr>\n",
              "    <tr>\n",
              "      <th>268</th>\n",
              "      <td>omgggggggggg, cant belive it! what had happened to it friend? do you know where did you missed it? thats not nice!!</td>\n",
              "      <td>1</td>\n",
              "      <td>1</td>\n",
              "      <td>0</td>\n",
              "    </tr>\n",
              "    <tr>\n",
              "      <th>271</th>\n",
              "      <td>This is not a happy tweet</td>\n",
              "      <td>1</td>\n",
              "      <td>1</td>\n",
              "      <td>2</td>\n",
              "    </tr>\n",
              "  </tbody>\n",
              "</table>\n",
              "</div>"
            ],
            "text/plain": [
              "                                                                                                                                        tweet  ...  y_pred_count\n",
              "3                                         On the bus goin 2 work but omg seriously im sooooo tired dont know if i`ll survive the 8 hour shift  ...             0\n",
              "6                                                                                                               It`s tough being a thick chik  ...             0\n",
              "16                                                                                                                    no, def rubbish tonight  ...             0\n",
              "25                                                    At work... supposed to be a day off but too much work to get done for PLM World... sigh  ...             0\n",
              "35          @__SANDY i dont know! they sent out emails using my account about random stuff i didnt even understand i changed all my passwords  ...             0\n",
              "44   Plans were taking flight to go out tonight but they`re now sinking in the Hudson since I have to work in he morning. Stupid bird strike.  ...             0\n",
              "47                                                                         my deep fry drumsticks were not as good as i thought they would be  ...             2\n",
              "51                                               I`ve experienced apathy over empathy in customer service situations too many times recently.  ...             0\n",
              "87                                                                                                                    My throat is killing me  ...             0\n",
              "154                                                                                       lol i wos gona send mine in bt i was too late  ****  ...             0\n",
              "159                                                                   I haven`t talked to you since the last day of school!  that`s no right.  ...             0\n",
              "175                                                                                                                 New picture isn`t working  ...             0\n",
              "177           the second i hit reply to that tweet i was asked to stop playing music.  i am now sad. someone sing to me. on or off key works!  ...             0\n",
              "188                            wow, i broke my toe today on a stupid piece of concrete!  LAME! job searching then sight seeing with Brittany.  ...             0\n",
              "195                                         had to give my 5 year old golden retriever away to another family today  #sad http://bit.ly/s48D0  ...             0\n",
              "196                                                                   ahhh.. what about the others? like #hoppusday and etc? I`m such a spazz  ...             0\n",
              "205                                                                                                        BAH, you`be made me all hungry now  ...             0\n",
              "213                                                                         Ugh. Waiting for a visitors pass to get on post.  taking FOREVER!  ...             2\n",
              "224                                                                                       without ur tweets i feel lost hit me with something  ...             0\n",
              "225                                it was just true  and you do cause me to having dirty thoughts lol well also some other dude, huh? ;) xoxo  ...             0\n",
              "234                                                                                                    Euh, got LDAP Schema Error  Why oh Why  ...             0\n",
              "268                       omgggggggggg, cant belive it! what had happened to it friend? do you know where did you missed it? thats not nice!!  ...             0\n",
              "271                                                                                                                 This is not a happy tweet  ...             2\n",
              "\n",
              "[23 rows x 4 columns]"
            ]
          },
          "metadata": {
            "tags": []
          },
          "execution_count": 69
        }
      ]
    },
    {
      "cell_type": "markdown",
      "metadata": {
        "id": "J0m0YFf424rl"
      },
      "source": [
        "# TASK 2: Predict support words"
      ],
      "id": "J0m0YFf424rl"
    },
    {
      "cell_type": "code",
      "metadata": {
        "colab": {
          "base_uri": "https://localhost:8080/"
        },
        "id": "JcbYTsJJMHBM",
        "outputId": "b81f8039-04c8-483e-c2bc-c1170d861bdc"
      },
      "source": [
        "df.apply(lambda row: row[\"selected_text\"] in row[\"text\"], axis = 1).mean()"
      ],
      "id": "JcbYTsJJMHBM",
      "execution_count": 10,
      "outputs": [
        {
          "output_type": "execute_result",
          "data": {
            "text/plain": [
              "1.0"
            ]
          },
          "metadata": {
            "tags": []
          },
          "execution_count": 10
        }
      ]
    },
    {
      "cell_type": "code",
      "metadata": {
        "colab": {
          "base_uri": "https://localhost:8080/"
        },
        "id": "9wiQKGY2fioP",
        "outputId": "b98cbfb4-6bc2-4916-bedb-8d2b6da8356c"
      },
      "source": [
        "# Spillting the train and test data\n",
        "RANDOM_SEED = 43\n",
        "np.random.seed(RANDOM_SEED)\n",
        "torch.manual_seed(RANDOM_SEED)\n",
        "\n",
        "df_sample = df.sample(frac=0.015)\n",
        "df_train, df_test = train_test_split(df_sample[[\"text\",\"selected_text\",\"sentiment_int\"]], test_size=0.1, random_state=RANDOM_SEED)\n",
        "df_val, df_test = train_test_split(df_test, test_size=0.5, random_state=RANDOM_SEED)\n",
        "print(df_train.shape, df_test.shape, df_val.shape)"
      ],
      "id": "9wiQKGY2fioP",
      "execution_count": 192,
      "outputs": [
        {
          "output_type": "stream",
          "text": [
            "(370, 3) (21, 3) (21, 3)\n"
          ],
          "name": "stdout"
        }
      ]
    },
    {
      "cell_type": "markdown",
      "metadata": {
        "id": "9aHyGuTFgyPO"
      },
      "source": [
        "## Data Preprocessing\n",
        "\n",
        "\n"
      ],
      "id": "9aHyGuTFgyPO"
    },
    {
      "cell_type": "markdown",
      "metadata": {
        "id": "fMSr7C-F_sey"
      },
      "source": [
        "We use a cased version of BERT and tokenizer since \"BAD\" might convey more sentiment than \"bad\" for exemple. "
      ],
      "id": "fMSr7C-F_sey"
    },
    {
      "cell_type": "code",
      "metadata": {
        "id": "E7Mj-0ne--5t"
      },
      "source": [
        "PRE_TRAINED_MODEL_NAME = 'bert-base-cased'"
      ],
      "id": "E7Mj-0ne--5t",
      "execution_count": 12,
      "outputs": []
    },
    {
      "cell_type": "markdown",
      "metadata": {
        "id": "NiLb-ltM-ZRz"
      },
      "source": [
        "Let's load a pre-trained [BertTokenizer](https://huggingface.co/transformers/model_doc/bert.html#berttokenizer):"
      ],
      "id": "NiLb-ltM-ZRz"
    },
    {
      "cell_type": "code",
      "metadata": {
        "id": "H3AfJSZ8NNLF",
        "colab": {
          "base_uri": "https://localhost:8080/",
          "height": 163,
          "referenced_widgets": [
            "5bb8d5503cdb49e98b719c33fb3d8da2",
            "a5d73eaa157144c3bc77231ae37a6bf3",
            "ffcf409d44e04e26a55fd90f363a0145",
            "c415f013afe74b358dd7eae596225e30",
            "f65ecdc822a643baab7a96a44ba2cf3b",
            "40c55a613c1940ec9651888fb4e16ff0",
            "78510f52f05148fcb72b3256b250cad7",
            "c0b37666133643faa600fa9510366b7a",
            "26e3d7ad52444edfb54e446196e34354",
            "dc1329bad5d74d7a868a90fc393635f1",
            "4fc9bdc707fb4c46beb6abbbd1b4f4ce",
            "525c09aba88c4aeb82616a24c8f0a2bc",
            "c976c818148c454ea85eca7720cf71d7",
            "0af49c667ab04c6981fdbc80ff8573fd",
            "660980a8a630482196a9789ed5dc1952",
            "6056396e5d224467a2fbd4f5397f27ed",
            "fbed301999b04cd393a37132a411de07",
            "c2c064802a8e4bc3a98be0d6e515d655",
            "35f394b9dd204afbb148910f5c3640cf",
            "657cd4a802f04edb82a019a865be6fa4",
            "0ac19461f3e74c69b9e579e49dcf112a",
            "88e8c7cdbe71432eb4fefde8435d63cb",
            "ce3dcb4293c940439ff3e968d7b650f6",
            "bee62216f35b4543a0f88ca587c61197"
          ]
        },
        "outputId": "12cf6706-62e1-477c-db35-0a071e978102"
      },
      "source": [
        "tokenizer = BertTokenizer.from_pretrained(PRE_TRAINED_MODEL_NAME)"
      ],
      "id": "H3AfJSZ8NNLF",
      "execution_count": 13,
      "outputs": [
        {
          "output_type": "display_data",
          "data": {
            "application/vnd.jupyter.widget-view+json": {
              "model_id": "5bb8d5503cdb49e98b719c33fb3d8da2",
              "version_minor": 0,
              "version_major": 2
            },
            "text/plain": [
              "HBox(children=(FloatProgress(value=0.0, description='Downloading', max=213450.0, style=ProgressStyle(descripti…"
            ]
          },
          "metadata": {
            "tags": []
          }
        },
        {
          "output_type": "stream",
          "text": [
            "\n"
          ],
          "name": "stdout"
        },
        {
          "output_type": "display_data",
          "data": {
            "application/vnd.jupyter.widget-view+json": {
              "model_id": "26e3d7ad52444edfb54e446196e34354",
              "version_minor": 0,
              "version_major": 2
            },
            "text/plain": [
              "HBox(children=(FloatProgress(value=0.0, description='Downloading', max=29.0, style=ProgressStyle(description_w…"
            ]
          },
          "metadata": {
            "tags": []
          }
        },
        {
          "output_type": "stream",
          "text": [
            "\n"
          ],
          "name": "stdout"
        },
        {
          "output_type": "display_data",
          "data": {
            "application/vnd.jupyter.widget-view+json": {
              "model_id": "fbed301999b04cd393a37132a411de07",
              "version_minor": 0,
              "version_major": 2
            },
            "text/plain": [
              "HBox(children=(FloatProgress(value=0.0, description='Downloading', max=435797.0, style=ProgressStyle(descripti…"
            ]
          },
          "metadata": {
            "tags": []
          }
        },
        {
          "output_type": "stream",
          "text": [
            "\n"
          ],
          "name": "stdout"
        }
      ]
    },
    {
      "cell_type": "markdown",
      "metadata": {
        "id": "waKjYxTDuaWt"
      },
      "source": [
        "### Choosing Sequence Length\n",
        "\n",
        "BERT works with fixed-length sequences. We'll use a simple strategy to choose the max length. Let's store the token length of each review:"
      ],
      "id": "waKjYxTDuaWt"
    },
    {
      "cell_type": "code",
      "metadata": {
        "id": "BUnE5CT9hbeZ",
        "colab": {
          "base_uri": "https://localhost:8080/"
        },
        "outputId": "045ecba3-97da-42be-eb89-ffcafeec702f"
      },
      "source": [
        "token_lens = []\n",
        "for tweet in df.text: \n",
        "  tokens = tokenizer.encode(tweet, max_length=512)\n",
        "  token_lens.append(len(tokens))"
      ],
      "id": "BUnE5CT9hbeZ",
      "execution_count": 14,
      "outputs": [
        {
          "output_type": "stream",
          "text": [
            "Truncation was not explicitly activated but `max_length` is provided a specific value, please use `truncation=True` to explicitly truncate examples to max length. Defaulting to 'longest_first' truncation strategy. If you encode pairs of sequences (GLUE-style) with the tokenizer you can select this strategy more precisely by providing a specific strategy to `truncation`.\n"
          ],
          "name": "stderr"
        }
      ]
    },
    {
      "cell_type": "markdown",
      "metadata": {
        "id": "tI4goUrHf6da"
      },
      "source": [
        "and plot the distribution:"
      ],
      "id": "tI4goUrHf6da"
    },
    {
      "cell_type": "code",
      "metadata": {
        "id": "SzE1j4jxmUtd",
        "colab": {
          "base_uri": "https://localhost:8080/",
          "height": 560
        },
        "outputId": "0cc35db5-8e40-4450-e1e5-329c03fc048f"
      },
      "source": [
        "sns.distplot(token_lens)\n",
        "plt.xlim([0, 256]);\n",
        "plt.xlabel('Token count');"
      ],
      "id": "SzE1j4jxmUtd",
      "execution_count": 15,
      "outputs": [
        {
          "output_type": "stream",
          "text": [
            "/usr/local/lib/python3.7/dist-packages/seaborn/distributions.py:2557: FutureWarning: `distplot` is a deprecated function and will be removed in a future version. Please adapt your code to use either `displot` (a figure-level function with similar flexibility) or `histplot` (an axes-level function for histograms).\n",
            "  warnings.warn(msg, FutureWarning)\n"
          ],
          "name": "stderr"
        },
        {
          "output_type": "display_data",
          "data": {
            "image/png": "[encoded data removed]",
            "text/plain": [
              "<Figure size 864x576 with 1 Axes>"
            ]
          },
          "metadata": {
            "tags": [],
            "image/png": {
              "width": 740,
              "height": 489
            }
          }
        }
      ]
    },
    {
      "cell_type": "markdown",
      "metadata": {
        "id": "oW6ajl30t6du"
      },
      "source": [
        "Most of the tweets contain less than 50 tokens, but we'll be on the safe side and choose a maximum length of 70."
      ],
      "id": "oW6ajl30t6du"
    },
    {
      "cell_type": "code",
      "metadata": {
        "id": "t7xSmJtLuoxW"
      },
      "source": [
        "MAX_LEN = 70"
      ],
      "id": "t7xSmJtLuoxW",
      "execution_count": 147,
      "outputs": []
    },
    {
      "cell_type": "markdown",
      "metadata": {
        "id": "kb14qciqjwYJ"
      },
      "source": [
        "### DataSet config and boolean target vector "
      ],
      "id": "kb14qciqjwYJ"
    },
    {
      "cell_type": "markdown",
      "metadata": {
        "id": "XvvcoU6nurHy"
      },
      "source": [
        "*We* add a specific target vector for the supporting words prediction task (task 2)"
      ],
      "id": "XvvcoU6nurHy"
    },
    {
      "cell_type": "code",
      "metadata": {
        "id": "9unZ-wku0EZ2"
      },
      "source": [
        "def is_search_b_in_a_possible(b,a): #to remove tweets with anormal target suchas as: tweet= \"i am kind\", word support = \"kind and gentle\"\n",
        "    assert len(b) <= len(a) \n",
        "    l = [(i, i+len(b)-1) for i in range(len(a)) if a[i:i+len(b)] == b]\n",
        "    if l==[]:\n",
        "      return False\n",
        "    else:\n",
        "      return True\n",
        "\n",
        "def search_b_in_a(b,a): #we assume that b is always included in a\n",
        "    assert len(b) <= len(a) \n",
        "    l = [(i, i+len(b)-1) for i in range(len(a)) if a[i:i+len(b)] == b]\n",
        "    if l==[]:\n",
        "      start,stop = (-1,-1)\n",
        "    else:\n",
        "      start, stop = l[0]\n",
        "    return start,stop\n",
        "def create_vector_support(b,a):\n",
        "    start,stop = search_b_in_a(b,a)\n",
        "    n,m,o = start,stop-start+1,len(a)-stop-1\n",
        "    v = n*[0]+m*[1]+o*[0]\n",
        "    \n",
        "    assert len(v) == len(a)\n",
        "    assert sum(v) == len(b)\n",
        "    return v"
      ],
      "id": "9unZ-wku0EZ2",
      "execution_count": 17,
      "outputs": []
    },
    {
      "cell_type": "code",
      "metadata": {
        "id": "3bucsjIXIVvb"
      },
      "source": [
        "class GPReviewDataset(Dataset):\n",
        "\n",
        "  def __init__(self, reviews, selected_texts, targets, tokenizer, max_len):\n",
        "    self.reviews = reviews\n",
        "    self.selected_texts = selected_texts\n",
        "    self.targets = targets\n",
        "    self.tokenizer = tokenizer\n",
        "    self.max_len = max_len\n",
        "    \n",
        "  def __len__(self):\n",
        "    return len(self.reviews)\n",
        "  \n",
        "  def __getitem__(self, item): #to catch 1 element, we create the points of the dataset \n",
        "    \n",
        "    review_list_of_str = str(self.reviews[item]).split()\n",
        "    selected_text_list_of_str = str(self.selected_texts[item]).split()\n",
        "\n",
        "    if is_search_b_in_a_possible(selected_text_list_of_str,review_list_of_str):\n",
        "\n",
        "      review = str(self.reviews[item])\n",
        "      selected_text = str(self.selected_texts[item])\n",
        "      target = self.targets[item]\n",
        "\n",
        "    else: \n",
        "      review = str(self.reviews[0])\n",
        "      selected_text = str(self.selected_texts[0])\n",
        "      target = self.targets[0]\n",
        "  \n",
        "    encoding_text = self.tokenizer.encode_plus(\n",
        "      review,\n",
        "      add_special_tokens=True,\n",
        "      max_length= self.max_len, #maximum number of tokens in a sequence. Pad to a maximum length specified with the argument max_length or to the maximum acceptable input length for the model if that argument is not provided.\n",
        "      return_token_type_ids=False,\n",
        "      pad_to_max_length=True, \n",
        "      return_attention_mask=True,\n",
        "      return_tensors='pt',\n",
        "    )\n",
        "\n",
        "    # we add a non paded selected text\n",
        "    encoding_selected_text = self.tokenizer.encode_plus(\n",
        "      selected_text,\n",
        "      add_special_tokens=False,\n",
        "      max_length= self.max_len, #maximum number of tokens in a sequence. Pad to a maximum length specified with the argument max_length or to the maximum acceptable input length for the model if that argument is not provided.\n",
        "      return_token_type_ids=False,\n",
        "      pad_to_max_length=False, \n",
        "      return_attention_mask=True,\n",
        "      return_tensors='pt',\n",
        "    )\n",
        "\n",
        "    # print(\"encoding\", encoding[\"input_ids\"].flatten())\n",
        "    # print(\"encoding_selected_text\", encoding_selected_text[\"input_ids\"].flatten())\n",
        "    # print(\"---- CREATING A TARGET OF SUPPORT VECTORS----\")\n",
        "    # print(\"review DataSet: \", review)\n",
        "    # print(\"selected_text DataSet: \", selected_text)\n",
        "    tokens_selected_text = list(encoding_selected_text[\"input_ids\"].flatten())\n",
        "    \n",
        "    tokens_text = list(encoding_text[\"input_ids\"].flatten())\n",
        "  \n",
        "    vector_support = create_vector_support(b = tokens_selected_text, a=tokens_text)\n",
        "    vector_support = torch.tensor(vector_support)\n",
        "\n",
        "    #print(vector_support)\n",
        "\n",
        "    return {\n",
        "      'review_text': review,\n",
        "      'selected_text':selected_text,\n",
        "      'input_ids': encoding_text['input_ids'].flatten(),\n",
        "      'attention_mask': encoding_text['attention_mask'].flatten(),\n",
        "      'target': torch.tensor(target, dtype=torch.long),\n",
        "      'target_support_vector' : vector_support\n",
        "           }\n"
      ],
      "id": "3bucsjIXIVvb",
      "execution_count": 18,
      "outputs": []
    },
    {
      "cell_type": "markdown",
      "metadata": {
        "id": "H63Y-TjyRC7S"
      },
      "source": [
        "## Model"
      ],
      "id": "H63Y-TjyRC7S"
    },
    {
      "cell_type": "code",
      "metadata": {
        "id": "m_mRflxPl32F"
      },
      "source": [
        "class SentimentClassifierAndWordsSupportsPredictor(nn.Module): #inherits from nn.Module, it is a neural network\n",
        "\n",
        "  def __init__(self, n_classes): #here we define the layers\n",
        "    super().__init__()\n",
        "    self.bert = BertModel.from_pretrained(PRE_TRAINED_MODEL_NAME, return_dict=False)\n",
        "    self.drop = nn.Dropout(p=0.3) \n",
        "    self.out = nn.Linear(self.bert.config.hidden_size, n_classes) #hidden_size = d = taille d'un word embedding en sortie du transformeur\n",
        "    self.word_vector_to_word_proba = nn.Linear(self.bert.config.hidden_size, 2)\n",
        "\n",
        "  def forward(self, input_ids, attention_mask): #here is where the calculus is actually done, where we connect the layers to form an computation graph\n",
        "    words_vectors, pooled_output = self.bert(\n",
        "      input_ids=input_ids,\n",
        "      attention_mask=attention_mask\n",
        "                                            )\n",
        "    \n",
        "    probas_words = self.word_vector_to_word_proba(words_vectors)\n",
        "    probas_words = probas_words.permute(0,2,1)\n",
        "    output = self.drop(pooled_output)\n",
        "    probas_doc = self.out(output)\n",
        "\n",
        "    return probas_doc, probas_words"
      ],
      "id": "m_mRflxPl32F",
      "execution_count": 21,
      "outputs": []
    },
    {
      "cell_type": "code",
      "metadata": {
        "id": "i0yQnuSFsjDp",
        "colab": {
          "base_uri": "https://localhost:8080/",
          "height": 114,
          "referenced_widgets": [
            "ee3aa702830541cfb8eb2f2a27aaebb2",
            "751664c5a58f4796ac016d4b15b6a84d",
            "77352374efe14847ba2060912cb1dc03",
            "fc1c8462f1854624b11bc5a9fb56f9a4",
            "2e72e574fe4d4de8873d3cc6cd81278c",
            "7b91af28be0f4aa7a80205d43f80b5c0",
            "29d0f409613e439a8f4d4d176826dee4",
            "58e04d7f8d114039baae23502a712afb",
            "08f16ab4e45241aca9b8d38a9ddd6b11",
            "cc446639b17443de9bfe5bf6b0e1e0c5",
            "45955966d06942fd970b1fc845ca3ab4",
            "b5b9dacded5f47b5b9806f51f5ebf9d6",
            "92c172cc44054f359a50704307d86ba2",
            "86e57ff86e6e4189a9136cd04f664877",
            "40497781de8245619768d39fe2b164ff",
            "506e90ae854740a19c26c0739c1c9581"
          ]
        },
        "outputId": "7b814b33-55c3-419b-d12f-aec8f5b921d3"
      },
      "source": [
        "model = SentimentClassifierAndWordsSupportsPredictor(n_classes=3)\n",
        "model = model.to(device)"
      ],
      "id": "i0yQnuSFsjDp",
      "execution_count": 22,
      "outputs": [
        {
          "output_type": "display_data",
          "data": {
            "application/vnd.jupyter.widget-view+json": {
              "model_id": "ee3aa702830541cfb8eb2f2a27aaebb2",
              "version_minor": 0,
              "version_major": 2
            },
            "text/plain": [
              "HBox(children=(FloatProgress(value=0.0, description='Downloading', max=570.0, style=ProgressStyle(description_…"
            ]
          },
          "metadata": {
            "tags": []
          }
        },
        {
          "output_type": "stream",
          "text": [
            "\n"
          ],
          "name": "stdout"
        },
        {
          "output_type": "display_data",
          "data": {
            "application/vnd.jupyter.widget-view+json": {
              "model_id": "08f16ab4e45241aca9b8d38a9ddd6b11",
              "version_minor": 0,
              "version_major": 2
            },
            "text/plain": [
              "HBox(children=(FloatProgress(value=0.0, description='Downloading', max=435779157.0, style=ProgressStyle(descri…"
            ]
          },
          "metadata": {
            "tags": []
          }
        },
        {
          "output_type": "stream",
          "text": [
            "\n"
          ],
          "name": "stdout"
        }
      ]
    },
    {
      "cell_type": "markdown",
      "metadata": {
        "id": "g9xikRdtRN1N"
      },
      "source": [
        "## Training"
      ],
      "id": "g9xikRdtRN1N"
    },
    {
      "cell_type": "markdown",
      "metadata": {
        "id": "-z-Nqa3ET1Qg"
      },
      "source": [
        "#### train and eval block function"
      ],
      "id": "-z-Nqa3ET1Qg"
    },
    {
      "cell_type": "code",
      "metadata": {
        "id": "DOccoxSy7s0o"
      },
      "source": [
        "def train_epoch(\n",
        "  model, \n",
        "  data_loader, \n",
        "  loss_fn,\n",
        "  optimizer, \n",
        "  device, \n",
        "  scheduler, \n",
        "  n_examples\n",
        "):\n",
        "\n",
        "  model = model.train()\n",
        "  losses = []\n",
        "  correct_predictions = 0\n",
        "  \n",
        "  for b in data_loader:\n",
        "    # print(\"--NEW BATCH--\")\n",
        "    # print(b[\"review_text\"])\n",
        "    # print(b[\"target_support_vector\"])\n",
        "\n",
        "    input_ids = b[\"input_ids\"].to(device)\n",
        "    attention_mask = b[\"attention_mask\"].to(device)\n",
        "    target = b[\"target\"].to(device)\n",
        "    target_support_vector = b[\"target_support_vector\"].to(device)\n",
        "   \n",
        "    probas_doc,probas_words = model(\n",
        "      input_ids=input_ids,\n",
        "      attention_mask=attention_mask)\n",
        "    \n",
        "    _, preds = torch.max(probas_doc, dim=1)\n",
        "\n",
        "    loss = .5*( loss_fn(probas_doc, target) + loss_fn(probas_words, target_support_vector)\n",
        "               )\n",
        "\n",
        "    correct_predictions += torch.sum(preds == target)\n",
        "    \n",
        "    losses.append(loss.item())\n",
        "\n",
        "    loss.backward()\n",
        "    nn.utils.clip_grad_norm_(model.parameters(), max_norm=1.0)\n",
        "    optimizer.step()\n",
        "    scheduler.step()\n",
        "    optimizer.zero_grad()\n",
        "\n",
        "  return correct_predictions.double() / n_examples, np.mean(losses)"
      ],
      "id": "DOccoxSy7s0o",
      "execution_count": 151,
      "outputs": []
    },
    {
      "cell_type": "code",
      "metadata": {
        "id": "CXeRorVGIKre"
      },
      "source": [
        "def eval_model(model, data_loader, loss_fn, device, n_examples):\n",
        "  model = model.eval()\n",
        "\n",
        "  losses = []\n",
        "  correct_predictions = 0\n",
        "\n",
        "  with torch.no_grad():\n",
        "\n",
        "    for b in data_loader:\n",
        "      # print(\"--NEW BATCH--\")\n",
        "      # print(b[\"review_text\"])\n",
        "      # print(b[\"target_support_vector\"])\n",
        "\n",
        "      input_ids = b[\"input_ids\"].to(device)\n",
        "      attention_mask = b[\"attention_mask\"].to(device)\n",
        "      target = b[\"target\"].to(device)\n",
        "      target_support_vector = b[\"target_support_vector\"].to(device)\n",
        "\n",
        "      probas_doc,probas_words = model(\n",
        "      input_ids=input_ids,\n",
        "      attention_mask=attention_mask)\n",
        "\n",
        "      _, preds = torch.max(probas_doc, dim=1)\n",
        "\n",
        "      loss = .5*( loss_fn(probas_doc, target) + loss_fn(probas_words, target_support_vector)\n",
        "                 )\n",
        "\n",
        "      correct_predictions += torch.sum(preds == target)\n",
        "\n",
        "      losses.append(loss.item())\n",
        "\n",
        "  return correct_predictions.double() / n_examples, np.mean(losses)"
      ],
      "id": "CXeRorVGIKre",
      "execution_count": 152,
      "outputs": []
    },
    {
      "cell_type": "markdown",
      "metadata": {
        "id": "2NZvk6SjNXvA"
      },
      "source": [
        "### Training and evaluation"
      ],
      "id": "2NZvk6SjNXvA"
    },
    {
      "cell_type": "code",
      "metadata": {
        "id": "vODDxMKsPHqI",
        "colab": {
          "base_uri": "https://localhost:8080/"
        },
        "outputId": "1f36269c-38d1-4631-8014-96c2eadc4ebb"
      },
      "source": [
        "BATCH_SIZE = 1 #mini batch gradient descent (vs stochastic gradient descent : batch SIZE = 1)\n",
        "\n",
        "train_data_loader = create_data_loader(df_train, tokenizer, MAX_LEN, BATCH_SIZE) #surcouche du dataset pour faire les batchs\n",
        "val_data_loader = create_data_loader(df_val, tokenizer, MAX_LEN, BATCH_SIZE)\n",
        "test_data_loader = create_data_loader(df_test, tokenizer, MAX_LEN, BATCH_SIZE)"
      ],
      "id": "vODDxMKsPHqI",
      "execution_count": 193,
      "outputs": [
        {
          "output_type": "stream",
          "text": [
            "/usr/local/lib/python3.7/dist-packages/torch/utils/data/dataloader.py:477: UserWarning: This DataLoader will create 4 worker processes in total. Our suggested max number of worker in current system is 2, which is smaller than what this DataLoader is going to create. Please be aware that excessive worker creation might get DataLoader running slow or even freeze, lower the worker number to avoid potential slowness/freeze if necessary.\n",
            "  cpuset_checked))\n"
          ],
          "name": "stderr"
        }
      ]
    },
    {
      "cell_type": "code",
      "metadata": {
        "id": "5v-ArJ2fCCcU"
      },
      "source": [
        "EPOCHS = 2\n",
        "\n",
        "optimizer = AdamW(model.parameters(), lr=2e-5, correct_bias=False)\n",
        "total_steps = len(train_data_loader) * EPOCHS\n",
        "\n",
        "scheduler = get_linear_schedule_with_warmup(\n",
        "  optimizer,\n",
        "  num_warmup_steps=0,\n",
        "  num_training_steps=total_steps\n",
        ")\n",
        "\n",
        "loss_fn = nn.CrossEntropyLoss().to(device)"
      ],
      "id": "5v-ArJ2fCCcU",
      "execution_count": 194,
      "outputs": []
    },
    {
      "cell_type": "markdown",
      "metadata": {
        "id": "a_rdSDBHhhCh"
      },
      "source": [
        "Using those two, we can write our training loop. We'll also store the training history:"
      ],
      "id": "a_rdSDBHhhCh"
    },
    {
      "cell_type": "code",
      "metadata": {
        "id": "1zhHoFNsxufs",
        "colab": {
          "base_uri": "https://localhost:8080/"
        },
        "outputId": "a8d5c82c-58a1-4dc1-d036-874749d805ed"
      },
      "source": [
        "%%time\n",
        "\n",
        "history = defaultdict(list)\n",
        "best_accuracy = 0\n",
        "\n",
        "for epoch in range(EPOCHS):\n",
        "\n",
        "  print(f'Epoch {epoch + 1}/{EPOCHS}')\n",
        "  print('-' * 10)\n",
        "\n",
        "  print(\"------TRAINING-------\")\n",
        "  \n",
        "  train_acc, train_loss = train_epoch(\n",
        "    model,\n",
        "    train_data_loader,    \n",
        "    loss_fn,\n",
        "    optimizer, \n",
        "    device, \n",
        "    scheduler, \n",
        "    len(df_train)\n",
        "  )\n",
        "\n",
        "  print(f'Train loss {train_loss} accuracy {train_acc}')\n",
        "\n",
        "\n",
        "  print(\"------EVALUATION-------\")  \n",
        "  \n",
        "  val_acc, val_loss = eval_model(\n",
        "    model,\n",
        "    val_data_loader,\n",
        "    loss_fn,\n",
        "    device, \n",
        "    len(df_val)\n",
        "  )\n",
        "\n",
        "  print(f'Val   loss {val_loss} accuracy {val_acc}')\n",
        "  \n",
        "\n",
        "  history['train_acc'].append(train_acc)\n",
        "  history['train_loss'].append(train_loss)\n",
        "  history['val_acc'].append(val_acc)\n",
        "  history['val_loss'].append(val_loss)\n",
        "\n",
        "  if val_acc > best_accuracy:\n",
        "    torch.save(model.state_dict(), 'best_model_state.bin')\n",
        "    best_accuracy = val_acc"
      ],
      "id": "1zhHoFNsxufs",
      "execution_count": 195,
      "outputs": [
        {
          "output_type": "stream",
          "text": [
            "Epoch 1/2\n",
            "----------\n",
            "------TRAINING-------\n"
          ],
          "name": "stdout"
        },
        {
          "output_type": "stream",
          "text": [
            "/usr/local/lib/python3.7/dist-packages/torch/utils/data/dataloader.py:477: UserWarning: This DataLoader will create 4 worker processes in total. Our suggested max number of worker in current system is 2, which is smaller than what this DataLoader is going to create. Please be aware that excessive worker creation might get DataLoader running slow or even freeze, lower the worker number to avoid potential slowness/freeze if necessary.\n",
            "  cpuset_checked))\n",
            "/usr/local/lib/python3.7/dist-packages/transformers/tokenization_utils_base.py:2079: FutureWarning: The `pad_to_max_length` argument is deprecated and will be removed in a future version, use `padding=True` or `padding='longest'` to pad to the longest sequence in the batch, or use `padding='max_length'` to pad to a max length. In this case, you can give a specific length with `max_length` (e.g. `max_length=45`) or leave max_length to None to pad to the maximal input size of the model (e.g. 512 for Bert).\n",
            "  FutureWarning,\n",
            "/usr/local/lib/python3.7/dist-packages/transformers/tokenization_utils_base.py:2079: FutureWarning: The `pad_to_max_length` argument is deprecated and will be removed in a future version, use `padding=True` or `padding='longest'` to pad to the longest sequence in the batch, or use `padding='max_length'` to pad to a max length. In this case, you can give a specific length with `max_length` (e.g. `max_length=45`) or leave max_length to None to pad to the maximal input size of the model (e.g. 512 for Bert).\n",
            "  FutureWarning,\n",
            "/usr/local/lib/python3.7/dist-packages/transformers/tokenization_utils_base.py:2079: FutureWarning: The `pad_to_max_length` argument is deprecated and will be removed in a future version, use `padding=True` or `padding='longest'` to pad to the longest sequence in the batch, or use `padding='max_length'` to pad to a max length. In this case, you can give a specific length with `max_length` (e.g. `max_length=45`) or leave max_length to None to pad to the maximal input size of the model (e.g. 512 for Bert).\n",
            "  FutureWarning,\n",
            "/usr/local/lib/python3.7/dist-packages/transformers/tokenization_utils_base.py:2079: FutureWarning: The `pad_to_max_length` argument is deprecated and will be removed in a future version, use `padding=True` or `padding='longest'` to pad to the longest sequence in the batch, or use `padding='max_length'` to pad to a max length. In this case, you can give a specific length with `max_length` (e.g. `max_length=45`) or leave max_length to None to pad to the maximal input size of the model (e.g. 512 for Bert).\n",
            "  FutureWarning,\n"
          ],
          "name": "stderr"
        },
        {
          "output_type": "stream",
          "text": [
            "Train loss 0.9560712606155288 accuracy 0.572972972972973\n",
            "------EVALUATION-------\n"
          ],
          "name": "stdout"
        },
        {
          "output_type": "stream",
          "text": [
            "/usr/local/lib/python3.7/dist-packages/transformers/tokenization_utils_base.py:2079: FutureWarning: The `pad_to_max_length` argument is deprecated and will be removed in a future version, use `padding=True` or `padding='longest'` to pad to the longest sequence in the batch, or use `padding='max_length'` to pad to a max length. In this case, you can give a specific length with `max_length` (e.g. `max_length=45`) or leave max_length to None to pad to the maximal input size of the model (e.g. 512 for Bert).\n",
            "  FutureWarning,\n",
            "/usr/local/lib/python3.7/dist-packages/transformers/tokenization_utils_base.py:2079: FutureWarning: The `pad_to_max_length` argument is deprecated and will be removed in a future version, use `padding=True` or `padding='longest'` to pad to the longest sequence in the batch, or use `padding='max_length'` to pad to a max length. In this case, you can give a specific length with `max_length` (e.g. `max_length=45`) or leave max_length to None to pad to the maximal input size of the model (e.g. 512 for Bert).\n",
            "  FutureWarning,\n",
            "/usr/local/lib/python3.7/dist-packages/transformers/tokenization_utils_base.py:2079: FutureWarning: The `pad_to_max_length` argument is deprecated and will be removed in a future version, use `padding=True` or `padding='longest'` to pad to the longest sequence in the batch, or use `padding='max_length'` to pad to a max length. In this case, you can give a specific length with `max_length` (e.g. `max_length=45`) or leave max_length to None to pad to the maximal input size of the model (e.g. 512 for Bert).\n",
            "  FutureWarning,\n",
            "/usr/local/lib/python3.7/dist-packages/transformers/tokenization_utils_base.py:2079: FutureWarning: The `pad_to_max_length` argument is deprecated and will be removed in a future version, use `padding=True` or `padding='longest'` to pad to the longest sequence in the batch, or use `padding='max_length'` to pad to a max length. In this case, you can give a specific length with `max_length` (e.g. `max_length=45`) or leave max_length to None to pad to the maximal input size of the model (e.g. 512 for Bert).\n",
            "  FutureWarning,\n"
          ],
          "name": "stderr"
        },
        {
          "output_type": "stream",
          "text": [
            "Val   loss 0.5368038552502791 accuracy 0.7142857142857143\n",
            "Epoch 2/2\n",
            "----------\n",
            "------TRAINING-------\n"
          ],
          "name": "stdout"
        },
        {
          "output_type": "stream",
          "text": [
            "/usr/local/lib/python3.7/dist-packages/transformers/tokenization_utils_base.py:2079: FutureWarning: The `pad_to_max_length` argument is deprecated and will be removed in a future version, use `padding=True` or `padding='longest'` to pad to the longest sequence in the batch, or use `padding='max_length'` to pad to a max length. In this case, you can give a specific length with `max_length` (e.g. `max_length=45`) or leave max_length to None to pad to the maximal input size of the model (e.g. 512 for Bert).\n",
            "  FutureWarning,\n",
            "/usr/local/lib/python3.7/dist-packages/transformers/tokenization_utils_base.py:2079: FutureWarning: The `pad_to_max_length` argument is deprecated and will be removed in a future version, use `padding=True` or `padding='longest'` to pad to the longest sequence in the batch, or use `padding='max_length'` to pad to a max length. In this case, you can give a specific length with `max_length` (e.g. `max_length=45`) or leave max_length to None to pad to the maximal input size of the model (e.g. 512 for Bert).\n",
            "  FutureWarning,\n",
            "/usr/local/lib/python3.7/dist-packages/transformers/tokenization_utils_base.py:2079: FutureWarning: The `pad_to_max_length` argument is deprecated and will be removed in a future version, use `padding=True` or `padding='longest'` to pad to the longest sequence in the batch, or use `padding='max_length'` to pad to a max length. In this case, you can give a specific length with `max_length` (e.g. `max_length=45`) or leave max_length to None to pad to the maximal input size of the model (e.g. 512 for Bert).\n",
            "  FutureWarning,\n",
            "/usr/local/lib/python3.7/dist-packages/transformers/tokenization_utils_base.py:2079: FutureWarning: The `pad_to_max_length` argument is deprecated and will be removed in a future version, use `padding=True` or `padding='longest'` to pad to the longest sequence in the batch, or use `padding='max_length'` to pad to a max length. In this case, you can give a specific length with `max_length` (e.g. `max_length=45`) or leave max_length to None to pad to the maximal input size of the model (e.g. 512 for Bert).\n",
            "  FutureWarning,\n"
          ],
          "name": "stderr"
        },
        {
          "output_type": "stream",
          "text": [
            "Train loss 0.941074890508694 accuracy 0.6108108108108108\n",
            "------EVALUATION-------\n"
          ],
          "name": "stdout"
        },
        {
          "output_type": "stream",
          "text": [
            "/usr/local/lib/python3.7/dist-packages/transformers/tokenization_utils_base.py:2079: FutureWarning: The `pad_to_max_length` argument is deprecated and will be removed in a future version, use `padding=True` or `padding='longest'` to pad to the longest sequence in the batch, or use `padding='max_length'` to pad to a max length. In this case, you can give a specific length with `max_length` (e.g. `max_length=45`) or leave max_length to None to pad to the maximal input size of the model (e.g. 512 for Bert).\n",
            "  FutureWarning,\n",
            "/usr/local/lib/python3.7/dist-packages/transformers/tokenization_utils_base.py:2079: FutureWarning: The `pad_to_max_length` argument is deprecated and will be removed in a future version, use `padding=True` or `padding='longest'` to pad to the longest sequence in the batch, or use `padding='max_length'` to pad to a max length. In this case, you can give a specific length with `max_length` (e.g. `max_length=45`) or leave max_length to None to pad to the maximal input size of the model (e.g. 512 for Bert).\n",
            "  FutureWarning,\n",
            "/usr/local/lib/python3.7/dist-packages/transformers/tokenization_utils_base.py:2079: FutureWarning: The `pad_to_max_length` argument is deprecated and will be removed in a future version, use `padding=True` or `padding='longest'` to pad to the longest sequence in the batch, or use `padding='max_length'` to pad to a max length. In this case, you can give a specific length with `max_length` (e.g. `max_length=45`) or leave max_length to None to pad to the maximal input size of the model (e.g. 512 for Bert).\n",
            "  FutureWarning,\n",
            "/usr/local/lib/python3.7/dist-packages/transformers/tokenization_utils_base.py:2079: FutureWarning: The `pad_to_max_length` argument is deprecated and will be removed in a future version, use `padding=True` or `padding='longest'` to pad to the longest sequence in the batch, or use `padding='max_length'` to pad to a max length. In this case, you can give a specific length with `max_length` (e.g. `max_length=45`) or leave max_length to None to pad to the maximal input size of the model (e.g. 512 for Bert).\n",
            "  FutureWarning,\n"
          ],
          "name": "stderr"
        },
        {
          "output_type": "stream",
          "text": [
            "Val   loss 0.42614509422509445 accuracy 0.8095238095238095\n",
            "CPU times: user 22min 34s, sys: 44.8 s, total: 23min 19s\n",
            "Wall time: 23min 20s\n"
          ],
          "name": "stdout"
        }
      ]
    },
    {
      "cell_type": "code",
      "metadata": {
        "id": "-FWG7kBm372V",
        "colab": {
          "base_uri": "https://localhost:8080/",
          "height": 0
        },
        "outputId": "94883a59-1a60-4ac9-a4eb-e3298c0b5f2f"
      },
      "source": [
        "plt.plot(history['train_acc'], label='train accuracy')\n",
        "plt.plot(history['val_acc'], label='validation accuracy')\n",
        "\n",
        "plt.title('Training history')\n",
        "plt.ylabel('Accuracy')\n",
        "plt.xlabel('Epoch')\n",
        "plt.legend()\n",
        "plt.ylim([0, 1])\n",
        "plt.xlim([-1, 3])"
      ],
      "id": "-FWG7kBm372V",
      "execution_count": 197,
      "outputs": [
        {
          "output_type": "execute_result",
          "data": {
            "text/plain": [
              "(-1.0, 3.0)"
            ]
          },
          "metadata": {
            "tags": []
          },
          "execution_count": 197
        },
        {
          "output_type": "display_data",
          "data": {
            "image/png": "[encoded data removed]",
            "text/plain": [
              "<Figure size 864x576 with 1 Axes>"
            ]
          },
          "metadata": {
            "tags": [],
            "image/png": {
              "width": 742,
              "height": 506
            }
          }
        }
      ]
    },
    {
      "cell_type": "markdown",
      "metadata": {
        "id": "U3HZb3NWFtFf"
      },
      "source": [
        "## Evaluation\n"
      ],
      "id": "U3HZb3NWFtFf"
    },
    {
      "cell_type": "code",
      "metadata": {
        "id": "3DzP7Rz65SzN"
      },
      "source": [
        "def get_predictions_for_word_support(model, data_loader):\n",
        "  \n",
        "  tweets = []\n",
        "  real_supporting_words = [] \n",
        "  real_supporting_vectors = [] \n",
        "\n",
        "  predictions_supporting_words = [] \n",
        "  predictions_supporting_vectors =[]\n",
        "  predictions_supporting_probas = []\n",
        "\n",
        "\n",
        "  with torch.no_grad():\n",
        "\n",
        "    for b in train_data_loader: \n",
        "      tweet = b[\"review_text\"]\n",
        "      real_supporting_word = b[\"selected_text\"]\n",
        "      real_supporting_vector = b[\"target_support_vector\"].to(device)\n",
        "      input_ids = b[\"input_ids\"].to(device)\n",
        "      attention_mask = b[\"attention_mask\"].to(device)\n",
        "        \n",
        "      \n",
        "      probas_doc,probas_words = model(\n",
        "      input_ids=input_ids,\n",
        "      attention_mask=attention_mask)\n",
        "\n",
        "      probs_word_support_normalized = F.softmax(probas_words, dim=1).reshape(2,70)\n",
        "      preds_word_support_class1 = probs_word_support_normalized[1] > .5\n",
        "      prediction_supporting_vector = torch.reshape(preds_word_support_class1,(1,70))\n",
        "      prediction_supporting_words = tokenizer.batch_decode(input_ids[prediction_supporting_vector == 1])\n",
        "      prediction_supporting_words= ['--'.join(prediction_supporting_words)]\n",
        "\n",
        "      tweets.extend(tweet)\n",
        "      real_supporting_words.extend(real_supporting_word)\n",
        "      real_supporting_vectors.extend(real_supporting_vector) \n",
        "      predictions_supporting_words.extend(prediction_supporting_words)\n",
        "      predictions_supporting_vectors.extend(prediction_supporting_vector)\n",
        "      predictions_supporting_probas.extend(probs_word_support_normalized[1])\n",
        "      \n",
        "\n",
        "  real_supporting_vectors = torch.stack(real_supporting_vectors).cpu()\n",
        "  predictions_supporting_vectors = torch.stack(predictions_supporting_vectors).cpu()\n",
        "  predictions_supporting_probas = torch.stack(predictions_supporting_probas).cpu()\n",
        "  \n",
        "  return tweets, real_supporting_words, real_supporting_vectors, predictions_supporting_words, predictions_supporting_probas, predictions_supporting_vectors"
      ],
      "id": "3DzP7Rz65SzN",
      "execution_count": 202,
      "outputs": []
    },
    {
      "cell_type": "code",
      "metadata": {
        "id": "1pznxxsHZR8z"
      },
      "source": [
        "tweets,real_supporting_words,real_supporting_vectors,predictions_supporting_words,predictions_supporting_probas,predictions_supporting_vectors =get_predictions_for_word_support(model,test_data_loader)"
      ],
      "id": "1pznxxsHZR8z",
      "execution_count": null,
      "outputs": []
    },
    {
      "cell_type": "markdown",
      "metadata": {
        "id": "s2xgVV2pVvTL"
      },
      "source": [
        "### Quantitative evaluation : Jacquard Index"
      ],
      "id": "s2xgVV2pVvTL"
    },
    {
      "cell_type": "code",
      "metadata": {
        "colab": {
          "base_uri": "https://localhost:8080/"
        },
        "id": "RlzwALVi3ZDT",
        "outputId": "abd823a2-df93-43b1-e217-0f017933cefa"
      },
      "source": [
        "inputs = predictions_supporting_vectors\n",
        "targets = real_supporting_vectors\n",
        "smooth = 1\n",
        "\n",
        "intersection = (inputs * targets).sum()\n",
        "total = (inputs + targets).sum()\n",
        "union = total - intersection \n",
        "IoU = (intersection + smooth)/(union + smooth)\n",
        "print(\"Jacquard Index=\",IoU)"
      ],
      "id": "RlzwALVi3ZDT",
      "execution_count": 206,
      "outputs": [
        {
          "output_type": "stream",
          "text": [
            "Jacquard Index= tensor(0.6740)\n"
          ],
          "name": "stdout"
        }
      ]
    },
    {
      "cell_type": "markdown",
      "metadata": {
        "id": "mPnAZVX-rp6G"
      },
      "source": [
        "### Qualitative evaluation"
      ],
      "id": "mPnAZVX-rp6G"
    },
    {
      "cell_type": "code",
      "metadata": {
        "colab": {
          "base_uri": "https://localhost:8080/",
          "height": 435
        },
        "id": "EXj9ozZgG7jX",
        "outputId": "717aa32a-a1ab-49b4-db22-845f6892c7c6"
      },
      "source": [
        "df_eval = pd.concat([pd.Series(tweets), pd.Series(real_supporting_words), pd.Series(predictions_supporting_words)], axis = 1)\n",
        "df_eval.columns = [\"tweets\",\"real_supporting_words\",\"predictions_supporting_words\"]\n",
        "type(df_eval)\n",
        "df_eval"
      ],
      "id": "EXj9ozZgG7jX",
      "execution_count": 207,
      "outputs": [
        {
          "output_type": "execute_result",
          "data": {
            "text/html": [
              "<div>\n",
              "<style scoped>\n",
              "    .dataframe tbody tr th:only-of-type {\n",
              "        vertical-align: middle;\n",
              "    }\n",
              "\n",
              "    .dataframe tbody tr th {\n",
              "        vertical-align: top;\n",
              "    }\n",
              "\n",
              "    .dataframe thead th {\n",
              "        text-align: right;\n",
              "    }\n",
              "</style>\n",
              "<table border=\"1\" class=\"dataframe\">\n",
              "  <thead>\n",
              "    <tr style=\"text-align: right;\">\n",
              "      <th></th>\n",
              "      <th>tweets</th>\n",
              "      <th>real_supporting_words</th>\n",
              "      <th>predictions_supporting_words</th>\n",
              "    </tr>\n",
              "  </thead>\n",
              "  <tbody>\n",
              "    <tr>\n",
              "      <th>0</th>\n",
              "      <td>Is also having a lonely night.... Wishing she ...</td>\n",
              "      <td>Is also having a lonely night.... Wishing she ...</td>\n",
              "      <td>I s--a l s o--h a v i n g--a--l o n e l y--n i...</td>\n",
              "    </tr>\n",
              "    <tr>\n",
              "      <th>1</th>\n",
              "      <td>watching the original sabrina the teenage witc...</td>\n",
              "      <td>so rad</td>\n",
              "      <td>w a t c h i n g--t h e--o r i g i n a l--s a--...</td>\n",
              "    </tr>\n",
              "    <tr>\n",
              "      <th>2</th>\n",
              "      <td>Is also having a lonely night.... Wishing she ...</td>\n",
              "      <td>Is also having a lonely night.... Wishing she ...</td>\n",
              "      <td>I s--a l s o--h a v i n g--a--l o n e l y--n i...</td>\n",
              "    </tr>\n",
              "    <tr>\n",
              "      <th>3</th>\n",
              "      <td>HAPPY MOTHERS DAY!</td>\n",
              "      <td>HAPPY MOTHERS DAY!</td>\n",
              "      <td>H--# # A P--# # P--# # Y--M--# # O T--# # H--#...</td>\n",
              "    </tr>\n",
              "    <tr>\n",
              "      <th>4</th>\n",
              "      <td>Wow, such a crazy night of ever changing emoti...</td>\n",
              "      <td>I liked it tho</td>\n",
              "      <td>W o w--I--l i k e d</td>\n",
              "    </tr>\n",
              "    <tr>\n",
              "      <th>...</th>\n",
              "      <td>...</td>\n",
              "      <td>...</td>\n",
              "      <td>...</td>\n",
              "    </tr>\n",
              "    <tr>\n",
              "      <th>365</th>\n",
              "      <td>John ohh, I like you. Like, Like-Like you.  B...</td>\n",
              "      <td>like</td>\n",
              "      <td>J o h n--o h--# # h--,--I--l i k e--y o u--.--...</td>\n",
              "    </tr>\n",
              "    <tr>\n",
              "      <th>366</th>\n",
              "      <td>I want to know who is that ??.6  I tried to a...</td>\n",
              "      <td>I want to know who is that ??.6  I tried to as...</td>\n",
              "      <td>I--w a n t--t o--k n o w--w h o--i s--t h a t-...</td>\n",
              "    </tr>\n",
              "    <tr>\n",
              "      <th>367</th>\n",
              "      <td>Its so sunny outside, and I have no one to go ...</td>\n",
              "      <td>Its so sunny outside, and I have no one to go ...</td>\n",
              "      <td>I t s--s o--s u n n y--o u t s i d e--,--a n d...</td>\n",
              "    </tr>\n",
              "    <tr>\n",
              "      <th>368</th>\n",
              "      <td>kate is leaving me all by my lonesome</td>\n",
              "      <td>lonesome</td>\n",
              "      <td>k a--# # t e--i s--l e a v i n g--m e--a l l--...</td>\n",
              "    </tr>\n",
              "    <tr>\n",
              "      <th>369</th>\n",
              "      <td>ugh, not sure i have the patience or remaining...</td>\n",
              "      <td>intelligence</td>\n",
              "      <td>u--# # g h--,--n o t--s u r e--i--h a v e--t h...</td>\n",
              "    </tr>\n",
              "  </tbody>\n",
              "</table>\n",
              "<p>370 rows × 3 columns</p>\n",
              "</div>"
            ],
            "text/plain": [
              "                                                tweets  ...                       predictions_supporting_words\n",
              "0    Is also having a lonely night.... Wishing she ...  ...  I s--a l s o--h a v i n g--a--l o n e l y--n i...\n",
              "1    watching the original sabrina the teenage witc...  ...  w a t c h i n g--t h e--o r i g i n a l--s a--...\n",
              "2    Is also having a lonely night.... Wishing she ...  ...  I s--a l s o--h a v i n g--a--l o n e l y--n i...\n",
              "3                                   HAPPY MOTHERS DAY!  ...  H--# # A P--# # P--# # Y--M--# # O T--# # H--#...\n",
              "4    Wow, such a crazy night of ever changing emoti...  ...                                W o w--I--l i k e d\n",
              "..                                                 ...  ...                                                ...\n",
              "365   John ohh, I like you. Like, Like-Like you.  B...  ...  J o h n--o h--# # h--,--I--l i k e--y o u--.--...\n",
              "366   I want to know who is that ??.6  I tried to a...  ...  I--w a n t--t o--k n o w--w h o--i s--t h a t-...\n",
              "367  Its so sunny outside, and I have no one to go ...  ...  I t s--s o--s u n n y--o u t s i d e--,--a n d...\n",
              "368              kate is leaving me all by my lonesome  ...  k a--# # t e--i s--l e a v i n g--m e--a l l--...\n",
              "369  ugh, not sure i have the patience or remaining...  ...  u--# # g h--,--n o t--s u r e--i--h a v e--t h...\n",
              "\n",
              "[370 rows x 3 columns]"
            ]
          },
          "metadata": {
            "tags": []
          },
          "execution_count": 207
        }
      ]
    }
  ]
}